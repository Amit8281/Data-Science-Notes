{
 "cells": [
  {
   "cell_type": "markdown",
   "id": "e7ed22c2",
   "metadata": {},
   "source": [
    "# Apply function"
   ]
  },
  {
   "cell_type": "code",
   "execution_count": 1,
   "id": "8bf2822c",
   "metadata": {},
   "outputs": [],
   "source": [
    "import pandas as pd\n",
    "import numpy as np\n",
    "import warnings\n",
    "warnings.filterwarnings('ignore')"
   ]
  },
  {
   "cell_type": "code",
   "execution_count": 2,
   "id": "74c6bb87",
   "metadata": {},
   "outputs": [
    {
     "data": {
      "text/html": [
       "<div>\n",
       "<style scoped>\n",
       "    .dataframe tbody tr th:only-of-type {\n",
       "        vertical-align: middle;\n",
       "    }\n",
       "\n",
       "    .dataframe tbody tr th {\n",
       "        vertical-align: top;\n",
       "    }\n",
       "\n",
       "    .dataframe thead th {\n",
       "        text-align: right;\n",
       "    }\n",
       "</style>\n",
       "<table border=\"1\" class=\"dataframe\">\n",
       "  <thead>\n",
       "    <tr style=\"text-align: right;\">\n",
       "      <th></th>\n",
       "      <th>Dept</th>\n",
       "      <th>Emp_Name</th>\n",
       "      <th>Salary</th>\n",
       "    </tr>\n",
       "  </thead>\n",
       "  <tbody>\n",
       "    <tr>\n",
       "      <th>0</th>\n",
       "      <td>1</td>\n",
       "      <td>Rajesh</td>\n",
       "      <td>4944</td>\n",
       "    </tr>\n",
       "    <tr>\n",
       "      <th>1</th>\n",
       "      <td>2</td>\n",
       "      <td>Shankar</td>\n",
       "      <td>5455</td>\n",
       "    </tr>\n",
       "    <tr>\n",
       "      <th>2</th>\n",
       "      <td>3</td>\n",
       "      <td>Sindhu</td>\n",
       "      <td>6166</td>\n",
       "    </tr>\n",
       "    <tr>\n",
       "      <th>3</th>\n",
       "      <td>4</td>\n",
       "      <td>Akshay</td>\n",
       "      <td>4044</td>\n",
       "    </tr>\n",
       "    <tr>\n",
       "      <th>4</th>\n",
       "      <td>5</td>\n",
       "      <td>Vivan</td>\n",
       "      <td>3433</td>\n",
       "    </tr>\n",
       "    <tr>\n",
       "      <th>5</th>\n",
       "      <td>6</td>\n",
       "      <td>Monika</td>\n",
       "      <td>2922</td>\n",
       "    </tr>\n",
       "    <tr>\n",
       "      <th>6</th>\n",
       "      <td>7</td>\n",
       "      <td>Salman</td>\n",
       "      <td>6466</td>\n",
       "    </tr>\n",
       "    <tr>\n",
       "      <th>7</th>\n",
       "      <td>8</td>\n",
       "      <td>Aisha</td>\n",
       "      <td>7977</td>\n",
       "    </tr>\n",
       "    <tr>\n",
       "      <th>8</th>\n",
       "      <td>9</td>\n",
       "      <td>Remo</td>\n",
       "      <td>6766</td>\n",
       "    </tr>\n",
       "    <tr>\n",
       "      <th>9</th>\n",
       "      <td>10</td>\n",
       "      <td>Amitabh</td>\n",
       "      <td>5155</td>\n",
       "    </tr>\n",
       "  </tbody>\n",
       "</table>\n",
       "</div>"
      ],
      "text/plain": [
       "   Dept Emp_Name  Salary\n",
       "0     1   Rajesh    4944\n",
       "1     2  Shankar    5455\n",
       "2     3   Sindhu    6166\n",
       "3     4   Akshay    4044\n",
       "4     5    Vivan    3433\n",
       "5     6   Monika    2922\n",
       "6     7   Salman    6466\n",
       "7     8    Aisha    7977\n",
       "8     9     Remo    6766\n",
       "9    10  Amitabh    5155"
      ]
     },
     "execution_count": 2,
     "metadata": {},
     "output_type": "execute_result"
    }
   ],
   "source": [
    "df = pd.DataFrame({'Dept':[1,2,3,4,5,6,7,8,9,10],\n",
    "                    'Emp_Name':['Rajesh','Shankar','Sindhu','Akshay','Vivan','Monika','Salman','Aisha','Remo','Amitabh'],\n",
    "                    'Salary': [4944,5455,6166,4044,3433,2922,6466,7977,6766,5155]})\n",
    "df"
   ]
  },
  {
   "cell_type": "code",
   "execution_count": 3,
   "id": "3f7819db",
   "metadata": {},
   "outputs": [],
   "source": [
    "#define a function\n",
    "def salary_hike(x):\n",
    "    if(x>3000):\n",
    "        return np.ceil(x+(x*.30))\n",
    "    else:\n",
    "        return np.ceil(x*1.5)"
   ]
  },
  {
   "cell_type": "code",
   "execution_count": 4,
   "id": "56d8a05f",
   "metadata": {},
   "outputs": [
    {
     "name": "stdout",
     "output_type": "stream",
     "text": [
      "   Dept Emp_Name  Salary  New_Salary\n",
      "0     1   Rajesh    4944      6428.0\n",
      "1     2  Shankar    5455      7092.0\n",
      "2     3   Sindhu    6166      8016.0\n",
      "3     4   Akshay    4044      5258.0\n",
      "4     5    Vivan    3433      4463.0\n",
      "5     6   Monika    2922      4383.0\n",
      "6     7   Salman    6466      8406.0\n",
      "7     8    Aisha    7977     10371.0\n",
      "8     9     Remo    6766      8796.0\n",
      "9    10  Amitabh    5155      6702.0\n"
     ]
    }
   ],
   "source": [
    "df['New_Salary'] = df['Salary'].apply(salary_hike)\n",
    "print(df)"
   ]
  },
  {
   "cell_type": "code",
   "execution_count": 5,
   "id": "0fb45c23",
   "metadata": {},
   "outputs": [
    {
     "data": {
      "text/html": [
       "<div>\n",
       "<style scoped>\n",
       "    .dataframe tbody tr th:only-of-type {\n",
       "        vertical-align: middle;\n",
       "    }\n",
       "\n",
       "    .dataframe tbody tr th {\n",
       "        vertical-align: top;\n",
       "    }\n",
       "\n",
       "    .dataframe thead th {\n",
       "        text-align: right;\n",
       "    }\n",
       "</style>\n",
       "<table border=\"1\" class=\"dataframe\">\n",
       "  <thead>\n",
       "    <tr style=\"text-align: right;\">\n",
       "      <th></th>\n",
       "      <th>Dept</th>\n",
       "      <th>Emp_Name</th>\n",
       "      <th>Salary</th>\n",
       "      <th>New_Salary</th>\n",
       "      <th>Increased_Salary</th>\n",
       "    </tr>\n",
       "  </thead>\n",
       "  <tbody>\n",
       "    <tr>\n",
       "      <th>0</th>\n",
       "      <td>1</td>\n",
       "      <td>Rajesh</td>\n",
       "      <td>4944</td>\n",
       "      <td>6428.0</td>\n",
       "      <td>1484.0</td>\n",
       "    </tr>\n",
       "    <tr>\n",
       "      <th>1</th>\n",
       "      <td>2</td>\n",
       "      <td>Shankar</td>\n",
       "      <td>5455</td>\n",
       "      <td>7092.0</td>\n",
       "      <td>1637.0</td>\n",
       "    </tr>\n",
       "    <tr>\n",
       "      <th>2</th>\n",
       "      <td>3</td>\n",
       "      <td>Sindhu</td>\n",
       "      <td>6166</td>\n",
       "      <td>8016.0</td>\n",
       "      <td>1850.0</td>\n",
       "    </tr>\n",
       "    <tr>\n",
       "      <th>3</th>\n",
       "      <td>4</td>\n",
       "      <td>Akshay</td>\n",
       "      <td>4044</td>\n",
       "      <td>5258.0</td>\n",
       "      <td>1214.0</td>\n",
       "    </tr>\n",
       "    <tr>\n",
       "      <th>4</th>\n",
       "      <td>5</td>\n",
       "      <td>Vivan</td>\n",
       "      <td>3433</td>\n",
       "      <td>4463.0</td>\n",
       "      <td>1030.0</td>\n",
       "    </tr>\n",
       "    <tr>\n",
       "      <th>5</th>\n",
       "      <td>6</td>\n",
       "      <td>Monika</td>\n",
       "      <td>2922</td>\n",
       "      <td>4383.0</td>\n",
       "      <td>1461.0</td>\n",
       "    </tr>\n",
       "    <tr>\n",
       "      <th>6</th>\n",
       "      <td>7</td>\n",
       "      <td>Salman</td>\n",
       "      <td>6466</td>\n",
       "      <td>8406.0</td>\n",
       "      <td>1940.0</td>\n",
       "    </tr>\n",
       "    <tr>\n",
       "      <th>7</th>\n",
       "      <td>8</td>\n",
       "      <td>Aisha</td>\n",
       "      <td>7977</td>\n",
       "      <td>10371.0</td>\n",
       "      <td>2394.0</td>\n",
       "    </tr>\n",
       "    <tr>\n",
       "      <th>8</th>\n",
       "      <td>9</td>\n",
       "      <td>Remo</td>\n",
       "      <td>6766</td>\n",
       "      <td>8796.0</td>\n",
       "      <td>2030.0</td>\n",
       "    </tr>\n",
       "    <tr>\n",
       "      <th>9</th>\n",
       "      <td>10</td>\n",
       "      <td>Amitabh</td>\n",
       "      <td>5155</td>\n",
       "      <td>6702.0</td>\n",
       "      <td>1547.0</td>\n",
       "    </tr>\n",
       "  </tbody>\n",
       "</table>\n",
       "</div>"
      ],
      "text/plain": [
       "   Dept Emp_Name  Salary  New_Salary  Increased_Salary\n",
       "0     1   Rajesh    4944      6428.0            1484.0\n",
       "1     2  Shankar    5455      7092.0            1637.0\n",
       "2     3   Sindhu    6166      8016.0            1850.0\n",
       "3     4   Akshay    4044      5258.0            1214.0\n",
       "4     5    Vivan    3433      4463.0            1030.0\n",
       "5     6   Monika    2922      4383.0            1461.0\n",
       "6     7   Salman    6466      8406.0            1940.0\n",
       "7     8    Aisha    7977     10371.0            2394.0\n",
       "8     9     Remo    6766      8796.0            2030.0\n",
       "9    10  Amitabh    5155      6702.0            1547.0"
      ]
     },
     "execution_count": 5,
     "metadata": {},
     "output_type": "execute_result"
    }
   ],
   "source": [
    "#increased salary\n",
    "df['Increased_Salary'] = df['New_Salary'] - df['Salary']\n",
    "df"
   ]
  },
  {
   "cell_type": "code",
   "execution_count": 6,
   "id": "d98659bd",
   "metadata": {},
   "outputs": [
    {
     "data": {
      "text/plain": [
       "69915.0"
      ]
     },
     "execution_count": 6,
     "metadata": {},
     "output_type": "execute_result"
    }
   ],
   "source": [
    "a=df['New_Salary'].sum()\n",
    "a\n"
   ]
  },
  {
   "cell_type": "code",
   "execution_count": 7,
   "id": "5ba0e24f",
   "metadata": {},
   "outputs": [
    {
     "data": {
      "text/plain": [
       "(4383.0, 10371.0)"
      ]
     },
     "execution_count": 7,
     "metadata": {},
     "output_type": "execute_result"
    }
   ],
   "source": [
    "##min and max\n",
    "a = df['New_Salary'].min(),df['New_Salary'].max()\n",
    "a"
   ]
  },
  {
   "cell_type": "code",
   "execution_count": 8,
   "id": "761484c9",
   "metadata": {},
   "outputs": [
    {
     "data": {
      "text/plain": [
       "(4383.0, 10371.0)"
      ]
     },
     "execution_count": 8,
     "metadata": {},
     "output_type": "execute_result"
    }
   ],
   "source": [
    "##min and max\n",
    "a = df['New_Salary'].min(),df['New_Salary'].max()\n",
    "a"
   ]
  },
  {
   "cell_type": "code",
   "execution_count": 9,
   "id": "493ea275",
   "metadata": {},
   "outputs": [
    {
     "name": "stdout",
     "output_type": "stream",
     "text": [
      "\n",
      "Name of columns\n",
      " --------------------\n",
      "Index(['Dept', 'Emp_Name', 'Salary', 'New_Salary', 'Increased_Salary'], dtype='object')\n"
     ]
    }
   ],
   "source": [
    "print(\"\\nName of columns\\n\",'-'*20)\n",
    "print(df.columns)"
   ]
  },
  {
   "cell_type": "code",
   "execution_count": 10,
   "id": "f8ea28dc",
   "metadata": {},
   "outputs": [
    {
     "name": "stdout",
     "output_type": "stream",
     "text": [
      "\n",
      "Columns name in a list of strings for later manipulation:\n",
      "  ['Dept', 'Emp_Name', 'Salary', 'New_Salary', 'Increased_Salary']\n"
     ]
    }
   ],
   "source": [
    "l = list(df.columns)\n",
    "print(\"\\nColumns name in a list of strings for later manipulation:\\n \",l)"
   ]
  },
  {
   "cell_type": "code",
   "execution_count": 11,
   "id": "3d11cad9",
   "metadata": {},
   "outputs": [
    {
     "name": "stdout",
     "output_type": "stream",
     "text": [
      "\n",
      "Deleting column\n",
      " --------------------------------------------------\n"
     ]
    },
    {
     "data": {
      "text/html": [
       "<div>\n",
       "<style scoped>\n",
       "    .dataframe tbody tr th:only-of-type {\n",
       "        vertical-align: middle;\n",
       "    }\n",
       "\n",
       "    .dataframe tbody tr th {\n",
       "        vertical-align: top;\n",
       "    }\n",
       "\n",
       "    .dataframe thead th {\n",
       "        text-align: right;\n",
       "    }\n",
       "</style>\n",
       "<table border=\"1\" class=\"dataframe\">\n",
       "  <thead>\n",
       "    <tr style=\"text-align: right;\">\n",
       "      <th></th>\n",
       "      <th>Dept</th>\n",
       "      <th>Emp_Name</th>\n",
       "      <th>New_Salary</th>\n",
       "      <th>Increased_Salary</th>\n",
       "    </tr>\n",
       "  </thead>\n",
       "  <tbody>\n",
       "    <tr>\n",
       "      <th>0</th>\n",
       "      <td>1</td>\n",
       "      <td>Rajesh</td>\n",
       "      <td>6428.0</td>\n",
       "      <td>1484.0</td>\n",
       "    </tr>\n",
       "    <tr>\n",
       "      <th>1</th>\n",
       "      <td>2</td>\n",
       "      <td>Shankar</td>\n",
       "      <td>7092.0</td>\n",
       "      <td>1637.0</td>\n",
       "    </tr>\n",
       "    <tr>\n",
       "      <th>2</th>\n",
       "      <td>3</td>\n",
       "      <td>Sindhu</td>\n",
       "      <td>8016.0</td>\n",
       "      <td>1850.0</td>\n",
       "    </tr>\n",
       "    <tr>\n",
       "      <th>3</th>\n",
       "      <td>4</td>\n",
       "      <td>Akshay</td>\n",
       "      <td>5258.0</td>\n",
       "      <td>1214.0</td>\n",
       "    </tr>\n",
       "    <tr>\n",
       "      <th>4</th>\n",
       "      <td>5</td>\n",
       "      <td>Vivan</td>\n",
       "      <td>4463.0</td>\n",
       "      <td>1030.0</td>\n",
       "    </tr>\n",
       "    <tr>\n",
       "      <th>5</th>\n",
       "      <td>6</td>\n",
       "      <td>Monika</td>\n",
       "      <td>4383.0</td>\n",
       "      <td>1461.0</td>\n",
       "    </tr>\n",
       "    <tr>\n",
       "      <th>6</th>\n",
       "      <td>7</td>\n",
       "      <td>Salman</td>\n",
       "      <td>8406.0</td>\n",
       "      <td>1940.0</td>\n",
       "    </tr>\n",
       "    <tr>\n",
       "      <th>7</th>\n",
       "      <td>8</td>\n",
       "      <td>Aisha</td>\n",
       "      <td>10371.0</td>\n",
       "      <td>2394.0</td>\n",
       "    </tr>\n",
       "    <tr>\n",
       "      <th>8</th>\n",
       "      <td>9</td>\n",
       "      <td>Remo</td>\n",
       "      <td>8796.0</td>\n",
       "      <td>2030.0</td>\n",
       "    </tr>\n",
       "    <tr>\n",
       "      <th>9</th>\n",
       "      <td>10</td>\n",
       "      <td>Amitabh</td>\n",
       "      <td>6702.0</td>\n",
       "      <td>1547.0</td>\n",
       "    </tr>\n",
       "  </tbody>\n",
       "</table>\n",
       "</div>"
      ],
      "text/plain": [
       "   Dept Emp_Name  New_Salary  Increased_Salary\n",
       "0     1   Rajesh      6428.0            1484.0\n",
       "1     2  Shankar      7092.0            1637.0\n",
       "2     3   Sindhu      8016.0            1850.0\n",
       "3     4   Akshay      5258.0            1214.0\n",
       "4     5    Vivan      4463.0            1030.0\n",
       "5     6   Monika      4383.0            1461.0\n",
       "6     7   Salman      8406.0            1940.0\n",
       "7     8    Aisha     10371.0            2394.0\n",
       "8     9     Remo      8796.0            2030.0\n",
       "9    10  Amitabh      6702.0            1547.0"
      ]
     },
     "execution_count": 11,
     "metadata": {},
     "output_type": "execute_result"
    }
   ],
   "source": [
    "print(\"\\nDeleting column\\n\" ,'-'*50)\n",
    "del df['Salary']\n",
    "df"
   ]
  },
  {
   "cell_type": "code",
   "execution_count": 15,
   "id": "d8cc19db",
   "metadata": {},
   "outputs": [
    {
     "data": {
      "text/html": [
       "<div>\n",
       "<style scoped>\n",
       "    .dataframe tbody tr th:only-of-type {\n",
       "        vertical-align: middle;\n",
       "    }\n",
       "\n",
       "    .dataframe tbody tr th {\n",
       "        vertical-align: top;\n",
       "    }\n",
       "\n",
       "    .dataframe thead th {\n",
       "        text-align: right;\n",
       "    }\n",
       "</style>\n",
       "<table border=\"1\" class=\"dataframe\">\n",
       "  <thead>\n",
       "    <tr style=\"text-align: right;\">\n",
       "      <th></th>\n",
       "      <th>Dept</th>\n",
       "      <th>Emp_Name</th>\n",
       "      <th>New_Salary</th>\n",
       "      <th>Increased_Salary</th>\n",
       "    </tr>\n",
       "  </thead>\n",
       "  <tbody>\n",
       "    <tr>\n",
       "      <th>7</th>\n",
       "      <td>8</td>\n",
       "      <td>Aisha</td>\n",
       "      <td>10371.0</td>\n",
       "      <td>2394.0</td>\n",
       "    </tr>\n",
       "    <tr>\n",
       "      <th>8</th>\n",
       "      <td>9</td>\n",
       "      <td>Remo</td>\n",
       "      <td>8796.0</td>\n",
       "      <td>2030.0</td>\n",
       "    </tr>\n",
       "    <tr>\n",
       "      <th>6</th>\n",
       "      <td>7</td>\n",
       "      <td>Salman</td>\n",
       "      <td>8406.0</td>\n",
       "      <td>1940.0</td>\n",
       "    </tr>\n",
       "    <tr>\n",
       "      <th>2</th>\n",
       "      <td>3</td>\n",
       "      <td>Sindhu</td>\n",
       "      <td>8016.0</td>\n",
       "      <td>1850.0</td>\n",
       "    </tr>\n",
       "    <tr>\n",
       "      <th>1</th>\n",
       "      <td>2</td>\n",
       "      <td>Shankar</td>\n",
       "      <td>7092.0</td>\n",
       "      <td>1637.0</td>\n",
       "    </tr>\n",
       "    <tr>\n",
       "      <th>9</th>\n",
       "      <td>10</td>\n",
       "      <td>Amitabh</td>\n",
       "      <td>6702.0</td>\n",
       "      <td>1547.0</td>\n",
       "    </tr>\n",
       "    <tr>\n",
       "      <th>0</th>\n",
       "      <td>1</td>\n",
       "      <td>Rajesh</td>\n",
       "      <td>6428.0</td>\n",
       "      <td>1484.0</td>\n",
       "    </tr>\n",
       "    <tr>\n",
       "      <th>3</th>\n",
       "      <td>4</td>\n",
       "      <td>Akshay</td>\n",
       "      <td>5258.0</td>\n",
       "      <td>1214.0</td>\n",
       "    </tr>\n",
       "    <tr>\n",
       "      <th>4</th>\n",
       "      <td>5</td>\n",
       "      <td>Vivan</td>\n",
       "      <td>4463.0</td>\n",
       "      <td>1030.0</td>\n",
       "    </tr>\n",
       "    <tr>\n",
       "      <th>5</th>\n",
       "      <td>6</td>\n",
       "      <td>Monika</td>\n",
       "      <td>4383.0</td>\n",
       "      <td>1461.0</td>\n",
       "    </tr>\n",
       "  </tbody>\n",
       "</table>\n",
       "</div>"
      ],
      "text/plain": [
       "   Dept Emp_Name  New_Salary  Increased_Salary\n",
       "7     8    Aisha     10371.0            2394.0\n",
       "8     9     Remo      8796.0            2030.0\n",
       "6     7   Salman      8406.0            1940.0\n",
       "2     3   Sindhu      8016.0            1850.0\n",
       "1     2  Shankar      7092.0            1637.0\n",
       "9    10  Amitabh      6702.0            1547.0\n",
       "0     1   Rajesh      6428.0            1484.0\n",
       "3     4   Akshay      5258.0            1214.0\n",
       "4     5    Vivan      4463.0            1030.0\n",
       "5     6   Monika      4383.0            1461.0"
      ]
     },
     "execution_count": 15,
     "metadata": {},
     "output_type": "execute_result"
    }
   ],
   "source": [
    "df.sort_values(by='New_Salary',ascending=False) #ascending=True by default"
   ]
  },
  {
   "cell_type": "code",
   "execution_count": null,
   "id": "28405481",
   "metadata": {},
   "outputs": [],
   "source": []
  }
 ],
 "metadata": {
  "kernelspec": {
   "display_name": "Python 3 (ipykernel)",
   "language": "python",
   "name": "python3"
  },
  "language_info": {
   "codemirror_mode": {
    "name": "ipython",
    "version": 3
   },
   "file_extension": ".py",
   "mimetype": "text/x-python",
   "name": "python",
   "nbconvert_exporter": "python",
   "pygments_lexer": "ipython3",
   "version": "3.9.12"
  }
 },
 "nbformat": 4,
 "nbformat_minor": 5
}
