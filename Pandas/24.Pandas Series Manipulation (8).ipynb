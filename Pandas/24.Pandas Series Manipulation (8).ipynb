{
 "cells": [
  {
   "cell_type": "markdown",
   "id": "761c582e",
   "metadata": {},
   "source": [
    "# Pandas Series Manipulation "
   ]
  },
  {
   "cell_type": "code",
   "execution_count": 1,
   "id": "dbaaa9a8",
   "metadata": {},
   "outputs": [],
   "source": [
    "import numpy as np\n",
    "import pandas as pd"
   ]
  },
  {
   "cell_type": "code",
   "execution_count": 3,
   "id": "f6b3203d",
   "metadata": {},
   "outputs": [],
   "source": [
    "#you can give your own index name\n",
    "ser1 = pd.Series(data=[1,2,3,4], index=['CA','OR','CO','AZ'])"
   ]
  },
  {
   "cell_type": "code",
   "execution_count": 4,
   "id": "f2e3e74c",
   "metadata": {},
   "outputs": [
    {
     "data": {
      "text/plain": [
       "CA    1\n",
       "OR    2\n",
       "CO    3\n",
       "AZ    4\n",
       "dtype: int64"
      ]
     },
     "execution_count": 4,
     "metadata": {},
     "output_type": "execute_result"
    }
   ],
   "source": [
    "ser1"
   ]
  },
  {
   "cell_type": "code",
   "execution_count": 5,
   "id": "04eb9ca8",
   "metadata": {},
   "outputs": [
    {
     "name": "stdout",
     "output_type": "stream",
     "text": [
      "\n",
      "Indexing by name of the item/object (string identifier)\n",
      "--------------------------------------------------------\n",
      "value for CA in ser1: 1\n",
      "value for AZ in ser1: 4\n"
     ]
    }
   ],
   "source": [
    "print(\"\\nIndexing by name of the item/object (string identifier)\\n\",'-'*56, sep='')\n",
    "print(\"value for CA in ser1:\", ser1['CA'])\n",
    "print(\"value for AZ in ser1:\", ser1['AZ'])"
   ]
  },
  {
   "cell_type": "code",
   "execution_count": 6,
   "id": "ed00f4eb",
   "metadata": {},
   "outputs": [
    {
     "name": "stdout",
     "output_type": "stream",
     "text": [
      "\n",
      "Indexing by number (positional values in the series)\n",
      "--------------------------------------------------------\n",
      "value for CA in ser1: 1\n",
      "value for AZ in ser1: 4\n"
     ]
    }
   ],
   "source": [
    "print(\"\\nIndexing by number (positional values in the series)\\n\",'-'*56, sep='')\n",
    "print(\"value for CA in ser1:\", ser1[0])\n",
    "print(\"value for AZ in ser1:\", ser1[3])"
   ]
  },
  {
   "cell_type": "code",
   "execution_count": 7,
   "id": "dd747933",
   "metadata": {},
   "outputs": [
    {
     "name": "stdout",
     "output_type": "stream",
     "text": [
      "\n",
      "Indexing by a range\n",
      " -------------------------\n",
      "values for OR, CO, and AZ in ser1:\n",
      " OR    2\n",
      "CO    3\n",
      "AZ    4\n",
      "dtype: int64\n"
     ]
    }
   ],
   "source": [
    "print(\"\\nIndexing by a range\\n\",'-'*25)\n",
    "print(\"values for OR, CO, and AZ in ser1:\\n\", ser1[1:4])"
   ]
  },
  {
   "cell_type": "code",
   "execution_count": 8,
   "id": "83a9f5e3",
   "metadata": {},
   "outputs": [],
   "source": [
    "ser1 = pd.Series([1,2,3,4,10],['CA','OR','CO','AZ','NV'])\n",
    "\n",
    "ser2 = pd.Series([1,2,5,4,30],['CA','OR','NV','PA','CO'])"
   ]
  },
  {
   "cell_type": "code",
   "execution_count": 9,
   "id": "b01988d5",
   "metadata": {},
   "outputs": [
    {
     "name": "stdout",
     "output_type": "stream",
     "text": [
      "Ser 1 \n",
      " CA     1\n",
      "OR     2\n",
      "CO     3\n",
      "AZ     4\n",
      "NV    10\n",
      "dtype: int64\n",
      "********************\n",
      "Ser 2 \n",
      " CA     1\n",
      "OR     2\n",
      "NV     5\n",
      "PA     4\n",
      "CO    30\n",
      "dtype: int64\n"
     ]
    }
   ],
   "source": [
    "print('Ser 1 \\n', ser1)\n",
    "print('*'*20)\n",
    "print('Ser 2 \\n', ser2)"
   ]
  },
  {
   "cell_type": "code",
   "execution_count": 10,
   "id": "dd3988a6",
   "metadata": {},
   "outputs": [
    {
     "name": "stdout",
     "output_type": "stream",
     "text": [
      "\n",
      "After adding the two series , the result looks like this ....\n",
      " -----------------------------------------------------------\n",
      "AZ     NaN\n",
      "CA     2.0\n",
      "CO    33.0\n",
      "NV    15.0\n",
      "OR     4.0\n",
      "PA     NaN\n",
      "dtype: float64\n",
      "\n",
      "Python tries to add values where it finds comon index name, and keeps NaN where indices are missing\n"
     ]
    }
   ],
   "source": [
    "#lets add both sreies\n",
    "ser3 = ser1 + ser2\n",
    "\n",
    "print(\"\\nAfter adding the two series , the result looks like this ....\\n\", '-'*59)\n",
    "print(ser3)\n",
    "print(\"\\nPython tries to add values where it finds comon index name, and keeps NaN where indices are missing\")"
   ]
  },
  {
   "cell_type": "markdown",
   "id": "035947f4",
   "metadata": {},
   "source": [
    "**similarly you can multiply, substract and do other operation on it**"
   ]
  },
  {
   "cell_type": "code",
   "execution_count": null,
   "id": "d038f95b",
   "metadata": {},
   "outputs": [],
   "source": []
  }
 ],
 "metadata": {
  "kernelspec": {
   "display_name": "Python 3 (ipykernel)",
   "language": "python",
   "name": "python3"
  },
  "language_info": {
   "codemirror_mode": {
    "name": "ipython",
    "version": 3
   },
   "file_extension": ".py",
   "mimetype": "text/x-python",
   "name": "python",
   "nbconvert_exporter": "python",
   "pygments_lexer": "ipython3",
   "version": "3.9.12"
  }
 },
 "nbformat": 4,
 "nbformat_minor": 5
}
