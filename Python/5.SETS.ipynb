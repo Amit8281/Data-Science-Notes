{
 "cells": [
  {
   "cell_type": "markdown",
   "id": "5a1cccc3",
   "metadata": {},
   "source": [
    "# SETS"
   ]
  },
  {
   "cell_type": "markdown",
   "id": "7947e068",
   "metadata": {},
   "source": [
    "ets are an unordred collection of unique elemrnts which can be constructed using the set()function"
   ]
  },
  {
   "cell_type": "code",
   "execution_count": 7,
   "id": "30a2c41f",
   "metadata": {},
   "outputs": [],
   "source": [
    "roll_numbers = set()"
   ]
  },
  {
   "cell_type": "code",
   "execution_count": 8,
   "id": "a6912ec3",
   "metadata": {},
   "outputs": [
    {
     "data": {
      "text/plain": [
       "set"
      ]
     },
     "execution_count": 8,
     "metadata": {},
     "output_type": "execute_result"
    }
   ],
   "source": [
    "#show\n",
    "type(roll_numbers)"
   ]
  },
  {
   "cell_type": "code",
   "execution_count": 9,
   "id": "af525f5e",
   "metadata": {},
   "outputs": [
    {
     "data": {
      "text/plain": [
       "{1}"
      ]
     },
     "execution_count": 9,
     "metadata": {},
     "output_type": "execute_result"
    }
   ],
   "source": [
    "#we ad to sets with the add()method\n",
    "roll_numbers.add(1)\n",
    "roll_numbers"
   ]
  },
  {
   "cell_type": "code",
   "execution_count": 10,
   "id": "5d382149",
   "metadata": {},
   "outputs": [
    {
     "data": {
      "text/plain": [
       "{1, 2}"
      ]
     },
     "execution_count": 10,
     "metadata": {},
     "output_type": "execute_result"
    }
   ],
   "source": [
    "#add a diffrent element\n",
    "roll_numbers.add(2)\n",
    "roll_numbers"
   ]
  },
  {
   "cell_type": "code",
   "execution_count": 11,
   "id": "6ef9b747",
   "metadata": {},
   "outputs": [
    {
     "data": {
      "text/plain": [
       "{1, 2}"
      ]
     },
     "execution_count": 11,
     "metadata": {},
     "output_type": "execute_result"
    }
   ],
   "source": [
    "#try to add the same element\n",
    "roll_numbers.add(1)\n",
    "roll_numbers"
   ]
  },
  {
   "cell_type": "code",
   "execution_count": 1,
   "id": "7925fb53",
   "metadata": {},
   "outputs": [],
   "source": [
    "#creat a list with repeats \n",
    "remove_dups = [8,5,6,9,1,1,2,2,3,4,5,6,1,1,7,7]"
   ]
  },
  {
   "cell_type": "code",
   "execution_count": 2,
   "id": "68b235fd",
   "metadata": {},
   "outputs": [
    {
     "data": {
      "text/plain": [
       "{1, 2, 3, 4, 5, 6, 7, 8, 9}"
      ]
     },
     "execution_count": 2,
     "metadata": {},
     "output_type": "execute_result"
    }
   ],
   "source": [
    "#cast as set to get unique values\n",
    "dup_removed = set(remove_dups)\n",
    "dup_removed"
   ]
  },
  {
   "cell_type": "code",
   "execution_count": 3,
   "id": "98025225",
   "metadata": {},
   "outputs": [
    {
     "data": {
      "text/plain": [
       "[1, 2, 3, 4, 5, 6, 7, 8, 9]"
      ]
     },
     "execution_count": 3,
     "metadata": {},
     "output_type": "execute_result"
    }
   ],
   "source": [
    "#again you can convert to list if yoy want (after removing duplicates)\n",
    "remove_dups = list(dup_removed)\n",
    "remove_dups"
   ]
  },
  {
   "cell_type": "code",
   "execution_count": null,
   "id": "5ae81784",
   "metadata": {},
   "outputs": [],
   "source": []
  },
  {
   "cell_type": "code",
   "execution_count": null,
   "id": "411972e2",
   "metadata": {},
   "outputs": [],
   "source": []
  },
  {
   "cell_type": "code",
   "execution_count": null,
   "id": "9394d964",
   "metadata": {},
   "outputs": [],
   "source": []
  }
 ],
 "metadata": {
  "kernelspec": {
   "display_name": "Python 3 (ipykernel)",
   "language": "python",
   "name": "python3"
  },
  "language_info": {
   "codemirror_mode": {
    "name": "ipython",
    "version": 3
   },
   "file_extension": ".py",
   "mimetype": "text/x-python",
   "name": "python",
   "nbconvert_exporter": "python",
   "pygments_lexer": "ipython3",
   "version": "3.9.12"
  }
 },
 "nbformat": 4,
 "nbformat_minor": 5
}
