{
 "cells": [
  {
   "cell_type": "markdown",
   "id": "031f3750",
   "metadata": {},
   "source": [
    "# Global and Local variable"
   ]
  },
  {
   "cell_type": "code",
   "execution_count": 6,
   "id": "fd8395c2",
   "metadata": {},
   "outputs": [
    {
     "name": "stdout",
     "output_type": "stream",
     "text": [
      "printing inside the function and total is   45\n"
     ]
    }
   ],
   "source": [
    "#global variable - variable defined outside the function . This variable can be used outside as well as inside the function.\n",
    "extra_marks = 10\n",
    "\n",
    "def tot_score_glob():\n",
    "    print(\"printing inside the function and total is  \", 35 + extra_marks)\n",
    "    \n",
    "tot_score_glob()"
   ]
  },
  {
   "cell_type": "code",
   "execution_count": 7,
   "id": "50aeec99",
   "metadata": {},
   "outputs": [
    {
     "name": "stdout",
     "output_type": "stream",
     "text": [
      "printing outside the function and total is   45\n"
     ]
    }
   ],
   "source": [
    "print(\"printing outside the function and total is  \", 35 + extra_marks)"
   ]
  },
  {
   "cell_type": "code",
   "execution_count": 14,
   "id": "623223d8",
   "metadata": {},
   "outputs": [
    {
     "name": "stdout",
     "output_type": "stream",
     "text": [
      "printing inside the function and total is   100\n"
     ]
    }
   ],
   "source": [
    "#local variable - variable defined inside the function . This variable can be used  inside the function.\n",
    "\n",
    "def tot_score_loc():\n",
    "    some_marks = 50\n",
    "    print(\"printing inside the function and total is  \", 50 + some_marks)\n",
    "    \n",
    "tot_score_loc()"
   ]
  },
  {
   "cell_type": "code",
   "execution_count": 15,
   "id": "e108ae56",
   "metadata": {},
   "outputs": [
    {
     "ename": "NameError",
     "evalue": "name 'some_marks' is not defined",
     "output_type": "error",
     "traceback": [
      "\u001b[1;31m---------------------------------------------------------------------------\u001b[0m",
      "\u001b[1;31mNameError\u001b[0m                                 Traceback (most recent call last)",
      "Input \u001b[1;32mIn [15]\u001b[0m, in \u001b[0;36m<cell line: 1>\u001b[1;34m()\u001b[0m\n\u001b[1;32m----> 1\u001b[0m \u001b[38;5;28mprint\u001b[39m(\u001b[38;5;124m\"\u001b[39m\u001b[38;5;124mprinting outside the function and total is  \u001b[39m\u001b[38;5;124m\"\u001b[39m, \u001b[38;5;241m50\u001b[39m \u001b[38;5;241m+\u001b[39m \u001b[43msome_marks\u001b[49m)\n",
      "\u001b[1;31mNameError\u001b[0m: name 'some_marks' is not defined"
     ]
    }
   ],
   "source": [
    "print(\"printing outside the function and total is  \", 50 + some_marks)"
   ]
  },
  {
   "cell_type": "markdown",
   "id": "7368ffb7",
   "metadata": {},
   "source": [
    "**How to use local variable outside the function?**"
   ]
  },
  {
   "cell_type": "code",
   "execution_count": 3,
   "id": "ae19f9a6",
   "metadata": {},
   "outputs": [
    {
     "data": {
      "text/plain": [
       "<function __main__.local_global()>"
      ]
     },
     "execution_count": 3,
     "metadata": {},
     "output_type": "execute_result"
    }
   ],
   "source": [
    "def local_global():\n",
    "    global Var12\n",
    "    var12 = \"this is fantastic\"\n",
    "    print(Var12)\n",
    "    \n",
    "    \n",
    "local_global    "
   ]
  },
  {
   "cell_type": "code",
   "execution_count": 4,
   "id": "4ddc56a4",
   "metadata": {},
   "outputs": [
    {
     "ename": "NameError",
     "evalue": "name 'Var12' is not defined",
     "output_type": "error",
     "traceback": [
      "\u001b[1;31m---------------------------------------------------------------------------\u001b[0m",
      "\u001b[1;31mNameError\u001b[0m                                 Traceback (most recent call last)",
      "Input \u001b[1;32mIn [4]\u001b[0m, in \u001b[0;36m<cell line: 1>\u001b[1;34m()\u001b[0m\n\u001b[1;32m----> 1\u001b[0m \u001b[38;5;28mprint\u001b[39m(\u001b[43mVar12\u001b[49m)\n",
      "\u001b[1;31mNameError\u001b[0m: name 'Var12' is not defined"
     ]
    }
   ],
   "source": [
    "print(Var12)"
   ]
  },
  {
   "cell_type": "markdown",
   "id": "aa06033b",
   "metadata": {},
   "source": [
    "if you want to use variable anywhere in the programme you can use global variable"
   ]
  },
  {
   "cell_type": "markdown",
   "id": "61f77ad3",
   "metadata": {},
   "source": [
    "if you want to ristrict the variable usage within the function itself and dont want to use anywhwre outside the function than use local variable"
   ]
  },
  {
   "cell_type": "code",
   "execution_count": null,
   "id": "532c36f5",
   "metadata": {},
   "outputs": [],
   "source": []
  }
 ],
 "metadata": {
  "kernelspec": {
   "display_name": "Python 3 (ipykernel)",
   "language": "python",
   "name": "python3"
  },
  "language_info": {
   "codemirror_mode": {
    "name": "ipython",
    "version": 3
   },
   "file_extension": ".py",
   "mimetype": "text/x-python",
   "name": "python",
   "nbconvert_exporter": "python",
   "pygments_lexer": "ipython3",
   "version": "3.9.12"
  }
 },
 "nbformat": 4,
 "nbformat_minor": 5
}
