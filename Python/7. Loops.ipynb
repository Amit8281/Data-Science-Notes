{
 "cells": [
  {
   "cell_type": "markdown",
   "id": "0b6d8d1a",
   "metadata": {},
   "source": [
    "# Loops"
   ]
  },
  {
   "cell_type": "markdown",
   "id": "634ff276",
   "metadata": {},
   "source": [
    "in general statements are executed sequentally the first statement in a function is excuted first followed by the second and so on there may be an situation when you need to excute a block of code several number of time."
   ]
  },
  {
   "cell_type": "markdown",
   "id": "ed1b504c",
   "metadata": {},
   "source": [
    "**For Loop**"
   ]
  },
  {
   "cell_type": "markdown",
   "id": "7abc711a",
   "metadata": {},
   "source": [
    "The for loop in python is used to iterate over a sequence (list,tupple,string) or other iterable objects, iterating over a sequence is called traversal.\n",
    "loop continues until we reach the last item in the sequence"
   ]
  },
  {
   "cell_type": "code",
   "execution_count": 1,
   "id": "03afb16d",
   "metadata": {},
   "outputs": [
    {
     "name": "stdout",
     "output_type": "stream",
     "text": [
      "['bengaluru', 'noida', 'chennai', 'hydrabad', 'delhi']\n"
     ]
    }
   ],
   "source": [
    "location = ['bengaluru','noida','chennai','hydrabad','delhi']\n",
    "print(location)"
   ]
  },
  {
   "cell_type": "code",
   "execution_count": 2,
   "id": "2f018cdc",
   "metadata": {},
   "outputs": [
    {
     "name": "stdout",
     "output_type": "stream",
     "text": [
      "bengaluru\n",
      "noida\n",
      "chennai\n",
      "hydrabad\n",
      "delhi\n"
     ]
    }
   ],
   "source": [
    "#list of string\n",
    "location = ['bengaluru','noida','chennai','hydrabad','delhi']\n",
    "for city in location:\n",
    "    print(city)"
   ]
  },
  {
   "cell_type": "code",
   "execution_count": 1,
   "id": "599962f1",
   "metadata": {},
   "outputs": [
    {
     "name": "stdout",
     "output_type": "stream",
     "text": [
      "7000\n",
      "8000\n"
     ]
    }
   ],
   "source": [
    "salary = [2000,4000,5000,7000,8000,4500,3800]\n",
    "for val in salary:\n",
    "    if val>5500:\n",
    "        print(val)"
   ]
  },
  {
   "cell_type": "code",
   "execution_count": 10,
   "id": "ad4688af",
   "metadata": {},
   "outputs": [
    {
     "name": "stdout",
     "output_type": "stream",
     "text": [
      "35 -Pass\n",
      "67 - First class\n",
      "78 - Distinction\n",
      "79 - Distinction\n",
      "12 - Fail - Better luck next time\n",
      "34 - Fail - Better luck next time\n",
      "67 - First class\n",
      "54 - Second class\n",
      "89 - Distinction\n"
     ]
    }
   ],
   "source": [
    "student_score = [35,67,78,79,12,34,67,54,89]\n",
    "\n",
    "for marks in student_score:\n",
    "    if marks > 60:\n",
    "        if marks > 70:\n",
    "            print(marks, '- Distinction')\n",
    "        else:  \n",
    "              \n",
    "            print(marks, '- First class')\n",
    "    #elif=else+if        \n",
    "    elif marks > 50 and marks < 60:\n",
    "        print(marks, '- Second class')\n",
    "    \n",
    "    elif marks >= 35:\n",
    "        print(marks, '-Pass')\n",
    "    \n",
    "    else:\n",
    "        print(marks, '- Fail - Better luck next time' )   "
   ]
  },
  {
   "cell_type": "markdown",
   "id": "afa2c05a",
   "metadata": {},
   "source": [
    "**List comprehension**"
   ]
  },
  {
   "cell_type": "markdown",
   "id": "e297ed40",
   "metadata": {},
   "source": [
    "List comkprehension is a shoretr syntex when you want to creat a new list based on the value of existing list"
   ]
  },
  {
   "cell_type": "code",
   "execution_count": 6,
   "id": "94b6bc95",
   "metadata": {},
   "outputs": [
    {
     "data": {
      "text/plain": [
       "[7000, 8000]"
      ]
     },
     "execution_count": 6,
     "metadata": {},
     "output_type": "execute_result"
    }
   ],
   "source": [
    "salary = [2000,4000,5000,7000,8000,3800]\n",
    "sal = [val for val in salary if val >5500]\n",
    "sal"
   ]
  },
  {
   "cell_type": "markdown",
   "id": "ebdac46d",
   "metadata": {},
   "source": [
    "**for loop with else**"
   ]
  },
  {
   "cell_type": "markdown",
   "id": "10049a38",
   "metadata": {},
   "source": [
    "a for loop can have optional else block as well . the else part is excuted if the item in the sequence used in for loop exhaused."
   ]
  },
  {
   "cell_type": "markdown",
   "id": "61be596e",
   "metadata": {},
   "source": [
    "break statement can be used to stop a for loop in such case the else part is ignored."
   ]
  },
  {
   "cell_type": "markdown",
   "id": "0bde80b8",
   "metadata": {},
   "source": [
    "Hence a for loops else part runs if no break occurs."
   ]
  },
  {
   "cell_type": "code",
   "execution_count": 3,
   "id": "61b6755b",
   "metadata": {},
   "outputs": [
    {
     "name": "stdout",
     "output_type": "stream",
     "text": [
      "Multiplication table for - 2\n",
      "2\n",
      "4\n",
      "6\n",
      "8\n",
      "10\n",
      "12\n",
      "14\n",
      "16\n",
      "18\n",
      "20\n",
      "\n",
      "\n",
      "Multiplication table for - 3\n",
      "3\n",
      "6\n",
      "9\n",
      "12\n",
      "15\n",
      "18\n",
      "21\n",
      "24\n",
      "27\n",
      "30\n",
      "\n",
      "\n",
      "Multiplication table for - 4\n",
      "4\n",
      "8\n",
      "12\n",
      "16\n",
      "20\n",
      "24\n",
      "28\n",
      "32\n",
      "36\n",
      "40\n",
      "\n",
      "\n",
      "Multiplication table for - 5\n",
      "5\n",
      "10\n",
      "15\n",
      "20\n",
      "25\n",
      "30\n",
      "35\n",
      "40\n",
      "45\n",
      "50\n",
      "\n",
      "\n",
      "Multiplication table for - 6\n",
      "6\n",
      "12\n",
      "18\n",
      "24\n",
      "30\n",
      "36\n",
      "42\n",
      "48\n",
      "54\n",
      "60\n",
      "\n",
      "\n",
      "Multiplication table for - 7\n",
      "7\n",
      "14\n",
      "21\n",
      "28\n",
      "35\n",
      "42\n",
      "49\n",
      "56\n",
      "63\n",
      "70\n",
      "\n",
      "\n",
      "Multiplication table for - 8\n",
      "8\n",
      "16\n",
      "24\n",
      "32\n",
      "40\n",
      "48\n",
      "56\n",
      "64\n",
      "72\n",
      "80\n",
      "\n",
      "\n",
      "Multiplication table for - 9\n",
      "9\n",
      "18\n",
      "27\n",
      "36\n",
      "45\n",
      "54\n",
      "63\n",
      "72\n",
      "81\n",
      "90\n",
      "\n",
      "\n",
      "Multiplication table for - 10\n",
      "10\n",
      "20\n",
      "30\n",
      "40\n",
      "50\n",
      "60\n",
      "70\n",
      "80\n",
      "90\n",
      "100\n",
      "\n",
      "\n",
      "******************************\n",
      "end of multiplication table\n",
      "******************************\n"
     ]
    }
   ],
   "source": [
    "#MULTIPLICATION TABLE\n",
    "for num in range (2,11):\n",
    "    print('Multiplication table for -', num)\n",
    "    for i in range (1,11):\n",
    "        print (num * i)\n",
    "        if i==10:\n",
    "            print('\\n') #(\\N MEANS MOOV TO NEXT LINE)\n",
    "            \n",
    "else:            \n",
    "                print('*' * 30)\n",
    "                print('end of multiplication table')\n",
    "                print('*' * 30)\n",
    "            "
   ]
  },
  {
   "cell_type": "markdown",
   "id": "9f9be0fa",
   "metadata": {},
   "source": [
    "**while Loop**"
   ]
  },
  {
   "cell_type": "markdown",
   "id": "1c75b38c",
   "metadata": {},
   "source": [
    "The while loop in python is used to iterate over a block of code as long as the text experession is true."
   ]
  },
  {
   "cell_type": "code",
   "execution_count": 5,
   "id": "3d9b2242",
   "metadata": {},
   "outputs": [
    {
     "name": "stdout",
     "output_type": "stream",
     "text": [
      "1  data trained\n",
      "2  data trained\n",
      "3  data trained\n",
      "4  data trained\n",
      "5  data trained\n",
      "6  data trained\n",
      "7  data trained\n",
      "8  data trained\n",
      "9  data trained\n",
      "10  data trained\n"
     ]
    }
   ],
   "source": [
    "#lets print something using while loop\n",
    "i= 0\n",
    "\n",
    "while i < 10:\n",
    "    i = i+1\n",
    "    print(i, ' data trained')"
   ]
  },
  {
   "cell_type": "markdown",
   "id": "650c8716",
   "metadata": {},
   "source": [
    "**one more example**"
   ]
  },
  {
   "cell_type": "code",
   "execution_count": 8,
   "id": "a6911823",
   "metadata": {},
   "outputs": [
    {
     "name": "stdout",
     "output_type": "stream",
     "text": [
      "time.struct_time(tm_year=2022, tm_mon=11, tm_mday=5, tm_hour=17, tm_min=11, tm_sec=7, tm_wday=5, tm_yday=309, tm_isdst=0)\n"
     ]
    }
   ],
   "source": [
    "import time\n",
    "result = time.localtime()\n",
    "print(result)"
   ]
  },
  {
   "cell_type": "code",
   "execution_count": 10,
   "id": "35eb092f",
   "metadata": {},
   "outputs": [
    {
     "name": "stdout",
     "output_type": "stream",
     "text": [
      "wake up call\n"
     ]
    }
   ],
   "source": [
    "while True:\n",
    "    result = time.localtime()\n",
    "    if result.tm_hour == 17 and result.tm_min== 13:\n",
    "        print('wake up call') #instead of print your mobile will play sound\n",
    "        break\n",
    "    "
   ]
  },
  {
   "cell_type": "markdown",
   "id": "ac6bb782",
   "metadata": {},
   "source": [
    "**Diffrence b/w for and while loop**"
   ]
  },
  {
   "cell_type": "markdown",
   "id": "2fa3157e",
   "metadata": {},
   "source": [
    "for loop if you know how many time you wnt to excute the code than use for loop."
   ]
  },
  {
   "cell_type": "markdown",
   "id": "8ab65361",
   "metadata": {},
   "source": [
    "while loop = if you dony know how many times you want to exute then use the while with the condition . it mens you will excute the code if the condition i true only."
   ]
  },
  {
   "cell_type": "markdown",
   "id": "f9091367",
   "metadata": {},
   "source": [
    "**enumerate**"
   ]
  },
  {
   "cell_type": "markdown",
   "id": "e17d0845",
   "metadata": {},
   "source": [
    "enumerate (allows us to iterate through a sequence but it keeps track of both the index and the element.)"
   ]
  },
  {
   "cell_type": "code",
   "execution_count": 13,
   "id": "8fcb333e",
   "metadata": {},
   "outputs": [],
   "source": [
    "students = ['Naveen','Ratna','Vivan','Sridhar','Chintu','Chinnu']"
   ]
  },
  {
   "cell_type": "code",
   "execution_count": 14,
   "id": "2003edd9",
   "metadata": {},
   "outputs": [
    {
     "name": "stdout",
     "output_type": "stream",
     "text": [
      "(0, 'Naveen')\n",
      "(1, 'Ratna')\n",
      "(2, 'Vivan')\n",
      "(3, 'Sridhar')\n",
      "(4, 'Chintu')\n",
      "(5, 'Chinnu')\n"
     ]
    }
   ],
   "source": [
    "for name in enumerate(students):\n",
    "    print (name)"
   ]
  },
  {
   "cell_type": "code",
   "execution_count": 16,
   "id": "99c9a6a3",
   "metadata": {},
   "outputs": [
    {
     "name": "stdout",
     "output_type": "stream",
     "text": [
      "(1, 'Naveen')\n",
      "(2, 'Ratna')\n",
      "(3, 'Vivan')\n",
      "(4, 'Sridhar')\n",
      "(5, 'Chintu')\n",
      "(6, 'Chinnu')\n"
     ]
    }
   ],
   "source": [
    "#you can start index from any number\n",
    "for name in enumerate (students,1):\n",
    "    print(name)"
   ]
  },
  {
   "cell_type": "markdown",
   "id": "55cb1175",
   "metadata": {},
   "source": [
    "**Zip**"
   ]
  },
  {
   "cell_type": "code",
   "execution_count": 27,
   "id": "a688ed49",
   "metadata": {},
   "outputs": [],
   "source": [
    "students_name = ['Naveen','Ratna','Vivan','Sridhar','Chintu','Chinnu']\n",
    "students_marks = [53,74,62,81,55,86]"
   ]
  },
  {
   "cell_type": "code",
   "execution_count": 28,
   "id": "b4f727af",
   "metadata": {},
   "outputs": [],
   "source": [
    "students_details = list(zip(students_name,students_marks))"
   ]
  },
  {
   "cell_type": "code",
   "execution_count": 29,
   "id": "83c8da61",
   "metadata": {},
   "outputs": [
    {
     "data": {
      "text/plain": [
       "[('Naveen', 53),\n",
       " ('Ratna', 74),\n",
       " ('Vivan', 62),\n",
       " ('Sridhar', 81),\n",
       " ('Chintu', 55),\n",
       " ('Chinnu', 86)]"
      ]
     },
     "execution_count": 29,
     "metadata": {},
     "output_type": "execute_result"
    }
   ],
   "source": [
    "students_details"
   ]
  },
  {
   "cell_type": "markdown",
   "id": "4ae05330",
   "metadata": {},
   "source": [
    "**UnZip**"
   ]
  },
  {
   "cell_type": "code",
   "execution_count": 31,
   "id": "193a6f24",
   "metadata": {},
   "outputs": [],
   "source": [
    "name , marks_num  = zip(*students_details)"
   ]
  },
  {
   "cell_type": "code",
   "execution_count": 11,
   "id": "8232e989",
   "metadata": {},
   "outputs": [
    {
     "data": {
      "text/plain": [
       "('Naveen', 'Ratna', 'Vivan', 'Sridhar', 'Chintu', 'Chinnu')"
      ]
     },
     "execution_count": 11,
     "metadata": {},
     "output_type": "execute_result"
    }
   ],
   "source": [
    "name"
   ]
  },
  {
   "cell_type": "code",
   "execution_count": 12,
   "id": "59f67d0d",
   "metadata": {},
   "outputs": [
    {
     "data": {
      "text/plain": [
       "(53, 74, 62, 81, 55, 86)"
      ]
     },
     "execution_count": 12,
     "metadata": {},
     "output_type": "execute_result"
    }
   ],
   "source": [
    "marks_num"
   ]
  },
  {
   "cell_type": "code",
   "execution_count": null,
   "id": "d9867009",
   "metadata": {},
   "outputs": [],
   "source": []
  }
 ],
 "metadata": {
  "kernelspec": {
   "display_name": "Python 3 (ipykernel)",
   "language": "python",
   "name": "python3"
  },
  "language_info": {
   "codemirror_mode": {
    "name": "ipython",
    "version": 3
   },
   "file_extension": ".py",
   "mimetype": "text/x-python",
   "name": "python",
   "nbconvert_exporter": "python",
   "pygments_lexer": "ipython3",
   "version": "3.9.12"
  }
 },
 "nbformat": 4,
 "nbformat_minor": 5
}
