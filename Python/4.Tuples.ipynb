{
 "cells": [
  {
   "cell_type": "markdown",
   "id": "bf583675",
   "metadata": {},
   "source": [
    "# TUPLES"
   ]
  },
  {
   "cell_type": "markdown",
   "id": "6d7ecb05",
   "metadata": {},
   "source": [
    "**DATA IN THE TUPPLES IS ALWAYS IN THE PARANTHESES () . It is immutable**"
   ]
  },
  {
   "cell_type": "markdown",
   "id": "5a5e807f",
   "metadata": {},
   "source": [
    "**1)CONSTRUCTIVE TUPPLES**"
   ]
  },
  {
   "cell_type": "code",
   "execution_count": 2,
   "id": "6abef7a0",
   "metadata": {},
   "outputs": [
    {
     "data": {
      "text/plain": [
       "('bengaluru', 'noida', 'chennai', 'delhi')"
      ]
     },
     "execution_count": 2,
     "metadata": {},
     "output_type": "execute_result"
    }
   ],
   "source": [
    "#CAN CREAT TUOOLE WITH MIXED TYPES\n",
    "work_location = ('bengaluru','noida','chennai','delhi')\n",
    "work_location"
   ]
  },
  {
   "cell_type": "code",
   "execution_count": 3,
   "id": "faecd4a3",
   "metadata": {},
   "outputs": [
    {
     "data": {
      "text/plain": [
       "tuple"
      ]
     },
     "execution_count": 3,
     "metadata": {},
     "output_type": "execute_result"
    }
   ],
   "source": [
    "type(work_location)"
   ]
  },
  {
   "cell_type": "code",
   "execution_count": 4,
   "id": "1a6ef05b",
   "metadata": {},
   "outputs": [
    {
     "data": {
      "text/plain": [
       "(20000, 35000, 40000)"
      ]
     },
     "execution_count": 4,
     "metadata": {},
     "output_type": "execute_result"
    }
   ],
   "source": [
    "emp_salary =(20000,35000,40000)\n",
    "emp_salary"
   ]
  },
  {
   "cell_type": "markdown",
   "id": "d768695f",
   "metadata": {},
   "source": [
    "**let's try add new work location**"
   ]
  },
  {
   "cell_type": "code",
   "execution_count": 5,
   "id": "f7057dac",
   "metadata": {},
   "outputs": [
    {
     "ename": "AttributeError",
     "evalue": "'tuple' object has no attribute 'append'",
     "output_type": "error",
     "traceback": [
      "\u001b[1;31m---------------------------------------------------------------------------\u001b[0m",
      "\u001b[1;31mAttributeError\u001b[0m                            Traceback (most recent call last)",
      "Input \u001b[1;32mIn [5]\u001b[0m, in \u001b[0;36m<cell line: 1>\u001b[1;34m()\u001b[0m\n\u001b[1;32m----> 1\u001b[0m \u001b[43mwork_location\u001b[49m\u001b[38;5;241;43m.\u001b[39;49m\u001b[43mappend\u001b[49m(\u001b[38;5;124m'\u001b[39m\u001b[38;5;124mhydrabad\u001b[39m\u001b[38;5;124m'\u001b[39m)\n",
      "\u001b[1;31mAttributeError\u001b[0m: 'tuple' object has no attribute 'append'"
     ]
    }
   ],
   "source": [
    "work_location.append('hydrabad')"
   ]
  },
  {
   "cell_type": "markdown",
   "id": "6ccac3b6",
   "metadata": {},
   "source": [
    "**not possible cause touple is immutable..\n",
    "but how do i had it?\n",
    "yes we can convert touple into list and change the data as per our wish..**"
   ]
  },
  {
   "cell_type": "code",
   "execution_count": 6,
   "id": "4fe03d4d",
   "metadata": {},
   "outputs": [
    {
     "data": {
      "text/plain": [
       "['bengaluru', 'noida', 'chennai', 'delhi']"
      ]
     },
     "execution_count": 6,
     "metadata": {},
     "output_type": "execute_result"
    }
   ],
   "source": [
    "#convert into list and reassign or you can store in new variable as per the need\n",
    "work_location = list(work_location)\n",
    "work_location"
   ]
  },
  {
   "cell_type": "code",
   "execution_count": 7,
   "id": "e1a7937c",
   "metadata": {},
   "outputs": [
    {
     "data": {
      "text/plain": [
       "list"
      ]
     },
     "execution_count": 7,
     "metadata": {},
     "output_type": "execute_result"
    }
   ],
   "source": [
    "type(work_location)"
   ]
  },
  {
   "cell_type": "code",
   "execution_count": 8,
   "id": "1d761645",
   "metadata": {},
   "outputs": [
    {
     "data": {
      "text/plain": [
       "['bengaluru', 'noida', 'chennai', 'delhi', 'hydrabad']"
      ]
     },
     "execution_count": 8,
     "metadata": {},
     "output_type": "execute_result"
    }
   ],
   "source": [
    "#change the data.\n",
    "work_location.append('hydrabad')\n",
    "work_location"
   ]
  },
  {
   "cell_type": "code",
   "execution_count": 9,
   "id": "e9446816",
   "metadata": {},
   "outputs": [
    {
     "data": {
      "text/plain": [
       "['bengaluru', 'kolkata', 'chennai', 'delhi', 'hydrabad']"
      ]
     },
     "execution_count": 9,
     "metadata": {},
     "output_type": "execute_result"
    }
   ],
   "source": [
    "work_location[1]='kolkata'\n",
    "work_location"
   ]
  },
  {
   "cell_type": "code",
   "execution_count": 10,
   "id": "bb285b56",
   "metadata": {},
   "outputs": [],
   "source": [
    "#convert into touple\n",
    "work_location = tuple(work_location)"
   ]
  },
  {
   "cell_type": "code",
   "execution_count": 11,
   "id": "9457afb2",
   "metadata": {},
   "outputs": [
    {
     "data": {
      "text/plain": [
       "('bengaluru', 'kolkata', 'chennai', 'delhi', 'hydrabad')"
      ]
     },
     "execution_count": 11,
     "metadata": {},
     "output_type": "execute_result"
    }
   ],
   "source": [
    "work_location"
   ]
  },
  {
   "cell_type": "code",
   "execution_count": 12,
   "id": "40f8131a",
   "metadata": {},
   "outputs": [
    {
     "data": {
      "text/plain": [
       "5"
      ]
     },
     "execution_count": 12,
     "metadata": {},
     "output_type": "execute_result"
    }
   ],
   "source": [
    "#check len just like a list\n",
    "len(work_location)"
   ]
  },
  {
   "cell_type": "markdown",
   "id": "ebcb51a7",
   "metadata": {},
   "source": [
    "**similarly you can work numbers as well. no change in the concept.**"
   ]
  },
  {
   "cell_type": "code",
   "execution_count": 13,
   "id": "5cbe3e1e",
   "metadata": {},
   "outputs": [
    {
     "data": {
      "text/plain": [
       "('bengaluru', 'kolkata', 'chennai', 'delhi', 'hydrabad')"
      ]
     },
     "execution_count": 13,
     "metadata": {},
     "output_type": "execute_result"
    }
   ],
   "source": [
    "work_location"
   ]
  },
  {
   "cell_type": "code",
   "execution_count": 14,
   "id": "d8b839db",
   "metadata": {},
   "outputs": [
    {
     "data": {
      "text/plain": [
       "'kolkata'"
      ]
     },
     "execution_count": 14,
     "metadata": {},
     "output_type": "execute_result"
    }
   ],
   "source": [
    "#use indexing just like we did in lists\n",
    "work_location[1]"
   ]
  },
  {
   "cell_type": "code",
   "execution_count": 15,
   "id": "374ed3a3",
   "metadata": {},
   "outputs": [
    {
     "data": {
      "text/plain": [
       "'delhi'"
      ]
     },
     "execution_count": 15,
     "metadata": {},
     "output_type": "execute_result"
    }
   ],
   "source": [
    "#slicing just like a list\n",
    "work_location[-2]"
   ]
  },
  {
   "cell_type": "markdown",
   "id": "89301fe2",
   "metadata": {},
   "source": [
    "**BASIC TUPLE METHODS**"
   ]
  },
  {
   "cell_type": "code",
   "execution_count": 17,
   "id": "ab86fb19",
   "metadata": {},
   "outputs": [
    {
     "data": {
      "text/plain": [
       "(25, 50, 88, 90, 50)"
      ]
     },
     "execution_count": 17,
     "metadata": {},
     "output_type": "execute_result"
    }
   ],
   "source": [
    "numbers=(25,50,88,90,50)\n",
    "numbers"
   ]
  },
  {
   "cell_type": "code",
   "execution_count": 19,
   "id": "b254a8e0",
   "metadata": {},
   "outputs": [
    {
     "data": {
      "text/plain": [
       "1"
      ]
     },
     "execution_count": 19,
     "metadata": {},
     "output_type": "execute_result"
    }
   ],
   "source": [
    "#use index to enter a value and return the index\n",
    "numbers.index(50)"
   ]
  },
  {
   "cell_type": "code",
   "execution_count": 20,
   "id": "d2e203ec",
   "metadata": {},
   "outputs": [
    {
     "data": {
      "text/plain": [
       "2"
      ]
     },
     "execution_count": 20,
     "metadata": {},
     "output_type": "execute_result"
    }
   ],
   "source": [
    "#use count to count the numbers of times a value apaears\n",
    "numbers.count(50)"
   ]
  },
  {
   "cell_type": "code",
   "execution_count": null,
   "id": "61306db2",
   "metadata": {},
   "outputs": [],
   "source": []
  },
  {
   "cell_type": "code",
   "execution_count": null,
   "id": "7e244b72",
   "metadata": {},
   "outputs": [],
   "source": []
  }
 ],
 "metadata": {
  "kernelspec": {
   "display_name": "Python 3 (ipykernel)",
   "language": "python",
   "name": "python3"
  },
  "language_info": {
   "codemirror_mode": {
    "name": "ipython",
    "version": 3
   },
   "file_extension": ".py",
   "mimetype": "text/x-python",
   "name": "python",
   "nbconvert_exporter": "python",
   "pygments_lexer": "ipython3",
   "version": "3.9.12"
  }
 },
 "nbformat": 4,
 "nbformat_minor": 5
}
