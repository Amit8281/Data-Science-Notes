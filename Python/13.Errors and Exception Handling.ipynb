{
 "cells": [
  {
   "cell_type": "markdown",
   "id": "0f1caefc",
   "metadata": {},
   "source": [
    "# Errors and Exception Handling"
   ]
  },
  {
   "cell_type": "markdown",
   "id": "64fd8cbe",
   "metadata": {},
   "source": [
    "in this section , we will learn about errors and exception handling in python . You've might have identify encountered errors by this point in the course."
   ]
  },
  {
   "cell_type": "code",
   "execution_count": null,
   "id": "693a1e16",
   "metadata": {},
   "outputs": [],
   "source": [
    "print('Hellow)"
   ]
  },
  {
   "cell_type": "markdown",
   "id": "7e912c6f",
   "metadata": {},
   "source": [
    "note how we get a syntex errors with the further discription that it was an end of Line Error(EOL) while scanning the string litral . this is specific enough for us to see that we forgot a single quote at the end of the line. understanding of these various errors types will help you debug your code much faster."
   ]
  },
  {
   "cell_type": "markdown",
   "id": "ee0bbdd3",
   "metadata": {},
   "source": [
    "this type of error and description is known as exception. Even if a statement or expression is syntactically correct , it may cause ann error when an attemp is made to excute it . errors decteted during excution are called exceptions are not unconditionally fatal."
   ]
  },
  {
   "cell_type": "markdown",
   "id": "5d20fad8",
   "metadata": {},
   "source": [
    "you can check out the full list of built in exception here. now  lrts learn how to handle errors and exceptions in our own code"
   ]
  },
  {
   "cell_type": "markdown",
   "id": "5745574b",
   "metadata": {},
   "source": [
    "# try and except"
   ]
  },
  {
   "cell_type": "markdown",
   "id": "2bebaa28",
   "metadata": {},
   "source": [
    "the basic terminology and syntax used to handle errors in python is the try and except statements. the code which can cause an exception to occur is put in the try block and the handling of the exception are the implemented in the except block of code. The syntax form is:"
   ]
  },
  {
   "cell_type": "raw",
   "id": "8b21ead4",
   "metadata": {},
   "source": [
    "try:\n",
    "    you do byour operation here...\n",
    "    ...\n",
    "    except exceptionI:\n",
    "        if there is exception I, then excute this block.\n",
    "    except exceptionII:\n",
    "        if there is exception II, then excute this block.\n",
    "        ...\n",
    "    else:\n",
    "         if there is no exception then excute this block."
   ]
  },
  {
   "cell_type": "markdown",
   "id": "a525dc91",
   "metadata": {},
   "source": [
    "using just except, we can check for any exception: to understand better let's check out a sample code."
   ]
  },
  {
   "cell_type": "code",
   "execution_count": 1,
   "id": "5e6c1ed4",
   "metadata": {},
   "outputs": [],
   "source": [
    "marks_1 = 88\n",
    "subject = 'Data science'\n",
    "marks_2 = 33"
   ]
  },
  {
   "cell_type": "code",
   "execution_count": 2,
   "id": "17b4f6aa",
   "metadata": {},
   "outputs": [
    {
     "ename": "TypeError",
     "evalue": "unsupported operand type(s) for +: 'int' and 'str'",
     "output_type": "error",
     "traceback": [
      "\u001b[1;31m---------------------------------------------------------------------------\u001b[0m",
      "\u001b[1;31mTypeError\u001b[0m                                 Traceback (most recent call last)",
      "Input \u001b[1;32mIn [2]\u001b[0m, in \u001b[0;36m<cell line: 1>\u001b[1;34m()\u001b[0m\n\u001b[1;32m----> 1\u001b[0m total \u001b[38;5;241m=\u001b[39m \u001b[43mmarks_1\u001b[49m\u001b[43m \u001b[49m\u001b[38;5;241;43m+\u001b[39;49m\u001b[43m \u001b[49m\u001b[43msubject\u001b[49m\n",
      "\u001b[1;31mTypeError\u001b[0m: unsupported operand type(s) for +: 'int' and 'str'"
     ]
    }
   ],
   "source": [
    "total = marks_1 + subject"
   ]
  },
  {
   "cell_type": "code",
   "execution_count": 3,
   "id": "e1ab3b25",
   "metadata": {},
   "outputs": [
    {
     "name": "stdout",
     "output_type": "stream",
     "text": [
      "you are adding integer to string. make sure both data types are matching\n"
     ]
    }
   ],
   "source": [
    "try:\n",
    "    total = marks_1 + subject\n",
    "#    print (average) you can also return the result here\n",
    "\n",
    "except TypeError:\n",
    "    print('you are adding integer to string. make sure both data types are matching')\n",
    "    \n",
    "#else is optional sometimes\n",
    "else:\n",
    "    print('Total marks = ', total)"
   ]
  },
  {
   "cell_type": "markdown",
   "id": "a59cc76d",
   "metadata": {},
   "source": [
    "in the above example you got an error now you know your mistake , you can correct your mistake now."
   ]
  },
  {
   "cell_type": "code",
   "execution_count": 4,
   "id": "6d3f2ec2",
   "metadata": {},
   "outputs": [
    {
     "name": "stdout",
     "output_type": "stream",
     "text": [
      "Total marks =  121\n"
     ]
    }
   ],
   "source": [
    "try:\n",
    "    total = marks_1 + marks_2\n",
    "# print (average) you can also return the result here\n",
    "\n",
    "except:\n",
    "    print(\"you are adding integer to string. make sure both data types are string\")\n",
    "    \n",
    "else:\n",
    "    print('Total marks = ', total)"
   ]
  },
  {
   "cell_type": "markdown",
   "id": "e78a90f8",
   "metadata": {},
   "source": [
    "**Lets try how this works in real life**"
   ]
  },
  {
   "cell_type": "markdown",
   "id": "fe26d22c",
   "metadata": {},
   "source": [
    "write a program to insure car or renew car insurance. Programme to accept Car Number, Customer name and Mobile number. if user dont provide the details then system needs to raise Exception saying it is mandatary field/ required field."
   ]
  },
  {
   "cell_type": "markdown",
   "id": "94f4251b",
   "metadata": {},
   "source": [
    ". lets check this in real time"
   ]
  },
  {
   "cell_type": "markdown",
   "id": "02eabcb2",
   "metadata": {},
   "source": [
    "https://www.insurancedekho.com/car-insurance"
   ]
  },
  {
   "cell_type": "code",
   "execution_count": 7,
   "id": "c1544a94",
   "metadata": {},
   "outputs": [
    {
     "name": "stdout",
     "output_type": "stream",
     "text": [
      "your car number123455\n",
      "nameamit bhardwaj\n",
      "mobile number8279639443\n",
      "thank for all the details\n"
     ]
    }
   ],
   "source": [
    "try:\n",
    "    car_number = input('your car number')\n",
    "    name = input('name')\n",
    "    mobile = input('mobile number')\n",
    "    \n",
    "    if car_number == '':\n",
    "        raise exception()\n",
    "    elif name == '':\n",
    "        raise exception()\n",
    "    elif mobile == '':\n",
    "        raise exception()\n",
    "    else:\n",
    "         pass\n",
    "except:\n",
    "    #for car number\n",
    "    if car_number == '':\n",
    "        print('\\n the registration number field is required. \\n')  #'\\n' means move to next line\n",
    "    #for name\n",
    "    if name =='':\n",
    "        print('the customer name field is required. \\n')\n",
    "        \n",
    "    \n",
    "    #mobile\n",
    "    if mobile == '':\n",
    "        print('the mobile number field is required.')\n",
    "        \n",
    "#else part will excute only whwn there is no issue with try block\n",
    "else:\n",
    "    print('thank for all the details')"
   ]
  },
  {
   "cell_type": "markdown",
   "id": "fc406747",
   "metadata": {},
   "source": [
    "**finally block**"
   ]
  },
  {
   "cell_type": "markdown",
   "id": "64777803",
   "metadata": {},
   "source": [
    "now we don't actually need to memorize the list of exception type now what if we keep wanting to run code after the exception occured ? This is where Finally comes in."
   ]
  },
  {
   "cell_type": "markdown",
   "id": "18da9164",
   "metadata": {},
   "source": [
    "##finally the finally : Block of code will always be run regardles if there was n exception in the try code block. The syntax is "
   ]
  },
  {
   "cell_type": "raw",
   "id": "985e8002",
   "metadata": {},
   "source": [
    "try:\n",
    "    code block here\n",
    "    ...\n",
    "    due to any exception , this code may be skipped!\n",
    "finally:\n",
    "     this code block would always be excuted.\n",
    "for example:"
   ]
  },
  {
   "cell_type": "code",
   "execution_count": 9,
   "id": "5512be9c",
   "metadata": {},
   "outputs": [
    {
     "name": "stdout",
     "output_type": "stream",
     "text": [
      "your car number\n",
      "name\n",
      "mobile number123456\n",
      "\n",
      " the registration number field is required. \n",
      "\n",
      "the customer name field is required. \n",
      "\n",
      "in case finally block will excute\n"
     ]
    }
   ],
   "source": [
    "try:\n",
    "    car_number = input('your car number')\n",
    "    name = input('name')\n",
    "    mobile = input('mobile number')\n",
    "    \n",
    "    if car_number == '':\n",
    "        raise exception()\n",
    "    elif name == '':\n",
    "        raise exception()\n",
    "    elif mobile == '':\n",
    "        raise exception()\n",
    "    else:\n",
    "         pass\n",
    "except:\n",
    "    #for car number\n",
    "    if car_number == '':\n",
    "        print('\\n the registration number field is required. \\n')  #'\\n' means move to next line\n",
    "    #for name\n",
    "    if name =='':\n",
    "        print('the customer name field is required. \\n')\n",
    "        \n",
    "    \n",
    "    #mobile\n",
    "    if mobile == '':\n",
    "        print('the mobile number field is required.')\n",
    "        \n",
    "#finally block excutes all the time\n",
    "# this will help us to know if programme is not closing in between .It also close the object and clean up\n",
    "finally:\n",
    "    print('in case finally block will excute')\n",
    "    "
   ]
  },
  {
   "cell_type": "markdown",
   "id": "fb1821a0",
   "metadata": {},
   "source": [
    "we can use this in cunjuction with except. lets see a new example that will take into account a user putting in the wrong input:"
   ]
  },
  {
   "cell_type": "code",
   "execution_count": 13,
   "id": "c8af4e06",
   "metadata": {},
   "outputs": [],
   "source": [
    "def mobile_num():\n",
    "    try:\n",
    "        val = int(input(\"please enter your phone number:  \"))\n",
    "        \n",
    "    except:\n",
    "        print(\"looks like you did not enter an integer!\")\n",
    "        \n",
    "        print(val)"
   ]
  },
  {
   "cell_type": "code",
   "execution_count": 16,
   "id": "a0df5531",
   "metadata": {},
   "outputs": [
    {
     "name": "stdout",
     "output_type": "stream",
     "text": [
      "please enter your phone number:  12333333\n"
     ]
    }
   ],
   "source": [
    "mobile_num()"
   ]
  },
  {
   "cell_type": "markdown",
   "id": "4e08d153",
   "metadata": {},
   "source": [
    "check how we got an error when trying to print val ( because it was properly assigned ) lets find the right solution by asking the user and checking to make sure the input type is an integer"
   ]
  },
  {
   "cell_type": "code",
   "execution_count": 18,
   "id": "3f0c21ac",
   "metadata": {},
   "outputs": [],
   "source": [
    "val = 8279639443"
   ]
  },
  {
   "cell_type": "code",
   "execution_count": 19,
   "id": "7e45f19c",
   "metadata": {},
   "outputs": [
    {
     "ename": "TypeError",
     "evalue": "object of type 'int' has no len()",
     "output_type": "error",
     "traceback": [
      "\u001b[1;31m---------------------------------------------------------------------------\u001b[0m",
      "\u001b[1;31mTypeError\u001b[0m                                 Traceback (most recent call last)",
      "Input \u001b[1;32mIn [19]\u001b[0m, in \u001b[0;36m<cell line: 1>\u001b[1;34m()\u001b[0m\n\u001b[1;32m----> 1\u001b[0m \u001b[38;5;28;43mlen\u001b[39;49m\u001b[43m(\u001b[49m\u001b[43mval\u001b[49m\u001b[43m)\u001b[49m\n",
      "\u001b[1;31mTypeError\u001b[0m: object of type 'int' has no len()"
     ]
    }
   ],
   "source": [
    "len(val)"
   ]
  },
  {
   "cell_type": "code",
   "execution_count": 20,
   "id": "d85d6d43",
   "metadata": {},
   "outputs": [
    {
     "data": {
      "text/plain": [
       "10"
      ]
     },
     "execution_count": 20,
     "metadata": {},
     "output_type": "execute_result"
    }
   ],
   "source": [
    "len(str(val))"
   ]
  },
  {
   "cell_type": "code",
   "execution_count": 23,
   "id": "3a757f0c",
   "metadata": {},
   "outputs": [],
   "source": [
    "def mobile_num():\n",
    "    while True:\n",
    "        try:\n",
    "            val = int(input(\"please enter mobile number: \")) #if it is not int control jumps to except\n",
    "            \n",
    "            if len(str(val)) != 10:\n",
    "                print('mobile number must be 10 digits')\n",
    "                continue\n",
    "            else:\n",
    "                print('thank you')\n",
    "                break\n",
    "                \n",
    "        except:\n",
    "                print(\"looks like you did not enter an integer !\")\n",
    "                continue"
   ]
  },
  {
   "cell_type": "code",
   "execution_count": 24,
   "id": "7b8a0291",
   "metadata": {},
   "outputs": [
    {
     "name": "stdout",
     "output_type": "stream",
     "text": [
      "please enter mobile number: 1234\n",
      "mobile number must be 10 digits\n",
      "please enter mobile number: 8279639443\n",
      "thank you\n"
     ]
    }
   ],
   "source": [
    "mobile_num()"
   ]
  },
  {
   "cell_type": "code",
   "execution_count": null,
   "id": "4ecaead4",
   "metadata": {},
   "outputs": [],
   "source": []
  }
 ],
 "metadata": {
  "kernelspec": {
   "display_name": "Python 3 (ipykernel)",
   "language": "python",
   "name": "python3"
  },
  "language_info": {
   "codemirror_mode": {
    "name": "ipython",
    "version": 3
   },
   "file_extension": ".py",
   "mimetype": "text/x-python",
   "name": "python",
   "nbconvert_exporter": "python",
   "pygments_lexer": "ipython3",
   "version": "3.9.12"
  }
 },
 "nbformat": 4,
 "nbformat_minor": 5
}
