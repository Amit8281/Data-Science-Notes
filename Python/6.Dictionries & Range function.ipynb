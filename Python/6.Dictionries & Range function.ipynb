{
 "cells": [
  {
   "cell_type": "markdown",
   "id": "263e0e12",
   "metadata": {},
   "source": [
    "# Dictionaries"
   ]
  },
  {
   "cell_type": "markdown",
   "id": "1de9d333",
   "metadata": {},
   "source": [
    "we have learn about 'sequences' in the privious sesion. now lets switch the gear and learn \"mapping\" in python . these dictionaries are nothing but hash tables in other programming languages."
   ]
  },
  {
   "cell_type": "markdown",
   "id": "6a6f58a9",
   "metadata": {},
   "source": [
    "mapping are a collection of objects that are stored by a \"key\". Unlike a sequence , mapping store objects by their relative position. this is an importtant distinction since mappings wont retain the order since they have objects defined by a key."
   ]
  },
  {
   "cell_type": "markdown",
   "id": "6364acd2",
   "metadata": {},
   "source": [
    "A python dictionary consists of a key and then an associated value. that value can be almost any python object."
   ]
  },
  {
   "cell_type": "markdown",
   "id": "11f636e7",
   "metadata": {},
   "source": [
    "column names is called 'key' and given data is called 'value'"
   ]
  },
  {
   "cell_type": "markdown",
   "id": "51f1a50b",
   "metadata": {},
   "source": [
    "**constructing a Dictionary**"
   ]
  },
  {
   "cell_type": "code",
   "execution_count": 8,
   "id": "07b6bdea",
   "metadata": {},
   "outputs": [],
   "source": [
    "my_dict = {\"key1\":\"value1\",\"key2\":\"value2\"}"
   ]
  },
  {
   "cell_type": "code",
   "execution_count": 9,
   "id": "c4b2a400",
   "metadata": {},
   "outputs": [
    {
     "data": {
      "text/plain": [
       "{'key1': 'value1', 'key2': 'value2'}"
      ]
     },
     "execution_count": 9,
     "metadata": {},
     "output_type": "execute_result"
    }
   ],
   "source": [
    "my_dict"
   ]
  },
  {
   "cell_type": "code",
   "execution_count": 10,
   "id": "f07aa271",
   "metadata": {},
   "outputs": [
    {
     "data": {
      "text/plain": [
       "'value2'"
      ]
     },
     "execution_count": 10,
     "metadata": {},
     "output_type": "execute_result"
    }
   ],
   "source": [
    "#call value by their key\n",
    "my_dict['key2']"
   ]
  },
  {
   "cell_type": "code",
   "execution_count": 11,
   "id": "aaf161c1",
   "metadata": {},
   "outputs": [],
   "source": [
    "my_dict = {'roll_number':123,'marks':[12,23,33],'subject':['computer','science','maths']}"
   ]
  },
  {
   "cell_type": "code",
   "execution_count": 12,
   "id": "26835b06",
   "metadata": {},
   "outputs": [
    {
     "data": {
      "text/plain": [
       "['computer', 'science', 'maths']"
      ]
     },
     "execution_count": 12,
     "metadata": {},
     "output_type": "execute_result"
    }
   ],
   "source": [
    "#let's call item from the dictionary\n",
    "my_dict['subject']"
   ]
  },
  {
   "cell_type": "code",
   "execution_count": 13,
   "id": "b0a531df",
   "metadata": {},
   "outputs": [
    {
     "data": {
      "text/plain": [
       "'science'"
      ]
     },
     "execution_count": 13,
     "metadata": {},
     "output_type": "execute_result"
    }
   ],
   "source": [
    "#let's call on index on that value\n",
    "my_dict['subject'][1]"
   ]
  },
  {
   "cell_type": "code",
   "execution_count": 16,
   "id": "0d38cce4",
   "metadata": {},
   "outputs": [
    {
     "data": {
      "text/plain": [
       "'maths'"
      ]
     },
     "execution_count": 16,
     "metadata": {},
     "output_type": "execute_result"
    }
   ],
   "source": [
    "my_dict['subject'][2]"
   ]
  },
  {
   "cell_type": "code",
   "execution_count": 17,
   "id": "5032fdc2",
   "metadata": {},
   "outputs": [
    {
     "data": {
      "text/plain": [
       "'COMPUTER'"
      ]
     },
     "execution_count": 17,
     "metadata": {},
     "output_type": "execute_result"
    }
   ],
   "source": [
    "##can then even call method on that value\n",
    "my_dict['subject'][0].upper()"
   ]
  },
  {
   "cell_type": "code",
   "execution_count": 18,
   "id": "93821555",
   "metadata": {},
   "outputs": [
    {
     "data": {
      "text/plain": [
       "[12, 23, 33]"
      ]
     },
     "execution_count": 18,
     "metadata": {},
     "output_type": "execute_result"
    }
   ],
   "source": [
    "my_dict['marks']"
   ]
  },
  {
   "cell_type": "code",
   "execution_count": 19,
   "id": "8889fe03",
   "metadata": {},
   "outputs": [],
   "source": [
    "#add marks to the first element\n",
    "my_dict['marks'][0]= my_dict['marks'][0]+30"
   ]
  },
  {
   "cell_type": "code",
   "execution_count": 20,
   "id": "aaf8a0cc",
   "metadata": {},
   "outputs": [
    {
     "data": {
      "text/plain": [
       "[42, 23, 33]"
      ]
     },
     "execution_count": 20,
     "metadata": {},
     "output_type": "execute_result"
    }
   ],
   "source": [
    "#check\n",
    "my_dict['marks']"
   ]
  },
  {
   "cell_type": "code",
   "execution_count": 21,
   "id": "69318173",
   "metadata": {},
   "outputs": [],
   "source": [
    "#another way to adding\n",
    "my_dict['marks'][2]+=20"
   ]
  },
  {
   "cell_type": "code",
   "execution_count": 22,
   "id": "e0b2541c",
   "metadata": {},
   "outputs": [
    {
     "data": {
      "text/plain": [
       "[42, 23, 53]"
      ]
     },
     "execution_count": 22,
     "metadata": {},
     "output_type": "execute_result"
    }
   ],
   "source": [
    "my_dict['marks']"
   ]
  },
  {
   "cell_type": "code",
   "execution_count": 23,
   "id": "91e266ba",
   "metadata": {},
   "outputs": [],
   "source": [
    "#substracting\n",
    "my_dict['marks'][2]-=3"
   ]
  },
  {
   "cell_type": "code",
   "execution_count": 24,
   "id": "ea19652e",
   "metadata": {},
   "outputs": [
    {
     "data": {
      "text/plain": [
       "[42, 23, 50]"
      ]
     },
     "execution_count": 24,
     "metadata": {},
     "output_type": "execute_result"
    }
   ],
   "source": [
    "my_dict['marks']"
   ]
  },
  {
   "cell_type": "code",
   "execution_count": 25,
   "id": "449c6d04",
   "metadata": {},
   "outputs": [],
   "source": [
    "#add new keys\n",
    "my_dict['year'] ='3rd'"
   ]
  },
  {
   "cell_type": "code",
   "execution_count": 26,
   "id": "30190c9c",
   "metadata": {},
   "outputs": [
    {
     "data": {
      "text/plain": [
       "{'roll_number': 123,\n",
       " 'marks': [42, 23, 50],\n",
       " 'subject': ['computer', 'science', 'maths'],\n",
       " 'year': '3rd'}"
      ]
     },
     "execution_count": 26,
     "metadata": {},
     "output_type": "execute_result"
    }
   ],
   "source": [
    "my_dict"
   ]
  },
  {
   "cell_type": "code",
   "execution_count": 27,
   "id": "48bc5974",
   "metadata": {},
   "outputs": [],
   "source": [
    "#update values\n",
    "my_dict.update({'roll_number':100})"
   ]
  },
  {
   "cell_type": "code",
   "execution_count": 28,
   "id": "e8f1cd0a",
   "metadata": {},
   "outputs": [
    {
     "data": {
      "text/plain": [
       "{'roll_number': 100,\n",
       " 'marks': [42, 23, 50],\n",
       " 'subject': ['computer', 'science', 'maths'],\n",
       " 'year': '3rd'}"
      ]
     },
     "execution_count": 28,
     "metadata": {},
     "output_type": "execute_result"
    }
   ],
   "source": [
    "my_dict"
   ]
  },
  {
   "cell_type": "code",
   "execution_count": 29,
   "id": "38248dec",
   "metadata": {},
   "outputs": [
    {
     "data": {
      "text/plain": [
       "dict_keys(['roll_number', 'marks', 'subject', 'year'])"
      ]
     },
     "execution_count": 29,
     "metadata": {},
     "output_type": "execute_result"
    }
   ],
   "source": [
    "my_dict.keys()"
   ]
  },
  {
   "cell_type": "code",
   "execution_count": 30,
   "id": "caaed0b6",
   "metadata": {},
   "outputs": [
    {
     "data": {
      "text/plain": [
       "dict_values([100, [42, 23, 50], ['computer', 'science', 'maths'], '3rd'])"
      ]
     },
     "execution_count": 30,
     "metadata": {},
     "output_type": "execute_result"
    }
   ],
   "source": [
    "my_dict.values()"
   ]
  },
  {
   "cell_type": "code",
   "execution_count": 31,
   "id": "e36cd7bf",
   "metadata": {},
   "outputs": [
    {
     "data": {
      "text/plain": [
       "dict_items([('roll_number', 100), ('marks', [42, 23, 50]), ('subject', ['computer', 'science', 'maths']), ('year', '3rd')])"
      ]
     },
     "execution_count": 31,
     "metadata": {},
     "output_type": "execute_result"
    }
   ],
   "source": [
    "#items will return both keys and corrosponding values\n",
    "my_dict.items()"
   ]
  },
  {
   "cell_type": "markdown",
   "id": "b4ec8997",
   "metadata": {},
   "source": [
    "**end of dictionary**"
   ]
  },
  {
   "cell_type": "markdown",
   "id": "5aaaa1ed",
   "metadata": {},
   "source": [
    "# Branching (if/elif/else)"
   ]
  },
  {
   "cell_type": "code",
   "execution_count": 38,
   "id": "8907b623",
   "metadata": {},
   "outputs": [
    {
     "name": "stdout",
     "output_type": "stream",
     "text": [
      "it is less then 10\n"
     ]
    }
   ],
   "source": [
    "i = 9\n",
    "\n",
    "if i < 10 :\n",
    "    print('it is less then 10')\n",
    "else:\n",
    "    print('it is something else')"
   ]
  },
  {
   "cell_type": "code",
   "execution_count": 37,
   "id": "c882ab78",
   "metadata": {},
   "outputs": [
    {
     "name": "stdout",
     "output_type": "stream",
     "text": [
      "it is less than 10\n"
     ]
    }
   ],
   "source": [
    "#you can also write in this way\n",
    "print('it is less than 10') if i <10 else print ('it is something else')"
   ]
  },
  {
   "cell_type": "markdown",
   "id": "d5c4c30d",
   "metadata": {},
   "source": [
    "**Free Shipping message**"
   ]
  },
  {
   "cell_type": "code",
   "execution_count": 41,
   "id": "148696fc",
   "metadata": {},
   "outputs": [
    {
     "name": "stdout",
     "output_type": "stream",
     "text": [
      "please add  50 rs worth of an item for free shipping\n"
     ]
    }
   ],
   "source": [
    "item_1 = 300\n",
    "item_2 = 150\n",
    "if (item_1+ item_2)>= 500:\n",
    "    print(\"your items are eligible for free shipping\")\n",
    "    \n",
    "else:\n",
    "    extra = 500 - (item_1 + item_2)\n",
    "    print('please add ', extra, 'rs worth of an item for free shipping')"
   ]
  },
  {
   "cell_type": "code",
   "execution_count": 49,
   "id": "e27eef08",
   "metadata": {},
   "outputs": [
    {
     "name": "stdout",
     "output_type": "stream",
     "text": [
      "both are not true\n"
     ]
    }
   ],
   "source": [
    "#using 'and'\n",
    "a = 200\n",
    "b = 33\n",
    "c= 500\n",
    "if a > b and c < a:\n",
    "    print('both conditions are true')\n",
    "else:\n",
    "    print('both are not true')"
   ]
  },
  {
   "cell_type": "code",
   "execution_count": 48,
   "id": "f02c4582",
   "metadata": {},
   "outputs": [
    {
     "name": "stdout",
     "output_type": "stream",
     "text": [
      "at least one of the condition is True\n"
     ]
    }
   ],
   "source": [
    "#using 'or'\n",
    "a = 200\n",
    "b = 33\n",
    "c= 500\n",
    "if a > b or c < a:\n",
    "    print('at least one of the condition is True')\n",
    "else:\n",
    "    print('both are not True')"
   ]
  },
  {
   "cell_type": "markdown",
   "id": "5734c130",
   "metadata": {},
   "source": [
    "**Find student level**"
   ]
  },
  {
   "cell_type": "code",
   "execution_count": 1,
   "id": "91d38d5d",
   "metadata": {},
   "outputs": [
    {
     "name": "stdout",
     "output_type": "stream",
     "text": [
      "30 - Fail - Better luck next time\n"
     ]
    }
   ],
   "source": [
    "marks = 30\n",
    "\n",
    "if marks >= 60:\n",
    "    if marks > 70:\n",
    "        print(marks, '- Distinction')\n",
    "    else:        \n",
    "            print(marks, '- First class')\n",
    "            \n",
    "elif marks > 50 and marks < 60:\n",
    "    print(marks, '- Second class')\n",
    "    \n",
    "elif marks >= 35:\n",
    "    print(marks, '-Pass')\n",
    "    \n",
    "else:\n",
    "    print(marks, '- Fail - Better luck next time' )   "
   ]
  },
  {
   "cell_type": "code",
   "execution_count": 15,
   "id": "e27bfeff",
   "metadata": {},
   "outputs": [
    {
     "name": "stdout",
     "output_type": "stream",
     "text": [
      "its greater than 25\n"
     ]
    }
   ],
   "source": [
    "num1 = 20\n",
    "num2 = 30\n",
    "if num1 == '20':\n",
    "    print('its not 20')\n",
    "elif num2 > 25:\n",
    "    print ('its greater than 25')"
   ]
  },
  {
   "cell_type": "markdown",
   "id": "dc1504d2",
   "metadata": {},
   "source": [
    "# **The range () function**"
   ]
  },
  {
   "cell_type": "markdown",
   "id": "a522ffae",
   "metadata": {},
   "source": [
    "we can generate sequence of number using range( function, range(10) will generate numbers from 0 to 9 (10 numbers)\n",
    "we can also defin the start stop  and step size as range (start,stop,step size) step size defaults to 1 if not providd.\n",
    "the function does not store all teh values in memory it would be inefficiant so it remembers the start, stop, step size and generates the next number on the go.\n",
    "To force this function to outpul all the items we can use the function list().                                               "
   ]
  },
  {
   "cell_type": "code",
   "execution_count": 54,
   "id": "cbbce6a5",
   "metadata": {},
   "outputs": [
    {
     "name": "stdout",
     "output_type": "stream",
     "text": [
      "range(0, 10)\n"
     ]
    }
   ],
   "source": [
    "print(range(10))"
   ]
  },
  {
   "cell_type": "code",
   "execution_count": 55,
   "id": "57883a3f",
   "metadata": {},
   "outputs": [
    {
     "name": "stdout",
     "output_type": "stream",
     "text": [
      "[0, 1, 2, 3, 4, 5, 6, 7, 8, 9]\n"
     ]
    }
   ],
   "source": [
    "print(list(range(10)))"
   ]
  },
  {
   "cell_type": "code",
   "execution_count": 56,
   "id": "dbf7006f",
   "metadata": {},
   "outputs": [],
   "source": [
    "roll_numbers = list(range(1,8))"
   ]
  },
  {
   "cell_type": "code",
   "execution_count": 58,
   "id": "5f3f8dbf",
   "metadata": {},
   "outputs": [
    {
     "data": {
      "text/plain": [
       "[1, 2, 3, 4, 5, 6, 7]"
      ]
     },
     "execution_count": 58,
     "metadata": {},
     "output_type": "execute_result"
    }
   ],
   "source": [
    "roll_numbers"
   ]
  },
  {
   "cell_type": "code",
   "execution_count": 59,
   "id": "fec62a23",
   "metadata": {},
   "outputs": [
    {
     "data": {
      "text/plain": [
       "[0, 3, 6, 9, 12, 15, 18, 21, 24, 27, 30]"
      ]
     },
     "execution_count": 59,
     "metadata": {},
     "output_type": "execute_result"
    }
   ],
   "source": [
    "# step_size = list(range(start,stop,step_size))\n",
    "step_size = list(range(0 , 31 ,3))\n",
    "step_size"
   ]
  },
  {
   "cell_type": "code",
   "execution_count": 60,
   "id": "8e300442",
   "metadata": {},
   "outputs": [
    {
     "data": {
      "text/plain": [
       "[100,\n",
       " 200,\n",
       " 300,\n",
       " 400,\n",
       " 500,\n",
       " 600,\n",
       " 700,\n",
       " 800,\n",
       " 900,\n",
       " 1000,\n",
       " 1100,\n",
       " 1200,\n",
       " 1300,\n",
       " 1400,\n",
       " 1500,\n",
       " 1600]"
      ]
     },
     "execution_count": 60,
     "metadata": {},
     "output_type": "execute_result"
    }
   ],
   "source": [
    "incr_by_hund = list(range(100, 1601, 100))\n",
    "incr_by_hund"
   ]
  },
  {
   "cell_type": "code",
   "execution_count": 61,
   "id": "86a4d530",
   "metadata": {},
   "outputs": [
    {
     "data": {
      "text/plain": [
       "[1600,\n",
       " 1500,\n",
       " 1400,\n",
       " 1300,\n",
       " 1200,\n",
       " 1100,\n",
       " 1000,\n",
       " 900,\n",
       " 800,\n",
       " 700,\n",
       " 600,\n",
       " 500,\n",
       " 400,\n",
       " 300,\n",
       " 200,\n",
       " 100,\n",
       " 0]"
      ]
     },
     "execution_count": 61,
     "metadata": {},
     "output_type": "execute_result"
    }
   ],
   "source": [
    "reverse = list(range(1600, -1, -100))\n",
    "reverse"
   ]
  },
  {
   "cell_type": "markdown",
   "id": "7f3c5b6e",
   "metadata": {},
   "source": [
    "**range function does not work for Float data**"
   ]
  }
 ],
 "metadata": {
  "kernelspec": {
   "display_name": "Python 3 (ipykernel)",
   "language": "python",
   "name": "python3"
  },
  "language_info": {
   "codemirror_mode": {
    "name": "ipython",
    "version": 3
   },
   "file_extension": ".py",
   "mimetype": "text/x-python",
   "name": "python",
   "nbconvert_exporter": "python",
   "pygments_lexer": "ipython3",
   "version": "3.9.12"
  }
 },
 "nbformat": 4,
 "nbformat_minor": 5
}
