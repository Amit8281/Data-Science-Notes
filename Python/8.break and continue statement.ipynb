{
 "cells": [
  {
   "cell_type": "markdown",
   "id": "c476038f",
   "metadata": {},
   "source": [
    "# break and continue statement"
   ]
  },
  {
   "cell_type": "markdown",
   "id": "3b89e4c6",
   "metadata": {},
   "source": [
    "in puthon break and continue statement can alter the flow of a normal loop."
   ]
  },
  {
   "cell_type": "markdown",
   "id": "6de3516e",
   "metadata": {},
   "source": [
    "loops iterate over a block of code until test expressuion is false but sometime we wish to terminate the current iteration or even the whole loop without checking test expression."
   ]
  },
  {
   "cell_type": "markdown",
   "id": "4d36e992",
   "metadata": {},
   "source": [
    "the break and continue statement are used in these case."
   ]
  },
  {
   "cell_type": "markdown",
   "id": "820c2cf6",
   "metadata": {},
   "source": [
    "**Break**"
   ]
  },
  {
   "cell_type": "code",
   "execution_count": 3,
   "id": "1414a810",
   "metadata": {},
   "outputs": [
    {
     "name": "stdout",
     "output_type": "stream",
     "text": [
      "bengaluru\n",
      "delhi\n",
      "noida\n"
     ]
    }
   ],
   "source": [
    "#use of break statement inside loop\n",
    "city = ['bengaluru','delhi','noida','hydrabad','mumbai']\n",
    "\n",
    "for val in city:\n",
    "    if val == \"hydrabad\":\n",
    "        break\n",
    "    print(val) "
   ]
  },
  {
   "cell_type": "code",
   "execution_count": 5,
   "id": "04b26806",
   "metadata": {},
   "outputs": [
    {
     "name": "stdout",
     "output_type": "stream",
     "text": [
      "2000\n",
      "3800\n",
      "4000\n",
      "4500\n"
     ]
    }
   ],
   "source": [
    "#as soon as condition loop satisfy loop will break andit will not check next element\n",
    " \n",
    "    \n",
    "salary = [2000,3800,4000,4500,5000,7000,8000]\n",
    "    \n",
    "for value  in salary:\n",
    "    if value > 4600:\n",
    "        break\n",
    "    print(value)\n",
    "        "
   ]
  },
  {
   "cell_type": "markdown",
   "id": "adca2f35",
   "metadata": {},
   "source": [
    "**continue**"
   ]
  },
  {
   "cell_type": "markdown",
   "id": "fb966ce3",
   "metadata": {},
   "source": [
    "the continue statement is used to skip the rest of the code inside a loop for the current itration only. Loop does not terminate but continues on with the next iteration."
   ]
  },
  {
   "cell_type": "code",
   "execution_count": 6,
   "id": "e0d8156a",
   "metadata": {},
   "outputs": [
    {
     "name": "stdout",
     "output_type": "stream",
     "text": [
      "bengaluru\n",
      "delhi\n",
      "noida\n",
      "mumbai\n"
     ]
    }
   ],
   "source": [
    "#program to show the use of continue statement inside Loops\n",
    "city = ['bengaluru','delhi','noida','hydrabad','mumbai']\n",
    "\n",
    "for val in city:\n",
    "    if val == 'hydrabad':\n",
    "        continue\n",
    "    print(val)"
   ]
  },
  {
   "cell_type": "code",
   "execution_count": 7,
   "id": "7a182ac3",
   "metadata": {},
   "outputs": [
    {
     "name": "stdout",
     "output_type": "stream",
     "text": [
      "2000\n",
      "3800\n",
      "4000\n",
      "4500\n",
      "5000\n"
     ]
    }
   ],
   "source": [
    "salary = [2000,3800,4000,4500,5000,7000,8000]\n",
    "\n",
    "for val in salary:\n",
    "    if val > 5500:\n",
    "        continue\n",
    "    print(val)"
   ]
  },
  {
   "cell_type": "code",
   "execution_count": null,
   "id": "c0b448aa",
   "metadata": {},
   "outputs": [],
   "source": [
    "# Functions"
   ]
  },
  {
   "cell_type": "markdown",
   "id": "4bf1ba2f",
   "metadata": {},
   "source": [
    "**introduction to function**"
   ]
  },
  {
   "cell_type": "markdown",
   "id": "5e18c0ff",
   "metadata": {},
   "source": [
    "function will be one of our main building blocks when we construct large amount of code to solve problems"
   ]
  },
  {
   "cell_type": "markdown",
   "id": "da21b94a",
   "metadata": {},
   "source": [
    "a function group a set of statements together to run the statements more then once . it allowes us to specify parameters that can serve as inputs to the functions."
   ]
  },
  {
   "cell_type": "markdown",
   "id": "70a3ba52",
   "metadata": {},
   "source": [
    "Function is the most basic level of resuming code in Python and it will also allow us to start thinking of programme design."
   ]
  },
  {
   "cell_type": "markdown",
   "id": "65cc7992",
   "metadata": {},
   "source": [
    "**def statement**"
   ]
  },
  {
   "cell_type": "markdown",
   "id": "669dbd36",
   "metadata": {},
   "source": [
    "# **define function**"
   ]
  },
  {
   "cell_type": "code",
   "execution_count": null,
   "id": "c2ccfd12",
   "metadata": {},
   "outputs": [],
   "source": [
    "def name_of_function(arg1,arg2):\n",
    "    ''''''\n",
    "    this  is whwre the fonction documents string (doc - string) goes\n",
    "    \n",
    "    ''''''"
   ]
  },
  {
   "cell_type": "markdown",
   "id": "8aaa5b81",
   "metadata": {},
   "source": [
    "**Example 1 : simple print 'hellow' function**"
   ]
  },
  {
   "cell_type": "code",
   "execution_count": 8,
   "id": "e7d7fdb7",
   "metadata": {},
   "outputs": [],
   "source": [
    "def say_hellow():\n",
    "    \n",
    "    print('this is just a sample')"
   ]
  },
  {
   "cell_type": "code",
   "execution_count": 9,
   "id": "b65e6475",
   "metadata": {},
   "outputs": [
    {
     "name": "stdout",
     "output_type": "stream",
     "text": [
      "this is just a sample\n"
     ]
    }
   ],
   "source": [
    "say_hellow()"
   ]
  },
  {
   "cell_type": "markdown",
   "id": "a4173d19",
   "metadata": {},
   "source": [
    "**Example 2: A simple greeting function**"
   ]
  },
  {
   "cell_type": "code",
   "execution_count": 10,
   "id": "1c50868c",
   "metadata": {},
   "outputs": [],
   "source": [
    "def greeting (name):\n",
    "    print('hellow' , name)\n",
    "# print('hellow %s' %name)    "
   ]
  },
  {
   "cell_type": "code",
   "execution_count": 11,
   "id": "71678d88",
   "metadata": {},
   "outputs": [
    {
     "name": "stdout",
     "output_type": "stream",
     "text": [
      "hellow good morning\n"
     ]
    }
   ],
   "source": [
    "greeting('good morning')"
   ]
  },
  {
   "cell_type": "markdown",
   "id": "1ddd754e",
   "metadata": {},
   "source": [
    "**using return**"
   ]
  },
  {
   "cell_type": "markdown",
   "id": "4a31c185",
   "metadata": {},
   "source": [
    "**EX.1 Salary update example**"
   ]
  },
  {
   "cell_type": "code",
   "execution_count": 18,
   "id": "3ab0a42b",
   "metadata": {},
   "outputs": [],
   "source": [
    "#without return\n",
    "def salary_incr(fixed_salary,house_rent):\n",
    "    tot_sal = (fixed_salary + house_rent)\n",
    "    \n",
    "    if tot_sal <= 9000:\n",
    "        tot_sal + 1000\n",
    "    else:\n",
    "        return tot_sal"
   ]
  },
  {
   "cell_type": "code",
   "execution_count": 19,
   "id": "7cbab61a",
   "metadata": {},
   "outputs": [
    {
     "name": "stdout",
     "output_type": "stream",
     "text": [
      "your new salary =  None\n"
     ]
    }
   ],
   "source": [
    "print ('your new salary = ', salary_incr(6500,2000))"
   ]
  },
  {
   "cell_type": "code",
   "execution_count": 2,
   "id": "fbe1fe13",
   "metadata": {},
   "outputs": [],
   "source": [
    "#with return\n",
    "def salary_incr(fixed_salary,house_rent):\n",
    "    tot_sal = (fixed_salary + house_rent)\n",
    "    \n",
    "    if tot_sal <= 9000:\n",
    "        return tot_sal + 1000\n",
    "    else:\n",
    "        return tot_sal"
   ]
  },
  {
   "cell_type": "code",
   "execution_count": 3,
   "id": "40a0a5a1",
   "metadata": {},
   "outputs": [
    {
     "name": "stdout",
     "output_type": "stream",
     "text": [
      "your new salary =  5700\n"
     ]
    }
   ],
   "source": [
    "print ('your new salary = ', salary_incr(3500,1200))"
   ]
  },
  {
   "cell_type": "markdown",
   "id": "f7ecba50",
   "metadata": {},
   "source": [
    "**Lets check realtime example**"
   ]
  },
  {
   "cell_type": "markdown",
   "id": "b2610c30",
   "metadata": {},
   "source": [
    "**https://www.cartrade.com/used-car-price/**"
   ]
  },
  {
   "cell_type": "code",
   "execution_count": 7,
   "id": "88b0984e",
   "metadata": {},
   "outputs": [],
   "source": [
    "def used_car_price(car_year,car_brand,kmeters):\n",
    "    if car_year == 2020:\n",
    "        if 10000 < kmeters <= 15000:\n",
    "            if car_brand == 'Honda Amaze':\n",
    "                print('Rs 690000 - Rs 750000')\n",
    "            elif car_brand == 'Hyundai Creta':\n",
    "                print('Rs 945000 - 1080000')\n",
    "            else:\n",
    "                print('no stock right now , please visit after few days')\n",
    "                \n",
    "        elif 15001 < kmeters <= 25000:\n",
    "            if car_brand == 'Honda Amaze':\n",
    "                print('Rs 690000 - Rs 750000')\n",
    "            elif car_brand == 'Hyundai Creta':\n",
    "                print('Rs 945000 - 1080000')\n",
    "            else:\n",
    "                print('no stock right now , please visit after few days')\n",
    "        else:\n",
    "            print('no stocks')\n",
    "            \n",
    "    elif car_year == 2021:\n",
    "                \n",
    "        if 10000 < kmeters <= 15000:\n",
    "            if car_brand == 'honda amaze':\n",
    "                print('rs 790000 - 850000')\n",
    "            elif car_brand == 'Hyundai Creta':\n",
    "                print('Rs 1045000 - 1180000')\n",
    "          \n",
    "            else:\n",
    "                print('no stock right now , please visit after few days')\n",
    "    else:\n",
    "        print('no stock right now , please visit after few days')\n",
    "                \n",
    "                \n",
    "        "
   ]
  },
  {
   "cell_type": "code",
   "execution_count": 10,
   "id": "47889a87",
   "metadata": {},
   "outputs": [
    {
     "name": "stdout",
     "output_type": "stream",
     "text": [
      "Rs 945000 - 1080000\n"
     ]
    }
   ],
   "source": [
    "used_car_price(2020,'Hyundai Creta',16000)"
   ]
  },
  {
   "cell_type": "markdown",
   "id": "9e118f3d",
   "metadata": {},
   "source": [
    "# Lambda Function"
   ]
  },
  {
   "cell_type": "code",
   "execution_count": null,
   "id": "4cae3911",
   "metadata": {},
   "outputs": [],
   "source": [
    "lambda arguments : expression"
   ]
  },
  {
   "cell_type": "code",
   "execution_count": 12,
   "id": "6bdc9bd3",
   "metadata": {},
   "outputs": [
    {
     "name": "stdout",
     "output_type": "stream",
     "text": [
      "80\n"
     ]
    }
   ],
   "source": [
    "add_num = lambda y: y + 30\n",
    "print(add_num(50))"
   ]
  },
  {
   "cell_type": "code",
   "execution_count": 13,
   "id": "b43ab038",
   "metadata": {},
   "outputs": [
    {
     "name": "stdout",
     "output_type": "stream",
     "text": [
      "300\n"
     ]
    }
   ],
   "source": [
    "#multiple argument\n",
    "multi_num = lambda a, b : a*b\n",
    "print(multi_num(15,20))"
   ]
  },
  {
   "cell_type": "markdown",
   "id": "34fbac30",
   "metadata": {},
   "source": [
    "# * args and **kwargs"
   ]
  },
  {
   "cell_type": "markdown",
   "id": "fdcf0965",
   "metadata": {},
   "source": [
    "***args takes multiple inputs**"
   ]
  },
  {
   "cell_type": "code",
   "execution_count": 12,
   "id": "e09b4c03",
   "metadata": {},
   "outputs": [],
   "source": [
    "def my_fun(*args):\n",
    "    for i in args:\n",
    "        print ('my args: -', i)"
   ]
  },
  {
   "cell_type": "code",
   "execution_count": 13,
   "id": "27d4ba77",
   "metadata": {},
   "outputs": [
    {
     "name": "stdout",
     "output_type": "stream",
     "text": [
      "my args: - india\n",
      "my args: - bengaluru\n",
      "my args: - 30\n",
      "my args: - 40\n",
      "my args: - 234\n"
     ]
    }
   ],
   "source": [
    "my_fun('india', 'bengaluru', 30,40,234)"
   ]
  },
  {
   "cell_type": "markdown",
   "id": "a9083e05",
   "metadata": {},
   "source": [
    "****kwarg take key and value, just like dictonary data**"
   ]
  },
  {
   "cell_type": "code",
   "execution_count": 17,
   "id": "65ac8306",
   "metadata": {},
   "outputs": [],
   "source": [
    "def my_kwargs(**kwargs):\n",
    "    for key,value in kwargs.items():\n",
    "        print(key,'=', value)"
   ]
  },
  {
   "cell_type": "code",
   "execution_count": 18,
   "id": "a20ea0b7",
   "metadata": {},
   "outputs": [
    {
     "name": "stdout",
     "output_type": "stream",
     "text": [
      "students = ['ram', 'shiva']\n",
      "marks = 70,75\n"
     ]
    }
   ],
   "source": [
    "my_kwargs (students=['ram','shiva'],marks = '70,75')"
   ]
  },
  {
   "cell_type": "code",
   "execution_count": null,
   "id": "e5722b36",
   "metadata": {},
   "outputs": [],
   "source": []
  }
 ],
 "metadata": {
  "kernelspec": {
   "display_name": "Python 3 (ipykernel)",
   "language": "python",
   "name": "python3"
  },
  "language_info": {
   "codemirror_mode": {
    "name": "ipython",
    "version": 3
   },
   "file_extension": ".py",
   "mimetype": "text/x-python",
   "name": "python",
   "nbconvert_exporter": "python",
   "pygments_lexer": "ipython3",
   "version": "3.9.12"
  }
 },
 "nbformat": 4,
 "nbformat_minor": 5
}
