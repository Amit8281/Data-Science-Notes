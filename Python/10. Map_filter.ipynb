{
 "cells": [
  {
   "cell_type": "markdown",
   "id": "aac46d8e",
   "metadata": {},
   "source": [
    "# map"
   ]
  },
  {
   "cell_type": "markdown",
   "id": "ec5deb47",
   "metadata": {},
   "source": [
    "Map is a function which will return the result upom itereting over set of elements (tuole, list, etc..)it is used when you want to apply an single transformation function to all the iterable elements."
   ]
  },
  {
   "cell_type": "markdown",
   "id": "0f5f5038",
   "metadata": {},
   "source": [
    "The map()is a function that takes in two arguments:"
   ]
  },
  {
   "cell_type": "raw",
   "id": "8c8b38b7",
   "metadata": {},
   "source": [
    "1.A function\n",
    "2.A sequence itarable\n"
   ]
  },
  {
   "cell_type": "markdown",
   "id": "d06f78da",
   "metadata": {},
   "source": [
    "in the form: map(function,sequence) #sequence means data"
   ]
  },
  {
   "cell_type": "markdown",
   "id": "ba321a9c",
   "metadata": {},
   "source": [
    "the first argument is the name of function and the second (e.g list).map()applies the function to all the elements of the sequence. it returns a new list with the elwmwnts changed by the function."
   ]
  },
  {
   "cell_type": "markdown",
   "id": "1854d195",
   "metadata": {},
   "source": [
    "we'll start with two function"
   ]
  },
  {
   "cell_type": "code",
   "execution_count": 2,
   "id": "776e732c",
   "metadata": {},
   "outputs": [],
   "source": [
    "def grace_marks(marks):\n",
    "    if marks == 33:\n",
    "        return (marks +2)\n",
    "    elif marks == 34:\n",
    "        return (marks +1)\n",
    "    else:\n",
    "        return marks\n"
   ]
  },
  {
   "cell_type": "code",
   "execution_count": 3,
   "id": "00fe7cc9",
   "metadata": {},
   "outputs": [],
   "source": [
    "score = [50,34,32,33,31,35]"
   ]
  },
  {
   "cell_type": "code",
   "execution_count": 4,
   "id": "3d09d7e3",
   "metadata": {},
   "outputs": [
    {
     "name": "stdout",
     "output_type": "stream",
     "text": [
      "[50, 35, 32, 35, 31, 35]\n"
     ]
    }
   ],
   "source": [
    "total = list(map(grace_marks,score))\n",
    "print(total)"
   ]
  },
  {
   "cell_type": "code",
   "execution_count": 7,
   "id": "c60de54e",
   "metadata": {},
   "outputs": [
    {
     "data": {
      "text/plain": [
       "3"
      ]
     },
     "execution_count": 7,
     "metadata": {},
     "output_type": "execute_result"
    }
   ],
   "source": [
    "#counts of students who just passed with marks 35\n",
    "total.count(35)"
   ]
  },
  {
   "cell_type": "markdown",
   "id": "3aafeff3",
   "metadata": {},
   "source": [
    "# Filter()"
   ]
  },
  {
   "cell_type": "markdown",
   "id": "1c96293e",
   "metadata": {},
   "source": [
    "The function filter(function,list) offer a convineant way to filter out all the elements of an iterable , for which the function returns \"true\""
   ]
  },
  {
   "cell_type": "markdown",
   "id": "087cb15b",
   "metadata": {},
   "source": [
    "The function filter (function(),i) needs a function as its first argument. The function needs to return a boolean value(either true or false) . This function will be applyed to every element of the iterable. Only if the function returns \"True\" will the element of the iterable be included in the result."
   ]
  },
  {
   "cell_type": "markdown",
   "id": "8c5c1f92",
   "metadata": {},
   "source": [
    "Let's see some example"
   ]
  },
  {
   "cell_type": "code",
   "execution_count": 9,
   "id": "079dfeca",
   "metadata": {},
   "outputs": [],
   "source": [
    "def filter_marks(marks):\n",
    "    if marks < 35:\n",
    "        return marks"
   ]
  },
  {
   "cell_type": "code",
   "execution_count": 10,
   "id": "5d292d2d",
   "metadata": {},
   "outputs": [],
   "source": [
    "score = [50,34,32,33,31,35]"
   ]
  },
  {
   "cell_type": "code",
   "execution_count": 11,
   "id": "52c6d437",
   "metadata": {},
   "outputs": [
    {
     "data": {
      "text/plain": [
       "[34, 32, 33, 31]"
      ]
     },
     "execution_count": 11,
     "metadata": {},
     "output_type": "execute_result"
    }
   ],
   "source": [
    "failed = list(filter(filter_marks , score))\n",
    "failed"
   ]
  },
  {
   "cell_type": "markdown",
   "id": "c7fce998",
   "metadata": {},
   "source": [
    "**Deffrence b/w map and filter**"
   ]
  },
  {
   "cell_type": "markdown",
   "id": "11ffc472",
   "metadata": {},
   "source": [
    "map accepts all elements in a given list and a function can be aplied to it"
   ]
  },
  {
   "cell_type": "markdown",
   "id": "6aa8609d",
   "metadata": {},
   "source": [
    "filter accept all data in a list and runt that through a function to creat a new list with all elements that returns true in that function"
   ]
  },
  {
   "cell_type": "code",
   "execution_count": 12,
   "id": "170cd8de",
   "metadata": {},
   "outputs": [
    {
     "data": {
      "text/plain": [
       "[False, True, False]"
      ]
     },
     "execution_count": 12,
     "metadata": {},
     "output_type": "execute_result"
    }
   ],
   "source": [
    "list(map(lambda var: var%2 == 0, [1,2,3]))"
   ]
  },
  {
   "cell_type": "code",
   "execution_count": 13,
   "id": "3572791e",
   "metadata": {},
   "outputs": [
    {
     "data": {
      "text/plain": [
       "[2]"
      ]
     },
     "execution_count": 13,
     "metadata": {},
     "output_type": "execute_result"
    }
   ],
   "source": [
    "list(filter(lambda var: var%2 == 0, [1,2,3]))"
   ]
  }
 ],
 "metadata": {
  "kernelspec": {
   "display_name": "Python 3 (ipykernel)",
   "language": "python",
   "name": "python3"
  },
  "language_info": {
   "codemirror_mode": {
    "name": "ipython",
    "version": 3
   },
   "file_extension": ".py",
   "mimetype": "text/x-python",
   "name": "python",
   "nbconvert_exporter": "python",
   "pygments_lexer": "ipython3",
   "version": "3.9.12"
  }
 },
 "nbformat": 4,
 "nbformat_minor": 5
}
