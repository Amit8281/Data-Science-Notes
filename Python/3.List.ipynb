{
 "cells": [
  {
   "cell_type": "markdown",
   "id": "0d75322c",
   "metadata": {},
   "source": [
    "# LIST"
   ]
  },
  {
   "cell_type": "markdown",
   "id": "0ac9fd6e",
   "metadata": {},
   "source": [
    "**IN THE LIST DATA COMES IN SQUARE BRACKET [ list ]\n",
    "IT HOLDS ALL DATA\n",
    "IT IS MUTABLE( mean you can edit it )**"
   ]
  },
  {
   "cell_type": "code",
   "execution_count": 2,
   "id": "7c7a1947",
   "metadata": {},
   "outputs": [
    {
     "data": {
      "text/plain": [
       "[]"
      ]
     },
     "execution_count": 2,
     "metadata": {},
     "output_type": "execute_result"
    }
   ],
   "source": [
    "l = []\n",
    "l"
   ]
  },
  {
   "cell_type": "code",
   "execution_count": 3,
   "id": "5212982e",
   "metadata": {},
   "outputs": [
    {
     "data": {
      "text/plain": [
       "['a', 'b', 'c']"
      ]
     },
     "execution_count": 3,
     "metadata": {},
     "output_type": "execute_result"
    }
   ],
   "source": [
    "l = ['a','b','c']\n",
    "l"
   ]
  },
  {
   "cell_type": "code",
   "execution_count": 12,
   "id": "c00f8b6f",
   "metadata": {},
   "outputs": [
    {
     "data": {
      "text/plain": [
       "['a', 6, 9.16]"
      ]
     },
     "execution_count": 12,
     "metadata": {},
     "output_type": "execute_result"
    }
   ],
   "source": [
    "l = ['a',6,9.16]\n",
    "l"
   ]
  },
  {
   "cell_type": "code",
   "execution_count": 13,
   "id": "aec9e96d",
   "metadata": {},
   "outputs": [
    {
     "data": {
      "text/plain": [
       "['a', 6, 9.16]"
      ]
     },
     "execution_count": 13,
     "metadata": {},
     "output_type": "execute_result"
    }
   ],
   "source": [
    "#how to copy into other list\n",
    "l2 = list(l)\n",
    "l2"
   ]
  },
  {
   "cell_type": "code",
   "execution_count": 5,
   "id": "bd0c4a15",
   "metadata": {},
   "outputs": [],
   "source": [
    "marks = [35,45,60,80,100]"
   ]
  },
  {
   "cell_type": "code",
   "execution_count": 6,
   "id": "45220c0c",
   "metadata": {},
   "outputs": [
    {
     "data": {
      "text/plain": [
       "[35, 45, 60, 80, 100]"
      ]
     },
     "execution_count": 6,
     "metadata": {},
     "output_type": "execute_result"
    }
   ],
   "source": [
    "marks"
   ]
  },
  {
   "cell_type": "code",
   "execution_count": 7,
   "id": "7c7da5f0",
   "metadata": {},
   "outputs": [],
   "source": [
    "copy_marks = marks.copy()"
   ]
  },
  {
   "cell_type": "code",
   "execution_count": 8,
   "id": "d2598928",
   "metadata": {},
   "outputs": [
    {
     "data": {
      "text/plain": [
       "[35, 45, 60, 80, 100]"
      ]
     },
     "execution_count": 8,
     "metadata": {},
     "output_type": "execute_result"
    }
   ],
   "source": [
    "copy_marks"
   ]
  },
  {
   "cell_type": "markdown",
   "id": "500b255f",
   "metadata": {},
   "source": [
    "a python string a sequence of characters and can be treated as an itarable over those charactors . Combined with the list() function,a new list the charactors can easily be generated."
   ]
  },
  {
   "cell_type": "code",
   "execution_count": 2,
   "id": "1020c051",
   "metadata": {},
   "outputs": [
    {
     "data": {
      "text/plain": [
       "['a', 'm', 'i', 't']"
      ]
     },
     "execution_count": 2,
     "metadata": {},
     "output_type": "execute_result"
    }
   ],
   "source": [
    "list('amit')"
   ]
  },
  {
   "cell_type": "code",
   "execution_count": 3,
   "id": "16c5edf4",
   "metadata": {},
   "outputs": [
    {
     "ename": "TypeError",
     "evalue": "'int' object is not iterable",
     "output_type": "error",
     "traceback": [
      "\u001b[1;31m---------------------------------------------------------------------------\u001b[0m",
      "\u001b[1;31mTypeError\u001b[0m                                 Traceback (most recent call last)",
      "Input \u001b[1;32mIn [3]\u001b[0m, in \u001b[0;36m<cell line: 1>\u001b[1;34m()\u001b[0m\n\u001b[1;32m----> 1\u001b[0m \u001b[38;5;28;43mlist\u001b[39;49m\u001b[43m(\u001b[49m\u001b[38;5;241;43m134567\u001b[39;49m\u001b[43m)\u001b[49m\n",
      "\u001b[1;31mTypeError\u001b[0m: 'int' object is not iterable"
     ]
    }
   ],
   "source": [
    "list(134567)"
   ]
  },
  {
   "cell_type": "markdown",
   "id": "885f2a8d",
   "metadata": {},
   "source": [
    "**append**"
   ]
  },
  {
   "cell_type": "code",
   "execution_count": 9,
   "id": "a1ef6836",
   "metadata": {},
   "outputs": [
    {
     "data": {
      "text/plain": [
       "[]"
      ]
     },
     "execution_count": 9,
     "metadata": {},
     "output_type": "execute_result"
    }
   ],
   "source": [
    "employee=[]\n",
    "employee"
   ]
  },
  {
   "cell_type": "code",
   "execution_count": 12,
   "id": "4ced97d3",
   "metadata": {},
   "outputs": [
    {
     "name": "stdout",
     "output_type": "stream",
     "text": [
      "['amit', 'ramesh', 'suraj', 'amit']\n"
     ]
    }
   ],
   "source": [
    "#append means adding\n",
    "employee.append('amit')\n",
    "print(employee)"
   ]
  },
  {
   "cell_type": "code",
   "execution_count": 13,
   "id": "ff3f98fe",
   "metadata": {},
   "outputs": [
    {
     "name": "stdout",
     "output_type": "stream",
     "text": [
      "['amit', 'ramesh', 'suraj', 'amit', 'ramesh', 'suraj']\n"
     ]
    }
   ],
   "source": [
    "employee.append('ramesh')\n",
    "employee.append('suraj')\n",
    "print(employee)"
   ]
  },
  {
   "cell_type": "markdown",
   "id": "4012275a",
   "metadata": {},
   "source": [
    "**index & insert**\n"
   ]
  },
  {
   "cell_type": "raw",
   "id": "2ebe56c9",
   "metadata": {},
   "source": [
    "1)two arguments can be placed in insert method \n",
    "2)syntex: insert(index,object)\n",
    "    3)this method placed the object at the index supplied"
   ]
  },
  {
   "cell_type": "code",
   "execution_count": 15,
   "id": "f38596e6",
   "metadata": {},
   "outputs": [
    {
     "data": {
      "text/plain": [
       "['amit', \"d'souza\", \"d'souza\", 'ramesh', 'suraj', 'amit', 'ramesh', 'suraj']"
      ]
     },
     "execution_count": 15,
     "metadata": {},
     "output_type": "execute_result"
    }
   ],
   "source": [
    "#use double inverted quotation if your string has quotation\n",
    "employee.insert(1,\"d'souza\")\n",
    "employee"
   ]
  },
  {
   "cell_type": "code",
   "execution_count": 16,
   "id": "c2bb09f2",
   "metadata": {},
   "outputs": [
    {
     "data": {
      "text/plain": [
       "[15000, 28000, 19000]"
      ]
     },
     "execution_count": 16,
     "metadata": {},
     "output_type": "execute_result"
    }
   ],
   "source": [
    "#one more example with no\n",
    "emp_salary =[15000,28000,19000]\n",
    "emp_salary"
   ]
  },
  {
   "cell_type": "code",
   "execution_count": 17,
   "id": "e2dac79f",
   "metadata": {},
   "outputs": [
    {
     "data": {
      "text/plain": [
       "[48000, 15000, 28000, 19000]"
      ]
     },
     "execution_count": 17,
     "metadata": {},
     "output_type": "execute_result"
    }
   ],
   "source": [
    "emp_salary.insert(0,48000)\n",
    "emp_salary"
   ]
  },
  {
   "cell_type": "markdown",
   "id": "9a7e4ba3",
   "metadata": {},
   "source": [
    "**List extended methods**"
   ]
  },
  {
   "cell_type": "code",
   "execution_count": 18,
   "id": "d1a70706",
   "metadata": {},
   "outputs": [
    {
     "data": {
      "text/plain": [
       "['amit', \"d'souza\", \"d'souza\", 'ramesh', 'suraj', 'amit', 'ramesh', 'suraj']"
      ]
     },
     "execution_count": 18,
     "metadata": {},
     "output_type": "execute_result"
    }
   ],
   "source": [
    "employee"
   ]
  },
  {
   "cell_type": "raw",
   "id": "253831ff",
   "metadata": {},
   "source": [
    "**how to check total elements in the list if it is big**"
   ]
  },
  {
   "cell_type": "code",
   "execution_count": 19,
   "id": "765e79a2",
   "metadata": {},
   "outputs": [
    {
     "data": {
      "text/plain": [
       "8"
      ]
     },
     "execution_count": 19,
     "metadata": {},
     "output_type": "execute_result"
    }
   ],
   "source": [
    "#len means length\n",
    "len(employee)"
   ]
  },
  {
   "cell_type": "markdown",
   "id": "e5cc2bde",
   "metadata": {},
   "source": [
    "**indexing and slicing**"
   ]
  },
  {
   "cell_type": "code",
   "execution_count": 20,
   "id": "f57231cf",
   "metadata": {},
   "outputs": [
    {
     "data": {
      "text/plain": [
       "['amit', \"d'souza\", \"d'souza\", 'ramesh', 'suraj', 'amit', 'ramesh', 'suraj']"
      ]
     },
     "execution_count": 20,
     "metadata": {},
     "output_type": "execute_result"
    }
   ],
   "source": [
    "employee"
   ]
  },
  {
   "cell_type": "code",
   "execution_count": 21,
   "id": "a162d542",
   "metadata": {},
   "outputs": [
    {
     "data": {
      "text/plain": [
       "\"d'souza\""
      ]
     },
     "execution_count": 21,
     "metadata": {},
     "output_type": "execute_result"
    }
   ],
   "source": [
    "#grab element based on index\n",
    "employee[2]"
   ]
  },
  {
   "cell_type": "code",
   "execution_count": 22,
   "id": "674e0c96",
   "metadata": {},
   "outputs": [
    {
     "data": {
      "text/plain": [
       "['amit', 'remo', \"d'souza\", 'ramesh', 'suraj', 'amit', 'ramesh', 'suraj']"
      ]
     },
     "execution_count": 22,
     "metadata": {},
     "output_type": "execute_result"
    }
   ],
   "source": [
    "employee[1]='remo'\n",
    "employee"
   ]
  },
  {
   "cell_type": "code",
   "execution_count": 23,
   "id": "86bb2e35",
   "metadata": {},
   "outputs": [
    {
     "data": {
      "text/plain": [
       "[48000, 15000, 28000, 19000]"
      ]
     },
     "execution_count": 23,
     "metadata": {},
     "output_type": "execute_result"
    }
   ],
   "source": [
    "emp_salary"
   ]
  },
  {
   "cell_type": "code",
   "execution_count": 24,
   "id": "e5ffe264",
   "metadata": {},
   "outputs": [],
   "source": [
    "#update the data based on index\n",
    "emp_salary[1]=20000"
   ]
  },
  {
   "cell_type": "code",
   "execution_count": 25,
   "id": "f3bcd105",
   "metadata": {},
   "outputs": [
    {
     "data": {
      "text/plain": [
       "[48000, 20000, 28000, 19000]"
      ]
     },
     "execution_count": 25,
     "metadata": {},
     "output_type": "execute_result"
    }
   ],
   "source": [
    "emp_salary"
   ]
  },
  {
   "cell_type": "code",
   "execution_count": 26,
   "id": "95556ae9",
   "metadata": {},
   "outputs": [
    {
     "data": {
      "text/plain": [
       "[20000, 28000, 19000]"
      ]
     },
     "execution_count": 26,
     "metadata": {},
     "output_type": "execute_result"
    }
   ],
   "source": [
    "# grab index 1 and everything put it\n",
    "emp_salary[1:]"
   ]
  },
  {
   "cell_type": "code",
   "execution_count": 29,
   "id": "3f2a4cc1",
   "metadata": {},
   "outputs": [
    {
     "data": {
      "text/plain": [
       "[48000, 20000, 28000]"
      ]
     },
     "execution_count": 29,
     "metadata": {},
     "output_type": "execute_result"
    }
   ],
   "source": [
    "#grab everything up to index 2\n",
    "emp_salary[:3]"
   ]
  },
  {
   "cell_type": "code",
   "execution_count": 30,
   "id": "7dc258ff",
   "metadata": {},
   "outputs": [
    {
     "data": {
      "text/plain": [
       "[20000, 28000]"
      ]
     },
     "execution_count": 30,
     "metadata": {},
     "output_type": "execute_result"
    }
   ],
   "source": [
    "emp_salary[1:3]"
   ]
  },
  {
   "cell_type": "raw",
   "id": "332a34e8",
   "metadata": {},
   "source": [
    "we can also use + to concatanate list, just like we did for string."
   ]
  },
  {
   "cell_type": "code",
   "execution_count": 31,
   "id": "6af029a5",
   "metadata": {},
   "outputs": [
    {
     "data": {
      "text/plain": [
       "[48000, 20000, 28000, 19000, 25000]"
      ]
     },
     "execution_count": 31,
     "metadata": {},
     "output_type": "execute_result"
    }
   ],
   "source": [
    "emp_salary + [25000]"
   ]
  },
  {
   "cell_type": "code",
   "execution_count": 32,
   "id": "947beba4",
   "metadata": {},
   "outputs": [
    {
     "data": {
      "text/plain": [
       "[48000, 20000, 28000, 19000]"
      ]
     },
     "execution_count": 32,
     "metadata": {},
     "output_type": "execute_result"
    }
   ],
   "source": [
    "emp_salary"
   ]
  },
  {
   "cell_type": "markdown",
   "id": "bb802766",
   "metadata": {},
   "source": [
    "**alert**"
   ]
  },
  {
   "cell_type": "markdown",
   "id": "8776423f",
   "metadata": {},
   "source": [
    "this dosnt actually change the original list\n",
    "in this case , you have to resign the list to make the permanent change."
   ]
  },
  {
   "cell_type": "code",
   "execution_count": 35,
   "id": "7116f4c7",
   "metadata": {},
   "outputs": [],
   "source": [
    "#Ressign to keep the data permanently\n",
    "emp_salary = emp_salary + [25000]"
   ]
  },
  {
   "cell_type": "code",
   "execution_count": 36,
   "id": "19542698",
   "metadata": {},
   "outputs": [
    {
     "data": {
      "text/plain": [
       "[48000, 20000, 28000, 19000, 25000, 25000]"
      ]
     },
     "execution_count": 36,
     "metadata": {},
     "output_type": "execute_result"
    }
   ],
   "source": [
    "emp_salary"
   ]
  },
  {
   "cell_type": "markdown",
   "id": "9e4c4c22",
   "metadata": {},
   "source": [
    "we can allso use the plus for diplicate method similar to string:"
   ]
  },
  {
   "cell_type": "code",
   "execution_count": 37,
   "id": "dbc30529",
   "metadata": {},
   "outputs": [
    {
     "data": {
      "text/plain": [
       "[48000,\n",
       " 20000,\n",
       " 28000,\n",
       " 19000,\n",
       " 25000,\n",
       " 25000,\n",
       " 48000,\n",
       " 20000,\n",
       " 28000,\n",
       " 19000,\n",
       " 25000,\n",
       " 25000]"
      ]
     },
     "execution_count": 37,
     "metadata": {},
     "output_type": "execute_result"
    }
   ],
   "source": [
    "#make the list double\n",
    "emp_salary*2"
   ]
  },
  {
   "cell_type": "code",
   "execution_count": 40,
   "id": "f65b115b",
   "metadata": {},
   "outputs": [
    {
     "name": "stdout",
     "output_type": "stream",
     "text": [
      "==========================================================================================\n",
      "                                  amit bhardwaj                       \n",
      "******************************************************************************************\n"
     ]
    }
   ],
   "source": [
    "print('=' * 90)\n",
    "print('                                  amit bhardwaj                       ')\n",
    "print('*' * 90) "
   ]
  },
  {
   "cell_type": "code",
   "execution_count": 41,
   "id": "6fd54959",
   "metadata": {},
   "outputs": [
    {
     "data": {
      "text/plain": [
       "[48000, 20000, 28000, 19000, 25000, 25000]"
      ]
     },
     "execution_count": 41,
     "metadata": {},
     "output_type": "execute_result"
    }
   ],
   "source": [
    "#again doubling not permanent\n",
    "emp_salary"
   ]
  },
  {
   "cell_type": "markdown",
   "id": "7c7c43ba",
   "metadata": {},
   "source": [
    "**Advanced Lists**"
   ]
  },
  {
   "cell_type": "markdown",
   "id": "f1e578c3",
   "metadata": {},
   "source": [
    "in this series of lacture, we will be diving a little deeper into all the avainle method in a list object. Thee are just methods that should encountered without some additional exploring . its pretty likely that you've some of these youreself!"
   ]
  },
  {
   "cell_type": "markdown",
   "id": "cbab3f66",
   "metadata": {},
   "source": [
    "**count**"
   ]
  },
  {
   "cell_type": "code",
   "execution_count": 42,
   "id": "813447f0",
   "metadata": {},
   "outputs": [],
   "source": [
    "marks = [25,100,38,49,55,38,100,26,47,55,55,100,60,74,88,38,100]"
   ]
  },
  {
   "cell_type": "code",
   "execution_count": 44,
   "id": "e80af8c5",
   "metadata": {},
   "outputs": [
    {
     "data": {
      "text/plain": [
       "4"
      ]
     },
     "execution_count": 44,
     "metadata": {},
     "output_type": "execute_result"
    }
   ],
   "source": [
    "marks.count(100)"
   ]
  },
  {
   "cell_type": "markdown",
   "id": "23d6ed59",
   "metadata": {},
   "source": [
    "**index**"
   ]
  },
  {
   "cell_type": "code",
   "execution_count": 45,
   "id": "a78e6a32",
   "metadata": {},
   "outputs": [
    {
     "data": {
      "text/plain": [
       "[25, 100, 38, 49, 55, 38, 100, 26, 47, 55, 55, 100, 60, 74, 88, 38, 100]"
      ]
     },
     "execution_count": 45,
     "metadata": {},
     "output_type": "execute_result"
    }
   ],
   "source": [
    "marks"
   ]
  },
  {
   "cell_type": "code",
   "execution_count": 46,
   "id": "4bbca66b",
   "metadata": {},
   "outputs": [
    {
     "data": {
      "text/plain": [
       "1"
      ]
     },
     "execution_count": 46,
     "metadata": {},
     "output_type": "execute_result"
    }
   ],
   "source": [
    "marks.index(100)"
   ]
  },
  {
   "cell_type": "markdown",
   "id": "8cc4b256",
   "metadata": {},
   "source": [
    "**extand**"
   ]
  },
  {
   "cell_type": "code",
   "execution_count": 49,
   "id": "411ae7a8",
   "metadata": {},
   "outputs": [
    {
     "data": {
      "text/plain": [
       "['amit', 'remo', \"d'souza\", 'ramesh', 'suraj', 'amit', 'ramesh', 'suraj']"
      ]
     },
     "execution_count": 49,
     "metadata": {},
     "output_type": "execute_result"
    }
   ],
   "source": [
    "employee"
   ]
  },
  {
   "cell_type": "code",
   "execution_count": 55,
   "id": "21eaf7bd",
   "metadata": {},
   "outputs": [
    {
     "name": "stdout",
     "output_type": "stream",
     "text": [
      "['radha', 'remo', 'ramesh', 'salman', 'anu', 'sapna', ['anu', 'sapna']]\n"
     ]
    }
   ],
   "source": [
    "employee.append(['anu','sapna'])\n",
    "print(employee)"
   ]
  },
  {
   "cell_type": "code",
   "execution_count": 56,
   "id": "5aef56dc",
   "metadata": {},
   "outputs": [
    {
     "name": "stdout",
     "output_type": "stream",
     "text": [
      "['radha', 'remo', 'ramesh', 'salman', 'anu', 'sapna']\n"
     ]
    }
   ],
   "source": [
    "employee = ['radha','remo','ramesh','salman']\n",
    "employee.extend(['anu','sapna'])\n",
    "print(employee)"
   ]
  },
  {
   "cell_type": "markdown",
   "id": "7de2a1d3",
   "metadata": {},
   "source": [
    "**pop**\n",
    "it means removing an item"
   ]
  },
  {
   "cell_type": "code",
   "execution_count": 57,
   "id": "e18c1183",
   "metadata": {},
   "outputs": [],
   "source": [
    "students = ['raj','ram','abid','nancy','fatima']"
   ]
  },
  {
   "cell_type": "code",
   "execution_count": 58,
   "id": "98feada7",
   "metadata": {},
   "outputs": [
    {
     "data": {
      "text/plain": [
       "['raj', 'ram', 'abid', 'nancy', 'fatima']"
      ]
     },
     "execution_count": 58,
     "metadata": {},
     "output_type": "execute_result"
    }
   ],
   "source": [
    "students"
   ]
  },
  {
   "cell_type": "code",
   "execution_count": 59,
   "id": "7b26b62e",
   "metadata": {},
   "outputs": [
    {
     "data": {
      "text/plain": [
       "'fatima'"
      ]
     },
     "execution_count": 59,
     "metadata": {},
     "output_type": "execute_result"
    }
   ],
   "source": [
    "#deletes last element by default\n",
    "pop_last = students.pop()\n",
    "pop_last"
   ]
  },
  {
   "cell_type": "code",
   "execution_count": 60,
   "id": "ffe248a7",
   "metadata": {},
   "outputs": [
    {
     "data": {
      "text/plain": [
       "['raj', 'ram', 'abid', 'nancy']"
      ]
     },
     "execution_count": 60,
     "metadata": {},
     "output_type": "execute_result"
    }
   ],
   "source": [
    "#varify if its removed\n",
    "students"
   ]
  },
  {
   "cell_type": "code",
   "execution_count": 61,
   "id": "269d8d07",
   "metadata": {},
   "outputs": [],
   "source": [
    "students = ['raj','ram','abid','nancy','fatima']"
   ]
  },
  {
   "cell_type": "code",
   "execution_count": 62,
   "id": "48712f2a",
   "metadata": {},
   "outputs": [
    {
     "data": {
      "text/plain": [
       "'ram'"
      ]
     },
     "execution_count": 62,
     "metadata": {},
     "output_type": "execute_result"
    }
   ],
   "source": [
    "#deletes basesd on index position\n",
    "pop_index = students.pop(1)\n",
    "pop_index"
   ]
  },
  {
   "cell_type": "code",
   "execution_count": 63,
   "id": "7dcaaeff",
   "metadata": {},
   "outputs": [
    {
     "data": {
      "text/plain": [
       "['raj', 'abid', 'nancy', 'fatima']"
      ]
     },
     "execution_count": 63,
     "metadata": {},
     "output_type": "execute_result"
    }
   ],
   "source": [
    "#varify if its removed\n",
    "students"
   ]
  },
  {
   "cell_type": "markdown",
   "id": "d88c95fd",
   "metadata": {},
   "source": [
    "**remove**"
   ]
  },
  {
   "cell_type": "code",
   "execution_count": 64,
   "id": "81b2b753",
   "metadata": {},
   "outputs": [],
   "source": [
    "roll_number = [100,101,102,103,104,103]"
   ]
  },
  {
   "cell_type": "code",
   "execution_count": 72,
   "id": "eca0aeb6",
   "metadata": {},
   "outputs": [],
   "source": [
    "#delete data.(if there are duplicates , first elements is deleted)\n",
    "roll_number.remove(103)"
   ]
  },
  {
   "cell_type": "code",
   "execution_count": 73,
   "id": "9d317ffb",
   "metadata": {},
   "outputs": [
    {
     "name": "stdout",
     "output_type": "stream",
     "text": [
      "[100, 101, 102, 104]\n"
     ]
    }
   ],
   "source": [
    "print(roll_number)"
   ]
  },
  {
   "cell_type": "markdown",
   "id": "35a83a78",
   "metadata": {},
   "source": [
    "**reverse**"
   ]
  },
  {
   "cell_type": "code",
   "execution_count": 68,
   "id": "318bf405",
   "metadata": {},
   "outputs": [],
   "source": [
    "list = [1,2,3,4,3]"
   ]
  },
  {
   "cell_type": "code",
   "execution_count": 70,
   "id": "a684dbc6",
   "metadata": {},
   "outputs": [],
   "source": [
    "list.reverse()"
   ]
  },
  {
   "cell_type": "code",
   "execution_count": 71,
   "id": "36e6ce89",
   "metadata": {},
   "outputs": [
    {
     "data": {
      "text/plain": [
       "[3, 4, 3, 2, 1]"
      ]
     },
     "execution_count": 71,
     "metadata": {},
     "output_type": "execute_result"
    }
   ],
   "source": [
    "list"
   ]
  },
  {
   "cell_type": "markdown",
   "id": "f491173a",
   "metadata": {},
   "source": [
    "**sort**"
   ]
  },
  {
   "cell_type": "markdown",
   "id": "8aec9445",
   "metadata": {},
   "source": [
    "sort will sort your lit in place"
   ]
  },
  {
   "cell_type": "code",
   "execution_count": 74,
   "id": "2dcda994",
   "metadata": {},
   "outputs": [
    {
     "data": {
      "text/plain": [
       "[25, 38, 49, 55, 38, 26, 47, 55, 60, 74, 88, 38]"
      ]
     },
     "execution_count": 74,
     "metadata": {},
     "output_type": "execute_result"
    }
   ],
   "source": [
    "marks = [25,38,49,55,38,26,47,55,60,74,88,38]\n",
    "marks"
   ]
  },
  {
   "cell_type": "code",
   "execution_count": 75,
   "id": "8eac5955",
   "metadata": {},
   "outputs": [
    {
     "name": "stdout",
     "output_type": "stream",
     "text": [
      "[25, 26, 38, 38, 38, 47, 49, 55, 55, 60, 74, 88]\n"
     ]
    }
   ],
   "source": [
    "#by default short in ascending order\n",
    "marks.sort()\n",
    "print(marks)"
   ]
  },
  {
   "cell_type": "code",
   "execution_count": 77,
   "id": "e2edc086",
   "metadata": {},
   "outputs": [
    {
     "name": "stdout",
     "output_type": "stream",
     "text": [
      "[88, 74, 60, 55, 55, 49, 47, 38, 38, 38, 26, 25]\n"
     ]
    }
   ],
   "source": [
    "#short in decending order\n",
    "marks.sort(reverse=True)\n",
    "print(marks)"
   ]
  },
  {
   "cell_type": "code",
   "execution_count": null,
   "id": "41a879b8",
   "metadata": {},
   "outputs": [],
   "source": []
  },
  {
   "cell_type": "code",
   "execution_count": null,
   "id": "663efc11",
   "metadata": {},
   "outputs": [],
   "source": []
  },
  {
   "cell_type": "code",
   "execution_count": null,
   "id": "abce8f28",
   "metadata": {},
   "outputs": [],
   "source": []
  }
 ],
 "metadata": {
  "kernelspec": {
   "display_name": "Python 3 (ipykernel)",
   "language": "python",
   "name": "python3"
  },
  "language_info": {
   "codemirror_mode": {
    "name": "ipython",
    "version": 3
   },
   "file_extension": ".py",
   "mimetype": "text/x-python",
   "name": "python",
   "nbconvert_exporter": "python",
   "pygments_lexer": "ipython3",
   "version": "3.9.12"
  }
 },
 "nbformat": 4,
 "nbformat_minor": 5
}
