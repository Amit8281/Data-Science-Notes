{
 "cells": [
  {
   "cell_type": "markdown",
   "id": "4747f7a0",
   "metadata": {},
   "source": [
    "# Input from user keywords"
   ]
  },
  {
   "cell_type": "code",
   "execution_count": 1,
   "id": "0dbd2069",
   "metadata": {},
   "outputs": [
    {
     "name": "stdout",
     "output_type": "stream",
     "text": [
      " Enter your name  amit\n",
      "user entered:  amit\n"
     ]
    }
   ],
   "source": [
    "#program to take the input string from the user\n",
    "name = input(\" Enter your name  \")\n",
    "print('user entered: ', name)"
   ]
  },
  {
   "cell_type": "markdown",
   "id": "c158e3ce",
   "metadata": {},
   "source": [
    "**lets understand how to make user to enter only integers and string**"
   ]
  },
  {
   "cell_type": "code",
   "execution_count": 3,
   "id": "0a789c46",
   "metadata": {},
   "outputs": [
    {
     "name": "stdout",
     "output_type": "stream",
     "text": [
      "enter maths score  80\n",
      "enter science score  77\n",
      "your total marks   157\n"
     ]
    }
   ],
   "source": [
    "maths = int(input('enter maths score  '))\n",
    "science = int(input('enter science score  '))\n",
    "total_marks = maths + science\n",
    "print('your total marks  ', total_marks)"
   ]
  },
  {
   "cell_type": "markdown",
   "id": "e1f5391a",
   "metadata": {},
   "source": [
    "**How to check only letters**"
   ]
  },
  {
   "cell_type": "code",
   "execution_count": 6,
   "id": "39f8faac",
   "metadata": {},
   "outputs": [
    {
     "name": "stdout",
     "output_type": "stream",
     "text": [
      "enter your name=  amit\n",
      "you entered=   amit\n"
     ]
    }
   ],
   "source": [
    "name = input('enter your name=  ')\n",
    "\n",
    "if name.isalpha():\n",
    "    print ('you entered=  ', name)\n",
    "else:\n",
    "        print ('enter only alpha charactors')"
   ]
  },
  {
   "cell_type": "code",
   "execution_count": 2,
   "id": "447df88a",
   "metadata": {},
   "outputs": [],
   "source": [
    "def used_car_price(car_year,car_brand,kmeters):\n",
    "    if car_year == 2020:\n",
    "        if 10000 < kmeters <= 15000:\n",
    "            if car_brand == 'Honda Amaze':\n",
    "                print('Rs 690000 - Rs 750000')\n",
    "            elif car_brand == 'Hyundai Creta':\n",
    "                print('Rs 945000 - 1080000')\n",
    "            else:\n",
    "                print('no stock right now , please visit after few days')\n",
    "                \n",
    "        elif 15001 < kmeters <= 25000:\n",
    "            if car_brand == 'Honda Amaze':\n",
    "                print('Rs 690000 - Rs 750000')\n",
    "            elif car_brand == 'Hyundai Creta':\n",
    "                print('Rs 945000 - 1080000')\n",
    "            else:\n",
    "                print('no stock right now , please visit after few days')\n",
    "        else:\n",
    "            print('no stocks')\n",
    "            \n",
    "    elif car_year == 2021:\n",
    "                \n",
    "        if 10000 < kmeters <= 15000:\n",
    "            if car_brand == 'honda amaze':\n",
    "                print('rs 790000 - 850000')\n",
    "            elif car_brand == 'Hyundai Creta':\n",
    "                print('Rs 1045000 - 1180000')\n",
    "          \n",
    "            else:\n",
    "                print('no stock right now , please visit after few days')\n",
    "    else:\n",
    "        print('no stock right now , please visit after few days')\n",
    "                \n",
    "                \n",
    "        "
   ]
  },
  {
   "cell_type": "code",
   "execution_count": 3,
   "id": "6293171b",
   "metadata": {},
   "outputs": [
    {
     "name": "stdout",
     "output_type": "stream",
     "text": [
      "enter car brand - Honda Amaze\n",
      "enter kelometer- 16000\n",
      "enter manu year- 2020\n",
      "Rs 690000 - Rs 750000\n"
     ]
    }
   ],
   "source": [
    "#you can enable fields for customer to enter the requirments\n",
    "car_brd = input('enter car brand - ')\n",
    "km_driven = int(input('enter kelometer- '))\n",
    "manu_yr = int(input('enter manu year- '))\n",
    "\n",
    "used_car_price(manu_yr, car_brd, km_driven)\n"
   ]
  },
  {
   "cell_type": "code",
   "execution_count": null,
   "id": "03ab7d9e",
   "metadata": {},
   "outputs": [],
   "source": []
  }
 ],
 "metadata": {
  "kernelspec": {
   "display_name": "Python 3 (ipykernel)",
   "language": "python",
   "name": "python3"
  },
  "language_info": {
   "codemirror_mode": {
    "name": "ipython",
    "version": 3
   },
   "file_extension": ".py",
   "mimetype": "text/x-python",
   "name": "python",
   "nbconvert_exporter": "python",
   "pygments_lexer": "ipython3",
   "version": "3.9.12"
  }
 },
 "nbformat": 4,
 "nbformat_minor": 5
}
