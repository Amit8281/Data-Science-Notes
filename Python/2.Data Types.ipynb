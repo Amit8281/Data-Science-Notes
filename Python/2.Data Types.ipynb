{
 "cells": [
  {
   "cell_type": "markdown",
   "id": "cc465510",
   "metadata": {},
   "source": [
    "# DATA TYPES/ STRUCTURE\n"
   ]
  },
  {
   "cell_type": "markdown",
   "id": "59bcc1ad",
   "metadata": {},
   "source": [
    "# (NUMBERS,STRING,LIST,TUPLE,SET,DICTONARY)"
   ]
  },
  {
   "cell_type": "markdown",
   "id": "01a110cb",
   "metadata": {},
   "source": [
    "# (A)-(NUMBERS)"
   ]
  },
  {
   "cell_type": "markdown",
   "id": "de71a603",
   "metadata": {},
   "source": [
    "# 1.integers"
   ]
  },
  {
   "cell_type": "code",
   "execution_count": null,
   "id": "9fa83c4f",
   "metadata": {},
   "outputs": [],
   "source": [
    "#(1).INTEGERS= VARIABLE AND DATA ASSIGNMENT\n",
    "#(a)VARIABLE- VARIABLE IS A NAME WHICH HOLDS SOME DATA\n",
    "#(B)DATA- DATA IS DATA"
   ]
  },
  {
   "cell_type": "code",
   "execution_count": 1,
   "id": "c82858eb",
   "metadata": {},
   "outputs": [],
   "source": [
    "# a= variable\n",
    "# 20= data\n",
    "a = 20"
   ]
  },
  {
   "cell_type": "code",
   "execution_count": 2,
   "id": "3ae45256",
   "metadata": {},
   "outputs": [
    {
     "data": {
      "text/plain": [
       "20"
      ]
     },
     "execution_count": 2,
     "metadata": {},
     "output_type": "execute_result"
    }
   ],
   "source": [
    "a"
   ]
  },
  {
   "cell_type": "code",
   "execution_count": 3,
   "id": "317bccca",
   "metadata": {},
   "outputs": [
    {
     "name": "stdout",
     "output_type": "stream",
     "text": [
      "20\n"
     ]
    }
   ],
   "source": [
    "#you can also print\n",
    "print(a)"
   ]
  },
  {
   "cell_type": "code",
   "execution_count": 4,
   "id": "eec78d42",
   "metadata": {},
   "outputs": [
    {
     "data": {
      "text/plain": [
       "int"
      ]
     },
     "execution_count": 4,
     "metadata": {},
     "output_type": "execute_result"
    }
   ],
   "source": [
    "#how to check data type:\n",
    "type(a)"
   ]
  },
  {
   "cell_type": "markdown",
   "id": "1b737fc3",
   "metadata": {},
   "source": [
    "# 2.Float"
   ]
  },
  {
   "cell_type": "code",
   "execution_count": 5,
   "id": "c7b2bc51",
   "metadata": {},
   "outputs": [
    {
     "name": "stdout",
     "output_type": "stream",
     "text": [
      "10.0\n"
     ]
    },
    {
     "data": {
      "text/plain": [
       "float"
      ]
     },
     "execution_count": 5,
     "metadata": {},
     "output_type": "execute_result"
    }
   ],
   "source": [
    "b = 10.0\n",
    "print(b)\n",
    "type(b)"
   ]
  },
  {
   "cell_type": "raw",
   "id": "d6921df8",
   "metadata": {},
   "source": [
    "# LETS DO COUPLE OF MMATHMATICAL OPERATIONS..."
   ]
  },
  {
   "cell_type": "code",
   "execution_count": 6,
   "id": "8afec63b",
   "metadata": {},
   "outputs": [],
   "source": [
    "a = 10\n",
    "b = 20"
   ]
  },
  {
   "cell_type": "code",
   "execution_count": 11,
   "id": "f0100e57",
   "metadata": {},
   "outputs": [
    {
     "name": "stdout",
     "output_type": "stream",
     "text": [
      "30\n"
     ]
    }
   ],
   "source": [
    "c = a+b\n",
    "print(c)"
   ]
  },
  {
   "cell_type": "code",
   "execution_count": 12,
   "id": "1a7c5002",
   "metadata": {},
   "outputs": [
    {
     "name": "stdout",
     "output_type": "stream",
     "text": [
      "300\n"
     ]
    }
   ],
   "source": [
    "print(c*10)"
   ]
  },
  {
   "cell_type": "markdown",
   "id": "a36b7505",
   "metadata": {},
   "source": [
    "# 3. complex(we dont use this in our course)"
   ]
  },
  {
   "cell_type": "code",
   "execution_count": 8,
   "id": "82bd7c45",
   "metadata": {},
   "outputs": [
    {
     "data": {
      "text/plain": [
       "complex"
      ]
     },
     "execution_count": 8,
     "metadata": {},
     "output_type": "execute_result"
    }
   ],
   "source": [
    "c = 6+2j\n",
    "type(c)"
   ]
  },
  {
   "cell_type": "markdown",
   "id": "bd6ce546",
   "metadata": {},
   "source": [
    "# (B)-(STRING)"
   ]
  },
  {
   "cell_type": "code",
   "execution_count": 13,
   "id": "b0b31ed2",
   "metadata": {},
   "outputs": [
    {
     "name": "stdout",
     "output_type": "stream",
     "text": [
      "hellow world\n"
     ]
    }
   ],
   "source": [
    "print('hellow world')"
   ]
  },
  {
   "cell_type": "code",
   "execution_count": 26,
   "id": "3f7cda86",
   "metadata": {},
   "outputs": [],
   "source": [
    "first_string ='python'\n",
    "second_string =' is a powerful '\n",
    "third_string ='language'"
   ]
  },
  {
   "cell_type": "code",
   "execution_count": 16,
   "id": "a81b813c",
   "metadata": {},
   "outputs": [
    {
     "data": {
      "text/plain": [
       "str"
      ]
     },
     "execution_count": 16,
     "metadata": {},
     "output_type": "execute_result"
    }
   ],
   "source": [
    "type(first_string)"
   ]
  },
  {
   "cell_type": "markdown",
   "id": "465b42b1",
   "metadata": {},
   "source": [
    "**LETS ADD THE STRING**"
   ]
  },
  {
   "cell_type": "code",
   "execution_count": 30,
   "id": "afbc9c7c",
   "metadata": {},
   "outputs": [
    {
     "name": "stdout",
     "output_type": "stream",
     "text": [
      "python is a powerful language\n"
     ]
    }
   ],
   "source": [
    "print (first_string + second_string +third_string)"
   ]
  },
  {
   "cell_type": "code",
   "execution_count": 31,
   "id": "48dcedea",
   "metadata": {},
   "outputs": [
    {
     "name": "stdout",
     "output_type": "stream",
     "text": [
      "wow python is  easy\n"
     ]
    }
   ],
   "source": [
    "print('wow ' +'python is ', 'easy')"
   ]
  },
  {
   "cell_type": "code",
   "execution_count": 33,
   "id": "49562301",
   "metadata": {},
   "outputs": [],
   "source": [
    "total_string = first_string+second_string+third_string"
   ]
  },
  {
   "cell_type": "code",
   "execution_count": 34,
   "id": "dce571aa",
   "metadata": {},
   "outputs": [
    {
     "name": "stdout",
     "output_type": "stream",
     "text": [
      "python is a powerful language\n"
     ]
    }
   ],
   "source": [
    "print(total_string)"
   ]
  },
  {
   "cell_type": "raw",
   "id": "457930f1",
   "metadata": {},
   "source": [
    "other operation on string"
   ]
  },
  {
   "cell_type": "code",
   "execution_count": 36,
   "id": "65fece5a",
   "metadata": {},
   "outputs": [
    {
     "name": "stdout",
     "output_type": "stream",
     "text": [
      "day day day day day \n"
     ]
    }
   ],
   "source": [
    "print('day '*5)"
   ]
  },
  {
   "cell_type": "code",
   "execution_count": 37,
   "id": "efa5c44b",
   "metadata": {},
   "outputs": [
    {
     "name": "stdout",
     "output_type": "stream",
     "text": [
      "********************\n",
      "wow python\n",
      "********************\n"
     ]
    }
   ],
   "source": [
    "print('*'*20)\n",
    "print('wow python')\n",
    "print('*'*20)"
   ]
  },
  {
   "cell_type": "code",
   "execution_count": 38,
   "id": "918db0dd",
   "metadata": {},
   "outputs": [
    {
     "ename": "TypeError",
     "evalue": "can only concatenate str (not \"int\") to str",
     "output_type": "error",
     "traceback": [
      "\u001b[1;31m---------------------------------------------------------------------------\u001b[0m",
      "\u001b[1;31mTypeError\u001b[0m                                 Traceback (most recent call last)",
      "Input \u001b[1;32mIn [38]\u001b[0m, in \u001b[0;36m<cell line: 1>\u001b[1;34m()\u001b[0m\n\u001b[1;32m----> 1\u001b[0m \u001b[38;5;28mprint\u001b[39m(\u001b[38;5;124;43m'\u001b[39;49m\u001b[38;5;124;43mday\u001b[39;49m\u001b[38;5;124;43m'\u001b[39;49m\u001b[38;5;241;43m+\u001b[39;49m\u001b[38;5;241;43m2\u001b[39;49m)\n",
      "\u001b[1;31mTypeError\u001b[0m: can only concatenate str (not \"int\") to str"
     ]
    }
   ],
   "source": [
    "print('day'+2)"
   ]
  },
  {
   "cell_type": "code",
   "execution_count": 39,
   "id": "492d78f6",
   "metadata": {},
   "outputs": [
    {
     "name": "stdout",
     "output_type": "stream",
     "text": [
      "day 2\n"
     ]
    }
   ],
   "source": [
    "#print(int('day')+2)\n",
    "print('day '+ str(2))\n"
   ]
  },
  {
   "cell_type": "code",
   "execution_count": null,
   "id": "eae8fb90",
   "metadata": {},
   "outputs": [],
   "source": [
    "#DATA STRUCTUCTURS IS THE WAY TO HOLD THE VALUE"
   ]
  }
 ],
 "metadata": {
  "kernelspec": {
   "display_name": "Python 3 (ipykernel)",
   "language": "python",
   "name": "python3"
  },
  "language_info": {
   "codemirror_mode": {
    "name": "ipython",
    "version": 3
   },
   "file_extension": ".py",
   "mimetype": "text/x-python",
   "name": "python",
   "nbconvert_exporter": "python",
   "pygments_lexer": "ipython3",
   "version": "3.9.12"
  }
 },
 "nbformat": 4,
 "nbformat_minor": 5
}
