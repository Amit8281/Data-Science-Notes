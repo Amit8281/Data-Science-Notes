{
 "cells": [
  {
   "cell_type": "markdown",
   "id": "a1ac5246",
   "metadata": {},
   "source": [
    "# Numpy Array"
   ]
  },
  {
   "cell_type": "code",
   "execution_count": 1,
   "id": "3aa41dd2",
   "metadata": {},
   "outputs": [],
   "source": [
    "import numpy as np\n"
   ]
  },
  {
   "cell_type": "code",
   "execution_count": 2,
   "id": "6c72c9a2",
   "metadata": {},
   "outputs": [
    {
     "name": "stdout",
     "output_type": "stream",
     "text": [
      "['ALLOW_THREADS', 'AxisError', 'BUFSIZE', 'Bytes0', 'CLIP', 'ComplexWarning', 'DataSource', 'Datetime64', 'ERR_CALL', 'ERR_DEFAULT', 'ERR_IGNORE', 'ERR_LOG', 'ERR_PRINT', 'ERR_RAISE', 'ERR_WARN', 'FLOATING_POINT_SUPPORT', 'FPE_DIVIDEBYZERO', 'FPE_INVALID', 'FPE_OVERFLOW', 'FPE_UNDERFLOW', 'False_', 'Inf', 'Infinity', 'MAXDIMS', 'MAY_SHARE_BOUNDS', 'MAY_SHARE_EXACT', 'MachAr', 'ModuleDeprecationWarning', 'NAN', 'NINF', 'NZERO', 'NaN', 'PINF', 'PZERO', 'RAISE', 'RankWarning', 'SHIFT_DIVIDEBYZERO', 'SHIFT_INVALID', 'SHIFT_OVERFLOW', 'SHIFT_UNDERFLOW', 'ScalarType', 'Str0', 'Tester', 'TooHardError', 'True_', 'UFUNC_BUFSIZE_DEFAULT', 'UFUNC_PYVALS_NAME', 'Uint64', 'VisibleDeprecationWarning', 'WRAP', '_NoValue', '_UFUNC_API', '__NUMPY_SETUP__', '__all__', '__builtins__', '__cached__', '__config__', '__deprecated_attrs__', '__dir__', '__doc__', '__expired_functions__', '__file__', '__getattr__', '__git_version__', '__loader__', '__mkl_version__', '__name__', '__package__', '__path__', '__spec__', '__version__', '_add_newdoc_ufunc', '_distributor_init', '_financial_names', '_globals', '_mat', '_pytesttester', '_version', 'abs', 'absolute', 'add', 'add_docstring', 'add_newdoc', 'add_newdoc_ufunc', 'alen', 'all', 'allclose', 'alltrue', 'amax', 'amin', 'angle', 'any', 'append', 'apply_along_axis', 'apply_over_axes', 'arange', 'arccos', 'arccosh', 'arcsin', 'arcsinh', 'arctan', 'arctan2', 'arctanh', 'argmax', 'argmin', 'argpartition', 'argsort', 'argwhere', 'around', 'array', 'array2string', 'array_equal', 'array_equiv', 'array_repr', 'array_split', 'array_str', 'asanyarray', 'asarray', 'asarray_chkfinite', 'ascontiguousarray', 'asfarray', 'asfortranarray', 'asmatrix', 'asscalar', 'atleast_1d', 'atleast_2d', 'atleast_3d', 'average', 'bartlett', 'base_repr', 'binary_repr', 'bincount', 'bitwise_and', 'bitwise_not', 'bitwise_or', 'bitwise_xor', 'blackman', 'block', 'bmat', 'bool8', 'bool_', 'broadcast', 'broadcast_arrays', 'broadcast_shapes', 'broadcast_to', 'busday_count', 'busday_offset', 'busdaycalendar', 'byte', 'byte_bounds', 'bytes0', 'bytes_', 'c_', 'can_cast', 'cast', 'cbrt', 'cdouble', 'ceil', 'cfloat', 'char', 'character', 'chararray', 'choose', 'clip', 'clongdouble', 'clongfloat', 'column_stack', 'common_type', 'compare_chararrays', 'compat', 'complex128', 'complex64', 'complex_', 'complexfloating', 'compress', 'concatenate', 'conj', 'conjugate', 'convolve', 'copy', 'copysign', 'copyto', 'core', 'corrcoef', 'correlate', 'cos', 'cosh', 'count_nonzero', 'cov', 'cross', 'csingle', 'ctypeslib', 'cumprod', 'cumproduct', 'cumsum', 'datetime64', 'datetime_as_string', 'datetime_data', 'deg2rad', 'degrees', 'delete', 'deprecate', 'deprecate_with_doc', 'diag', 'diag_indices', 'diag_indices_from', 'diagflat', 'diagonal', 'diff', 'digitize', 'disp', 'divide', 'divmod', 'dot', 'double', 'dsplit', 'dstack', 'dtype', 'e', 'ediff1d', 'einsum', 'einsum_path', 'emath', 'empty', 'empty_like', 'equal', 'errstate', 'euler_gamma', 'exp', 'exp2', 'expand_dims', 'expm1', 'extract', 'eye', 'fabs', 'fastCopyAndTranspose', 'fft', 'fill_diagonal', 'find_common_type', 'finfo', 'fix', 'flatiter', 'flatnonzero', 'flexible', 'flip', 'fliplr', 'flipud', 'float16', 'float32', 'float64', 'float_', 'float_power', 'floating', 'floor', 'floor_divide', 'fmax', 'fmin', 'fmod', 'format_float_positional', 'format_float_scientific', 'format_parser', 'frexp', 'frombuffer', 'fromfile', 'fromfunction', 'fromiter', 'frompyfunc', 'fromregex', 'fromstring', 'full', 'full_like', 'gcd', 'generic', 'genfromtxt', 'geomspace', 'get_array_wrap', 'get_include', 'get_printoptions', 'getbufsize', 'geterr', 'geterrcall', 'geterrobj', 'gradient', 'greater', 'greater_equal', 'half', 'hamming', 'hanning', 'heaviside', 'histogram', 'histogram2d', 'histogram_bin_edges', 'histogramdd', 'hsplit', 'hstack', 'hypot', 'i0', 'identity', 'iinfo', 'imag', 'in1d', 'index_exp', 'indices', 'inexact', 'inf', 'info', 'infty', 'inner', 'insert', 'int0', 'int16', 'int32', 'int64', 'int8', 'int_', 'intc', 'integer', 'interp', 'intersect1d', 'intp', 'invert', 'is_busday', 'isclose', 'iscomplex', 'iscomplexobj', 'isfinite', 'isfortran', 'isin', 'isinf', 'isnan', 'isnat', 'isneginf', 'isposinf', 'isreal', 'isrealobj', 'isscalar', 'issctype', 'issubclass_', 'issubdtype', 'issubsctype', 'iterable', 'ix_', 'kaiser', 'kron', 'lcm', 'ldexp', 'left_shift', 'less', 'less_equal', 'lexsort', 'lib', 'linalg', 'linspace', 'little_endian', 'load', 'loads', 'loadtxt', 'log', 'log10', 'log1p', 'log2', 'logaddexp', 'logaddexp2', 'logical_and', 'logical_not', 'logical_or', 'logical_xor', 'logspace', 'longcomplex', 'longdouble', 'longfloat', 'longlong', 'lookfor', 'ma', 'mafromtxt', 'mask_indices', 'mat', 'math', 'matmul', 'matrix', 'matrixlib', 'max', 'maximum', 'maximum_sctype', 'may_share_memory', 'mean', 'median', 'memmap', 'meshgrid', 'mgrid', 'min', 'min_scalar_type', 'minimum', 'mintypecode', 'mkl', 'mod', 'modf', 'moveaxis', 'msort', 'multiply', 'nan', 'nan_to_num', 'nanargmax', 'nanargmin', 'nancumprod', 'nancumsum', 'nanmax', 'nanmean', 'nanmedian', 'nanmin', 'nanpercentile', 'nanprod', 'nanquantile', 'nanstd', 'nansum', 'nanvar', 'nbytes', 'ndarray', 'ndenumerate', 'ndfromtxt', 'ndim', 'ndindex', 'nditer', 'negative', 'nested_iters', 'newaxis', 'nextafter', 'nonzero', 'not_equal', 'numarray', 'number', 'obj2sctype', 'object0', 'object_', 'ogrid', 'oldnumeric', 'ones', 'ones_like', 'os', 'outer', 'packbits', 'pad', 'partition', 'percentile', 'pi', 'piecewise', 'place', 'poly', 'poly1d', 'polyadd', 'polyder', 'polydiv', 'polyfit', 'polyint', 'polymul', 'polynomial', 'polysub', 'polyval', 'positive', 'power', 'printoptions', 'prod', 'product', 'promote_types', 'ptp', 'put', 'put_along_axis', 'putmask', 'quantile', 'r_', 'rad2deg', 'radians', 'random', 'ravel', 'ravel_multi_index', 'real', 'real_if_close', 'rec', 'recarray', 'recfromcsv', 'recfromtxt', 'reciprocal', 'record', 'remainder', 'repeat', 'require', 'reshape', 'resize', 'result_type', 'right_shift', 'rint', 'roll', 'rollaxis', 'roots', 'rot90', 'round', 'round_', 'row_stack', 's_', 'safe_eval', 'save', 'savetxt', 'savez', 'savez_compressed', 'sctype2char', 'sctypeDict', 'sctypes', 'searchsorted', 'select', 'set_numeric_ops', 'set_printoptions', 'set_string_function', 'setbufsize', 'setdiff1d', 'seterr', 'seterrcall', 'seterrobj', 'setxor1d', 'shape', 'shares_memory', 'short', 'show_config', 'sign', 'signbit', 'signedinteger', 'sin', 'sinc', 'single', 'singlecomplex', 'sinh', 'size', 'sometrue', 'sort', 'sort_complex', 'source', 'spacing', 'split', 'sqrt', 'square', 'squeeze', 'stack', 'std', 'str0', 'str_', 'string_', 'subtract', 'sum', 'swapaxes', 'sys', 'take', 'take_along_axis', 'tan', 'tanh', 'tensordot', 'test', 'testing', 'tile', 'timedelta64', 'trace', 'tracemalloc_domain', 'transpose', 'trapz', 'tri', 'tril', 'tril_indices', 'tril_indices_from', 'trim_zeros', 'triu', 'triu_indices', 'triu_indices_from', 'true_divide', 'trunc', 'typecodes', 'typename', 'ubyte', 'ufunc', 'uint', 'uint0', 'uint16', 'uint32', 'uint64', 'uint8', 'uintc', 'uintp', 'ulonglong', 'unicode_', 'union1d', 'unique', 'unpackbits', 'unravel_index', 'unsignedinteger', 'unwrap', 'use_hugepage', 'ushort', 'vander', 'var', 'vdot', 'vectorize', 'version', 'void', 'void0', 'vsplit', 'vstack', 'warnings', 'where', 'who', 'zeros', 'zeros_like']\n"
     ]
    }
   ],
   "source": [
    "#check all the functions in numpy\n",
    "print(dir(np))"
   ]
  },
  {
   "cell_type": "code",
   "execution_count": 3,
   "id": "8ea4fe03",
   "metadata": {},
   "outputs": [
    {
     "data": {
      "text/plain": [
       "3.1622776601683795"
      ]
     },
     "execution_count": 3,
     "metadata": {},
     "output_type": "execute_result"
    }
   ],
   "source": [
    "np.sqrt(10)"
   ]
  },
  {
   "cell_type": "code",
   "execution_count": 4,
   "id": "50330054",
   "metadata": {},
   "outputs": [
    {
     "name": "stdout",
     "output_type": "stream",
     "text": [
      "Minimum   18\n",
      "Maximum   57\n"
     ]
    }
   ],
   "source": [
    "print('Minimum  ',np.amin([25,30,57,18]))\n",
    "print('Maximum  ',np.amax([25,30,57,18]))"
   ]
  },
  {
   "cell_type": "code",
   "execution_count": 5,
   "id": "86387f2b",
   "metadata": {},
   "outputs": [
    {
     "data": {
      "text/plain": [
       "30.0"
      ]
     },
     "execution_count": 5,
     "metadata": {},
     "output_type": "execute_result"
    }
   ],
   "source": [
    "#roundoff to next number\n",
    "np.ceil(29.1)"
   ]
  },
  {
   "cell_type": "code",
   "execution_count": 6,
   "id": "623a5cbb",
   "metadata": {},
   "outputs": [
    {
     "data": {
      "text/plain": [
       "10.0"
      ]
     },
     "execution_count": 6,
     "metadata": {},
     "output_type": "execute_result"
    }
   ],
   "source": [
    "np.ceil(np.sum(np.sqrt([5,10,15])))"
   ]
  },
  {
   "cell_type": "markdown",
   "id": "7c459bc4",
   "metadata": {},
   "source": [
    "**similarly there are many numpy functions , you can explore them for your knowlwdge purpose. But we use limited functions in our course let's explore them**"
   ]
  },
  {
   "cell_type": "code",
   "execution_count": 7,
   "id": "84607508",
   "metadata": {},
   "outputs": [
    {
     "data": {
      "text/plain": [
       "array([ 5,  9, 13])"
      ]
     },
     "execution_count": 7,
     "metadata": {},
     "output_type": "execute_result"
    }
   ],
   "source": [
    "np.array([5,9,13])"
   ]
  },
  {
   "cell_type": "code",
   "execution_count": 8,
   "id": "06f76fc7",
   "metadata": {},
   "outputs": [],
   "source": [
    "xyz= np.array([5,9,13])"
   ]
  },
  {
   "cell_type": "code",
   "execution_count": 9,
   "id": "3d7aea00",
   "metadata": {},
   "outputs": [
    {
     "data": {
      "text/plain": [
       "numpy.ndarray"
      ]
     },
     "execution_count": 9,
     "metadata": {},
     "output_type": "execute_result"
    }
   ],
   "source": [
    "type(xyz)"
   ]
  },
  {
   "cell_type": "code",
   "execution_count": 10,
   "id": "9f7f9bc2",
   "metadata": {},
   "outputs": [
    {
     "name": "stdout",
     "output_type": "stream",
     "text": [
      "[ 5  9 13]\n"
     ]
    }
   ],
   "source": [
    "#copy array into other\n",
    "b = np.asarray(xyz)\n",
    "print(b)"
   ]
  },
  {
   "cell_type": "code",
   "execution_count": 11,
   "id": "9fd7848f",
   "metadata": {},
   "outputs": [
    {
     "data": {
      "text/plain": [
       "array([1., 2., 3.])"
      ]
     },
     "execution_count": 11,
     "metadata": {},
     "output_type": "execute_result"
    }
   ],
   "source": [
    "#dtype conversion\n",
    "np.array([1,2,3], dtype=float)"
   ]
  },
  {
   "cell_type": "markdown",
   "id": "f69e79ac",
   "metadata": {},
   "source": [
    "**data types**"
   ]
  },
  {
   "cell_type": "code",
   "execution_count": 12,
   "id": "b3270e92",
   "metadata": {},
   "outputs": [
    {
     "name": "stdout",
     "output_type": "stream",
     "text": [
      "Type/class of this object:  <class 'numpy.ndarray'>\n",
      "here is the matrix\n",
      "---------\n",
      " [[1 2 3]\n",
      " [4 5 6]\n",
      " [7 8 9]] \n",
      "----------\n",
      "dimension of this matrix:  2\n",
      "size of this matrix:  9\n",
      "shape of this matrix:  (3, 3)\n",
      "data type of this matrix:  int32\n"
     ]
    }
   ],
   "source": [
    "my_mat =[[1,2,3],[4,5,6],[7,8,9]]\n",
    "mat = np.array(my_mat)\n",
    "print(\"Type/class of this object: \",type(mat))\n",
    "print(\"here is the matrix\\n---------\\n\",mat,\"\\n----------\")\n",
    "print(\"dimension of this matrix: \",mat.ndim)#ndim gives the dimension, 2 for matrix, 1 for vactors\n",
    "print(\"size of this matrix: \",mat.size)#size gives the total number of element\n",
    "print(\"shape of this matrix: \",mat.shape)#shape gives the number of element along each exes\n",
    "print('data type of this matrix: ',mat.dtype)#dtype gives the datatype contained in the array"
   ]
  },
  {
   "cell_type": "markdown",
   "id": "a03c7367",
   "metadata": {},
   "source": [
    "# arange and linespace"
   ]
  },
  {
   "cell_type": "code",
   "execution_count": 13,
   "id": "387875bf",
   "metadata": {},
   "outputs": [
    {
     "ename": "TypeError",
     "evalue": "'float' object cannot be interpreted as an integer",
     "output_type": "error",
     "traceback": [
      "\u001b[1;31m---------------------------------------------------------------------------\u001b[0m",
      "\u001b[1;31mTypeError\u001b[0m                                 Traceback (most recent call last)",
      "Input \u001b[1;32mIn [13]\u001b[0m, in \u001b[0;36m<cell line: 2>\u001b[1;34m()\u001b[0m\n\u001b[0;32m      1\u001b[0m \u001b[38;5;66;03m#dont work with python range\u001b[39;00m\n\u001b[1;32m----> 2\u001b[0m \u001b[38;5;28mlist\u001b[39m(\u001b[38;5;28;43mrange\u001b[39;49m\u001b[43m(\u001b[49m\u001b[38;5;241;43m2\u001b[39;49m\u001b[43m,\u001b[49m\u001b[38;5;241;43m10.5\u001b[39;49m\u001b[43m,\u001b[49m\u001b[38;5;241;43m.4\u001b[39;49m\u001b[43m)\u001b[49m)\n",
      "\u001b[1;31mTypeError\u001b[0m: 'float' object cannot be interpreted as an integer"
     ]
    }
   ],
   "source": [
    "#dont work with python range\n",
    "list(range(2,10.5,.4))"
   ]
  },
  {
   "cell_type": "code",
   "execution_count": 14,
   "id": "5795be73",
   "metadata": {},
   "outputs": [
    {
     "data": {
      "text/plain": [
       "array([ 2. ,  2.4,  2.8,  3.2,  3.6,  4. ,  4.4,  4.8,  5.2,  5.6,  6. ,\n",
       "        6.4,  6.8,  7.2,  7.6,  8. ,  8.4,  8.8,  9.2,  9.6, 10. , 10.4])"
      ]
     },
     "execution_count": 14,
     "metadata": {},
     "output_type": "execute_result"
    }
   ],
   "source": [
    "a = np.arange(2,10.5,.4)\n",
    "a"
   ]
  },
  {
   "cell_type": "code",
   "execution_count": 15,
   "id": "b4307434",
   "metadata": {},
   "outputs": [
    {
     "data": {
      "text/plain": [
       "array([10.4, 10. ,  9.6,  9.2,  8.8,  8.4,  8. ,  7.6,  7.2,  6.8,  6.4,\n",
       "        6. ,  5.6,  5.2,  4.8,  4.4,  4. ,  3.6,  3.2,  2.8,  2.4,  2. ])"
      ]
     },
     "execution_count": 15,
     "metadata": {},
     "output_type": "execute_result"
    }
   ],
   "source": [
    "#reverse order\n",
    "a[::-1]"
   ]
  },
  {
   "cell_type": "code",
   "execution_count": 16,
   "id": "e3e10837",
   "metadata": {},
   "outputs": [
    {
     "name": "stdout",
     "output_type": "stream",
     "text": [
      "Every fifth number from 50 in reverse order\n",
      " [50 45 40 35 30 25 20 15 10  5  0]\n"
     ]
    }
   ],
   "source": [
    "print(\"Every fifth number from 50 in reverse order\\n\",np.arange(50,-1,-5))"
   ]
  },
  {
   "cell_type": "code",
   "execution_count": 17,
   "id": "899aa91b",
   "metadata": {},
   "outputs": [
    {
     "name": "stdout",
     "output_type": "stream",
     "text": [
      "linearly spaced numbers between 10 and 40\n",
      "---------------------------------\n",
      "[10.  17.5 25.  32.5 40. ]\n"
     ]
    }
   ],
   "source": [
    "print(\"linearly spaced numbers between 10 and 40\\n---------------------------------\")\n",
    "print(np.linspace(10,40,5))"
   ]
  },
  {
   "cell_type": "code",
   "execution_count": 18,
   "id": "4ce34702",
   "metadata": {},
   "outputs": [
    {
     "data": {
      "text/plain": [
       "(array([2.  , 2.25, 2.5 , 2.75]), 0.25)"
      ]
     },
     "execution_count": 18,
     "metadata": {},
     "output_type": "execute_result"
    }
   ],
   "source": [
    "#enclude end point and check space betweenthe points\n",
    "#bydefault endpoint = true\n",
    "#by default retstep = False\n",
    "np.linspace(2.0,3.0, num=4, endpoint=False, retstep=True)"
   ]
  },
  {
   "cell_type": "code",
   "execution_count": 19,
   "id": "4415c0f4",
   "metadata": {},
   "outputs": [
    {
     "name": "stdout",
     "output_type": "stream",
     "text": [
      "(array([ 4.567867  ,  5.13151682,  5.69516663,  6.25881645,  6.82246626,\n",
      "        7.38611608,  7.94976589,  8.51341571,  9.07706553,  9.64071534,\n",
      "       10.20436516, 10.76801497, 11.33166479, 11.89531461, 12.45896442,\n",
      "       13.02261424, 13.58626405, 14.14991387, 14.71356368, 15.2772135 ,\n",
      "       15.84086332, 16.40451313, 16.96816295, 17.53181276, 18.09546258,\n",
      "       18.65911239, 19.22276221, 19.78641203, 20.35006184, 20.91371166,\n",
      "       21.47736147, 22.04101129, 22.60466111, 23.16831092, 23.73196074,\n",
      "       24.29561055, 24.85926037, 25.42291018, 25.98656   ]), 0.5636498157894737)\n"
     ]
    }
   ],
   "source": [
    "print(np.linspace(4.567867,25.98656,39, retstep=True))"
   ]
  },
  {
   "cell_type": "markdown",
   "id": "e209aa6b",
   "metadata": {},
   "source": [
    "# Matrix Creation"
   ]
  },
  {
   "cell_type": "code",
   "execution_count": 20,
   "id": "51259b6d",
   "metadata": {},
   "outputs": [
    {
     "name": "stdout",
     "output_type": "stream",
     "text": [
      "vector of zeroes\n",
      "---------------------\n",
      "[0. 0. 0. 0. 0.]\n"
     ]
    }
   ],
   "source": [
    "print(\"vector of zeroes\\n---------------------\")\n",
    "print(np.zeros(5))"
   ]
  },
  {
   "cell_type": "code",
   "execution_count": 21,
   "id": "1c33a901",
   "metadata": {},
   "outputs": [
    {
     "name": "stdout",
     "output_type": "stream",
     "text": [
      "Matrix of zeroes\n",
      "---------------------\n",
      "[[0. 0. 0. 0. 0. 0.]\n",
      " [0. 0. 0. 0. 0. 0.]\n",
      " [0. 0. 0. 0. 0. 0.]\n",
      " [0. 0. 0. 0. 0. 0.]\n",
      " [0. 0. 0. 0. 0. 0.]]\n"
     ]
    }
   ],
   "source": [
    "print(\"Matrix of zeroes\\n---------------------\")\n",
    "print(np.zeros((5,6)))#notice tuples"
   ]
  },
  {
   "cell_type": "code",
   "execution_count": 22,
   "id": "71fe442d",
   "metadata": {},
   "outputs": [
    {
     "name": "stdout",
     "output_type": "stream",
     "text": [
      "Matrix of ones\n",
      "---------------------\n",
      "[[1. 1. 1. 1. 1. 1. 1. 1.]\n",
      " [1. 1. 1. 1. 1. 1. 1. 1.]\n",
      " [1. 1. 1. 1. 1. 1. 1. 1.]\n",
      " [1. 1. 1. 1. 1. 1. 1. 1.]\n",
      " [1. 1. 1. 1. 1. 1. 1. 1.]]\n"
     ]
    }
   ],
   "source": [
    "print(\"Matrix of ones\\n---------------------\")\n",
    "print(np.ones((5,8)))#note matrix dimension specified by Tuples"
   ]
  },
  {
   "cell_type": "code",
   "execution_count": 23,
   "id": "235e25e1",
   "metadata": {},
   "outputs": [
    {
     "name": "stdout",
     "output_type": "stream",
     "text": [
      "Matrix of ones\n",
      "---------------------\n",
      "[[5. 5. 5. 5.]\n",
      " [5. 5. 5. 5.]\n",
      " [5. 5. 5. 5.]]\n"
     ]
    }
   ],
   "source": [
    "print(\"Matrix of ones\\n---------------------\")\n",
    "print(5*np.ones((3,4)))"
   ]
  },
  {
   "cell_type": "code",
   "execution_count": 24,
   "id": "5f187afe",
   "metadata": {},
   "outputs": [
    {
     "name": "stdout",
     "output_type": "stream",
     "text": [
      "[[ 0  1  2  3  4]\n",
      " [ 5  6  7  8  9]\n",
      " [10 11 12 13 14]\n",
      " [15 16 17 18 19]\n",
      " [20 21 22 23 24]\n",
      " [25 26 27 28 29]]\n"
     ]
    }
   ],
   "source": [
    "#cunstruct diagonal matrix\n",
    "x = np.arange(30).reshape(6,5)\n",
    "print(x)"
   ]
  },
  {
   "cell_type": "markdown",
   "id": "ab2bb1d8",
   "metadata": {},
   "source": [
    "# Random Number Generation"
   ]
  },
  {
   "cell_type": "code",
   "execution_count": 25,
   "id": "af2f5f46",
   "metadata": {},
   "outputs": [
    {
     "name": "stdout",
     "output_type": "stream",
     "text": [
      "random number generation (from uniform distribution)\n",
      "[[-0.31178367  0.72900392  0.21782079 -0.8990918  -2.48678065  0.91325152]\n",
      " [ 1.12706373 -1.51409323  1.63929108 -0.4298936   2.63128056  0.60182225]\n",
      " [-0.33588161  1.23773784  0.11112817  0.12915125  0.07612761 -0.15512816]\n",
      " [ 0.63422534  0.810655    0.35480861  1.81259031 -1.3564758  -0.46363197]\n",
      " [ 0.82465384 -1.17643148  1.56448966  0.71270509 -0.1810066   0.53419953]\n",
      " [-0.58661296 -1.48185327  0.85724762  0.94309899  0.11444143 -0.02195668]\n",
      " [-2.12714455 -0.83440747 -0.46550831  0.23371059  1.38503523 -0.51962709]\n",
      " [-0.78015214  0.95560959 -0.12673638 -1.36861282  1.21848065 -0.85750144]\n",
      " [-0.56147088 -1.0335199   0.35877096  1.07368134 -0.37550472  0.39636757]\n",
      " [-0.47144628  2.33660781  1.50278553 -0.59545972  0.52834106  0.9398248 ]]\n"
     ]
    }
   ],
   "source": [
    "np.random.seed(6) # each seed number will generate similar data\n",
    "print(\"random number generation (from uniform distribution)\")\n",
    "print(np.random.randn(10,6))"
   ]
  },
  {
   "cell_type": "code",
   "execution_count": 27,
   "id": "982bb55b",
   "metadata": {},
   "outputs": [
    {
     "name": "stdout",
     "output_type": "stream",
     "text": [
      " number from Normal distribution with zero mean and started deviation 1 i.e. standard normal\n",
      "[[ 0.52294535 -0.59187648 -0.47748711]\n",
      " [ 0.11252968  1.90474232  0.69415315]\n",
      " [-0.01958134  1.66284285  0.03060843]\n",
      " [-0.29749921 -0.96813764  0.16706673]\n",
      " [ 0.11660197 -0.68225732 -1.91402115]\n",
      " [-0.13990231  0.11492459 -0.39500464]\n",
      " [-0.95331626 -1.07282736 -0.48444561]\n",
      " [ 1.36293786  0.15268777 -1.6326206 ]\n",
      " [ 0.64330145 -0.44789505  2.33903423]\n",
      " [-0.31332286 -0.05961756  0.19416833]]\n"
     ]
    }
   ],
   "source": [
    "print(\" number from Normal distribution with zero mean and started deviation 1 i.e. standard normal\")\n",
    "print(np.random.randn(10,3))"
   ]
  },
  {
   "cell_type": "code",
   "execution_count": 28,
   "id": "caec3f72",
   "metadata": {},
   "outputs": [
    {
     "name": "stdout",
     "output_type": "stream",
     "text": [
      "\n",
      "Random integer matrix\n",
      "[[24641 15656  8972   599  3367 25489    10]\n",
      " [16534 12574 19711  7360 29664  7867  7193]\n",
      " [14019 13020 13077 18979   100 21484 21802]\n",
      " [ 8255 12325  7663 20160 19121 25216 16774]\n",
      " [ 3611 16808  5847  3810  3576 24615  1083]\n",
      " [17826 26054  8618  3293 19854  6174  5379]]\n"
     ]
    }
   ],
   "source": [
    "print(\"\\nRandom integer matrix\")\n",
    "print(np.random.randint(1,30000,(6,7))) "
   ]
  },
  {
   "cell_type": "code",
   "execution_count": 29,
   "id": "c515c48a",
   "metadata": {},
   "outputs": [
    {
     "name": "stdout",
     "output_type": "stream",
     "text": [
      "Your OTP is -  [8506]\n",
      "Enter OTP \n"
     ]
    },
    {
     "ename": "ValueError",
     "evalue": "invalid literal for int() with base 10: ''",
     "output_type": "error",
     "traceback": [
      "\u001b[1;31m---------------------------------------------------------------------------\u001b[0m",
      "\u001b[1;31mValueError\u001b[0m                                Traceback (most recent call last)",
      "Input \u001b[1;32mIn [29]\u001b[0m, in \u001b[0;36m<cell line: 3>\u001b[1;34m()\u001b[0m\n\u001b[0;32m      3\u001b[0m otp1 \u001b[38;5;241m=\u001b[39m np\u001b[38;5;241m.\u001b[39mrandom\u001b[38;5;241m.\u001b[39mrandint(\u001b[38;5;241m1000\u001b[39m, \u001b[38;5;241m10000\u001b[39m, \u001b[38;5;241m1\u001b[39m)\n\u001b[0;32m      4\u001b[0m \u001b[38;5;28mprint\u001b[39m(\u001b[38;5;124m'\u001b[39m\u001b[38;5;124mYour OTP is - \u001b[39m\u001b[38;5;124m'\u001b[39m, otp1)\n\u001b[1;32m----> 5\u001b[0m user_otp \u001b[38;5;241m=\u001b[39m \u001b[38;5;28;43mint\u001b[39;49m\u001b[43m(\u001b[49m\u001b[38;5;28;43minput\u001b[39;49m\u001b[43m(\u001b[49m\u001b[38;5;124;43m'\u001b[39;49m\u001b[38;5;124;43mEnter OTP \u001b[39;49m\u001b[38;5;124;43m'\u001b[39;49m\u001b[43m)\u001b[49m\u001b[43m)\u001b[49m\n\u001b[0;32m      6\u001b[0m \u001b[38;5;28;01mif\u001b[39;00m otp1 \u001b[38;5;241m==\u001b[39m user_otp:\n\u001b[0;32m      7\u001b[0m     \u001b[38;5;28mprint\u001b[39m(\u001b[38;5;124m'\u001b[39m\u001b[38;5;124mLogin succesful\u001b[39m\u001b[38;5;124m'\u001b[39m)\n",
      "\u001b[1;31mValueError\u001b[0m: invalid literal for int() with base 10: ''"
     ]
    }
   ],
   "source": [
    "#one of the real time example of randint is\n",
    "while True:\n",
    "    otp1 = np.random.randint(1000, 10000, 1)\n",
    "    print('Your OTP is - ', otp1)\n",
    "    user_otp = int(input('Enter OTP '))\n",
    "    if otp1 == user_otp:\n",
    "        print('Login succesful')\n",
    "        break\n",
    "    else:\n",
    "        print(' Generate new OTP')\n",
    "        continue"
   ]
  },
  {
   "cell_type": "markdown",
   "id": "785bb74a",
   "metadata": {},
   "source": [
    "**SORTING**"
   ]
  },
  {
   "cell_type": "code",
   "execution_count": 30,
   "id": "d8bd3e78",
   "metadata": {},
   "outputs": [],
   "source": [
    "from numpy.random import randint as ri\n"
   ]
  },
  {
   "cell_type": "code",
   "execution_count": 31,
   "id": "3434c4d4",
   "metadata": {},
   "outputs": [
    {
     "name": "stdout",
     "output_type": "stream",
     "text": [
      "\n",
      "5*5 Matrix of random integers\n",
      " -------------------------------------------------- \n",
      " [[12 85 59 40 34]\n",
      " [22 68 53 32 69]\n",
      " [22  7  9 54 30]\n",
      " [24 60 97  4 53]\n",
      " [61 35  8 48 23]]\n",
      "\n",
      "Here is the sorted matrix along each row\n",
      " -------------------------------------------------- \n",
      " [[12 34 40 59 85]\n",
      " [22 32 53 68 69]\n",
      " [ 7  9 22 30 54]\n",
      " [ 4 24 53 60 97]\n",
      " [ 8 23 35 48 61]]\n",
      "\n",
      "Here is the sorted matrix along each column\n",
      " -------------------------------------------------- \n",
      " [[12  7  8  4 23]\n",
      " [22 35  9 32 30]\n",
      " [22 60 53 40 34]\n",
      " [24 68 59 48 53]\n",
      " [61 85 97 54 69]]\n",
      "Minimum=  4 and Maximum =  97\n"
     ]
    }
   ],
   "source": [
    "M = ri(1,100,25).reshape(5,5)\n",
    "print(\"\\n5*5 Matrix of random integers\\n\", '-'*50,\"\\n\",M)\n",
    "print(\"\\nHere is the sorted matrix along each row\\n\",'-'*50,\"\\n\",np.sort(M))\n",
    "print(\"\\nHere is the sorted matrix along each column\\n\",'-'*50,\"\\n\",np.sort(M, axis=0))\n",
    "\n",
    "\n",
    "print('Minimum= ',M.min(), 'and Maximum = ', M.max())"
   ]
  },
  {
   "cell_type": "markdown",
   "id": "fe42d76c",
   "metadata": {},
   "source": [
    "**Numpy Condition**"
   ]
  },
  {
   "cell_type": "code",
   "execution_count": 32,
   "id": "89f4d403",
   "metadata": {},
   "outputs": [
    {
     "data": {
      "text/plain": [
       "array([ 8, 45, 54, 22, 69, 32, 37, 68, 48, 50])"
      ]
     },
     "execution_count": 32,
     "metadata": {},
     "output_type": "execute_result"
    }
   ],
   "source": [
    "#Below are employee salary.\n",
    "emp_salary = ri(8,70,10)\n",
    "emp_salary"
   ]
  },
  {
   "cell_type": "code",
   "execution_count": 33,
   "id": "5730b4ba",
   "metadata": {},
   "outputs": [
    {
     "name": "stdout",
     "output_type": "stream",
     "text": [
      "(array([0, 3], dtype=int64),)\n"
     ]
    }
   ],
   "source": [
    "#if you want to find actual salry whiuch are less than or greater than some salary use np.where\n",
    "#np.where gives index details.\n",
    "print(np.where(emp_salary<25))"
   ]
  },
  {
   "cell_type": "code",
   "execution_count": 34,
   "id": "cc8a287f",
   "metadata": {},
   "outputs": [
    {
     "data": {
      "text/plain": [
       "array([ 8, 22])"
      ]
     },
     "execution_count": 34,
     "metadata": {},
     "output_type": "execute_result"
    }
   ],
   "source": [
    "#fetch currosponding data\n",
    "emp_salary[np.where(emp_salary<25)]"
   ]
  },
  {
   "cell_type": "markdown",
   "id": "dc28c12d",
   "metadata": {},
   "source": [
    "similarly you can check for any condition"
   ]
  },
  {
   "cell_type": "code",
   "execution_count": 35,
   "id": "b6e1f2bb",
   "metadata": {},
   "outputs": [
    {
     "data": {
      "text/plain": [
       "array([20, 45, 50, 22, 50, 32, 37, 50, 48, 50])"
      ]
     },
     "execution_count": 35,
     "metadata": {},
     "output_type": "execute_result"
    }
   ],
   "source": [
    "#set minimum and maximum salary using a_min and a_max\n",
    "np.clip(emp_salary, a_min=20, a_max=50)"
   ]
  },
  {
   "cell_type": "markdown",
   "id": "83a8dbc3",
   "metadata": {},
   "source": [
    "# indexing and slicing"
   ]
  },
  {
   "cell_type": "code",
   "execution_count": 36,
   "id": "4273ea38",
   "metadata": {},
   "outputs": [
    {
     "name": "stdout",
     "output_type": "stream",
     "text": [
      "Array: [13 14 15 16 17 18 19 20 21 22 23 24 25 26 27 28 29]\n"
     ]
    }
   ],
   "source": [
    "arr = np.arange(13,30)\n",
    "print(\"Array:\" , arr)"
   ]
  },
  {
   "cell_type": "code",
   "execution_count": 37,
   "id": "6c61c9b7",
   "metadata": {},
   "outputs": [
    {
     "name": "stdout",
     "output_type": "stream",
     "text": [
      "Element at 7th index is: 20\n"
     ]
    }
   ],
   "source": [
    "print(\"Element at 7th index is:\", arr[7])"
   ]
  },
  {
   "cell_type": "code",
   "execution_count": 38,
   "id": "b77b7338",
   "metadata": {},
   "outputs": [
    {
     "name": "stdout",
     "output_type": "stream",
     "text": [
      "Element at 7th 4th and 9th index are: [20 17 22]\n"
     ]
    }
   ],
   "source": [
    "print(\"Element at 7th 4th and 9th index are:\", arr[[7,4,9]])"
   ]
  },
  {
   "cell_type": "code",
   "execution_count": 39,
   "id": "f6486d4d",
   "metadata": {},
   "outputs": [
    {
     "data": {
      "text/plain": [
       "array([[1, 2, 3],\n",
       "       [4, 5, 6],\n",
       "       [7, 8, 9]])"
      ]
     },
     "execution_count": 39,
     "metadata": {},
     "output_type": "execute_result"
    }
   ],
   "source": [
    "my_mat = [[1,2,3],[4,5,6],[7,8,9]]\n",
    "mat = np.array(my_mat)\n",
    "mat"
   ]
  },
  {
   "cell_type": "code",
   "execution_count": 40,
   "id": "6fcd5694",
   "metadata": {},
   "outputs": [
    {
     "name": "stdout",
     "output_type": "stream",
     "text": [
      "\n",
      "Double bracket indexing\n",
      "----------------------------\n",
      "Element in row index 1 and column index2: 6\n"
     ]
    }
   ],
   "source": [
    "print(\"\\nDouble bracket indexing\\n----------------------------\")\n",
    "print(\"Element in row index 1 and column index2:\", mat[1][2])"
   ]
  },
  {
   "cell_type": "code",
   "execution_count": 41,
   "id": "ee981be4",
   "metadata": {},
   "outputs": [
    {
     "data": {
      "text/plain": [
       "array([[1, 2, 3],\n",
       "       [4, 5, 6],\n",
       "       [7, 8, 9]])"
      ]
     },
     "execution_count": 41,
     "metadata": {},
     "output_type": "execute_result"
    }
   ],
   "source": [
    "mat"
   ]
  },
  {
   "cell_type": "code",
   "execution_count": 42,
   "id": "ffe6cfc8",
   "metadata": {},
   "outputs": [
    {
     "name": "stdout",
     "output_type": "stream",
     "text": [
      "Entire row at index2: [7 8 9]\n",
      "\n",
      "Entire column at index: \n",
      " [[2 3]\n",
      " [5 6]\n",
      " [8 9]]\n"
     ]
    }
   ],
   "source": [
    "print(\"Entire row at index2:\", mat[2])\n",
    "print(\"\\nEntire column at index: \\n\", mat[:,1:])"
   ]
  },
  {
   "cell_type": "code",
   "execution_count": 43,
   "id": "688600b2",
   "metadata": {},
   "outputs": [
    {
     "name": "stdout",
     "output_type": "stream",
     "text": [
      "\n",
      "Subsetting sub-matrices\n",
      "------------------------------\n",
      "Matrix with row indices 1 and 2 and column indices 3 and 4\n",
      " [[5]]\n"
     ]
    }
   ],
   "source": [
    "print(\"\\nSubsetting sub-matrices\\n------------------------------\")\n",
    "print(\"Matrix with row indices 1 and 2 and column indices 3 and 4\\n\", mat[1:2,1:2])"
   ]
  },
  {
   "cell_type": "code",
   "execution_count": 44,
   "id": "780d55b8",
   "metadata": {},
   "outputs": [
    {
     "data": {
      "text/plain": [
       "array([[1, 2, 3],\n",
       "       [4, 5, 6],\n",
       "       [7, 8, 9]])"
      ]
     },
     "execution_count": 44,
     "metadata": {},
     "output_type": "execute_result"
    }
   ],
   "source": [
    "mat"
   ]
  },
  {
   "cell_type": "code",
   "execution_count": 45,
   "id": "342e666c",
   "metadata": {},
   "outputs": [
    {
     "name": "stdout",
     "output_type": "stream",
     "text": [
      " [[2 3]\n",
      " [5 6]]\n"
     ]
    }
   ],
   "source": [
    "print(\"\", mat[0:2,[1,2]])"
   ]
  },
  {
   "cell_type": "markdown",
   "id": "51d6f73f",
   "metadata": {},
   "source": [
    "**Update matrix**"
   ]
  },
  {
   "cell_type": "code",
   "execution_count": 46,
   "id": "432b6a66",
   "metadata": {},
   "outputs": [
    {
     "name": "stdout",
     "output_type": "stream",
     "text": [
      "Origina Matrix \n",
      "\n",
      " [[1 2 3]\n",
      " [4 5 6]\n",
      " [7 8 9]]\n"
     ]
    }
   ],
   "source": [
    "print('Origina Matrix \\n\\n',mat)"
   ]
  },
  {
   "cell_type": "code",
   "execution_count": 47,
   "id": "994c251e",
   "metadata": {},
   "outputs": [
    {
     "name": "stdout",
     "output_type": "stream",
     "text": [
      "[[ 1 35  3]\n",
      " [ 4  5  6]\n",
      " [ 7  8  9]]\n"
     ]
    }
   ],
   "source": [
    "mat[0,1]=35\n",
    "print(mat)"
   ]
  },
  {
   "cell_type": "code",
   "execution_count": 48,
   "id": "805ff50b",
   "metadata": {},
   "outputs": [
    {
     "name": "stdout",
     "output_type": "stream",
     "text": [
      "[[  1  35   3]\n",
      " [100   5   6]\n",
      " [  7   8   9]]\n"
     ]
    }
   ],
   "source": [
    "mat[1,0] = 100\n",
    "print(mat)"
   ]
  },
  {
   "cell_type": "markdown",
   "id": "14d883c5",
   "metadata": {},
   "source": [
    "**Subsseting**"
   ]
  },
  {
   "cell_type": "code",
   "execution_count": 52,
   "id": "7804bdf6",
   "metadata": {},
   "outputs": [
    {
     "name": "stdout",
     "output_type": "stream",
     "text": [
      "Matrix of random 2-digit number\n",
      " ------------------------------\n",
      "  [[55 84 13 46 49]\n",
      " [76 52 32 91 60]\n",
      " [93 93 28 87 57]]\n"
     ]
    }
   ],
   "source": [
    "mat = np.array(ri(10,100,15)).reshape(3,5)\n",
    "print('Matrix of random 2-digit number\\n ------------------------------\\n ', mat)"
   ]
  },
  {
   "cell_type": "code",
   "execution_count": 53,
   "id": "77f25aa1",
   "metadata": {},
   "outputs": [
    {
     "data": {
      "text/plain": [
       "array([[ True,  True, False, False, False],\n",
       "       [ True,  True, False,  True,  True],\n",
       "       [ True,  True, False,  True,  True]])"
      ]
     },
     "execution_count": 53,
     "metadata": {},
     "output_type": "execute_result"
    }
   ],
   "source": [
    "mat>50"
   ]
  },
  {
   "cell_type": "code",
   "execution_count": 54,
   "id": "55b756ea",
   "metadata": {},
   "outputs": [
    {
     "name": "stdout",
     "output_type": "stream",
     "text": [
      "Elements greater than 50\n",
      " [55 84 76 52 91 60 93 93 87 57]\n"
     ]
    }
   ],
   "source": [
    "print(\"Elements greater than 50\\n\",mat[mat>50])"
   ]
  },
  {
   "cell_type": "code",
   "execution_count": 57,
   "id": "b2726617",
   "metadata": {},
   "outputs": [
    {
     "data": {
      "text/plain": [
       "array('fail', dtype='<U4')"
      ]
     },
     "execution_count": 57,
     "metadata": {},
     "output_type": "execute_result"
    }
   ],
   "source": [
    "#you can also use np.where to return some data based on condition\n",
    "marks = 50\n",
    "np.where(marks > 68, 'Pass','fail')"
   ]
  },
  {
   "cell_type": "code",
   "execution_count": 58,
   "id": "2162d737",
   "metadata": {},
   "outputs": [
    {
     "name": "stdout",
     "output_type": "stream",
     "text": [
      "[ -9  22  -5  26  34  25  10   6  10  44  39  -2   8  10   9  17  -5  48\n",
      "  10  -5   5  27  -4  17   5  45  32  13   9  25  -8  24  47  42  27   7\n",
      "  43  44  13  25  39  34  48  29  42   9   8  -3  16  47  17  10  37  31\n",
      "  16  47   6  47  -6 -10   0  38  42  34  26   9  42  -1  33  16  33  26\n",
      "  44  29  38   0   4  27  13  43  24  23   7  39   4  12  29  37  -4  10\n",
      "  41  49  33  -9  38  47  21  36  16  28]\n"
     ]
    },
    {
     "data": {
      "text/plain": [
       "98"
      ]
     },
     "execution_count": 58,
     "metadata": {},
     "output_type": "execute_result"
    }
   ],
   "source": [
    "#check non zeros\n",
    "non_zero = ri(-10,50,100)\n",
    "\n",
    "print(non_zero)\n",
    "np.count_nonzero(non_zero)"
   ]
  },
  {
   "cell_type": "code",
   "execution_count": 61,
   "id": "639d952e",
   "metadata": {},
   "outputs": [
    {
     "name": "stdout",
     "output_type": "stream",
     "text": [
      "[[16  1 10 15]\n",
      " [16  1  9  9]\n",
      " [ 2  5 11  8]]\n"
     ]
    },
    {
     "data": {
      "text/plain": [
       "array([16,  1, 10, 15, 16,  1,  9,  9,  2,  5, 11,  8])"
      ]
     },
     "execution_count": 61,
     "metadata": {},
     "output_type": "execute_result"
    }
   ],
   "source": [
    "#ravel of flattarn (this concept is used in deep learning for nimage persenting)\n",
    "array = np.random.randint(0, 20 , size = (3, 4))\n",
    "print(array)\n",
    "array.ravel()"
   ]
  },
  {
   "cell_type": "code",
   "execution_count": 62,
   "id": "a3fc6120",
   "metadata": {},
   "outputs": [
    {
     "data": {
      "text/plain": [
       "array([16,  1, 10, 15, 16,  1,  9,  9,  2,  5, 11,  8])"
      ]
     },
     "execution_count": 62,
     "metadata": {},
     "output_type": "execute_result"
    }
   ],
   "source": [
    "#or flattern both are same\n",
    "array.flatten()"
   ]
  },
  {
   "cell_type": "markdown",
   "id": "14e2501c",
   "metadata": {},
   "source": [
    "# Universal function"
   ]
  },
  {
   "cell_type": "code",
   "execution_count": 63,
   "id": "2a69164a",
   "metadata": {},
   "outputs": [
    {
     "name": "stdout",
     "output_type": "stream",
     "text": [
      "\n",
      "1st matrix of random single digit numbers\n",
      "----------------------\n",
      " [[5 7 8]\n",
      " [2 5 6]\n",
      " [2 4 1]]\n",
      "\n",
      "2nd matrix of random single digit numbers\n",
      "-----------------------\n",
      " [[2 3 9]\n",
      " [1 1 7]\n",
      " [3 6 6]]\n"
     ]
    }
   ],
   "source": [
    "mat1= np.array(ri(1,10,9)).reshape(3,3)\n",
    "mat2= np.array(ri(1,10,9)).reshape(3,3)\n",
    "\n",
    "print('\\n1st matrix of random single digit numbers\\n----------------------\\n',mat1)\n",
    "print('\\n2nd matrix of random single digit numbers\\n-----------------------\\n',mat2)"
   ]
  },
  {
   "cell_type": "code",
   "execution_count": 64,
   "id": "7c402282",
   "metadata": {},
   "outputs": [
    {
     "name": "stdout",
     "output_type": "stream",
     "text": [
      "\n",
      "Addition\n",
      "-------------------\n",
      " [[ 7 10 17]\n",
      " [ 3  6 13]\n",
      " [ 5 10  7]]\n"
     ]
    }
   ],
   "source": [
    "print(\"\\nAddition\\n-------------------\\n\",         mat1+mat2)"
   ]
  },
  {
   "cell_type": "code",
   "execution_count": 65,
   "id": "2f5e4324",
   "metadata": {},
   "outputs": [
    {
     "name": "stdout",
     "output_type": "stream",
     "text": [
      "\n",
      "Multiplication\n",
      "----------------\n",
      " [[10 21 72]\n",
      " [ 2  5 42]\n",
      " [ 6 24  6]]\n"
     ]
    }
   ],
   "source": [
    "print(\"\\nMultiplication\\n----------------\\n\",        mat1*mat2)"
   ]
  },
  {
   "cell_type": "markdown",
   "id": "f4ca04bf",
   "metadata": {},
   "source": [
    "**Broadcasting**"
   ]
  },
  {
   "cell_type": "code",
   "execution_count": 67,
   "id": "d9201905",
   "metadata": {},
   "outputs": [
    {
     "name": "stdout",
     "output_type": "stream",
     "text": [
      "[[0. 0. 0.]\n",
      " [0. 0. 0.]\n",
      " [0. 0. 0.]]\n"
     ]
    }
   ],
   "source": [
    "start = np.zeros((3,3))\n",
    "print(start)"
   ]
  },
  {
   "cell_type": "code",
   "execution_count": 68,
   "id": "773066b9",
   "metadata": {},
   "outputs": [
    {
     "name": "stdout",
     "output_type": "stream",
     "text": [
      "[[1 0 2]]\n"
     ]
    }
   ],
   "source": [
    "#creat a rank1 ndarray with 3 values\n",
    "add_row = np.array([[1,0,2]])\n",
    "print(add_row)"
   ]
  },
  {
   "cell_type": "code",
   "execution_count": 69,
   "id": "2d4f78c7",
   "metadata": {},
   "outputs": [
    {
     "name": "stdout",
     "output_type": "stream",
     "text": [
      "[[1. 0. 2.]\n",
      " [1. 0. 2.]\n",
      " [1. 0. 2.]]\n"
     ]
    }
   ],
   "source": [
    "y = start + add_row #add to eaxch row of start using broadcasting\n",
    "print(y)"
   ]
  },
  {
   "cell_type": "code",
   "execution_count": 70,
   "id": "b86f7ed0",
   "metadata": {},
   "outputs": [
    {
     "data": {
      "text/plain": [
       "array([[1],\n",
       "       [0],\n",
       "       [2]])"
      ]
     },
     "execution_count": 70,
     "metadata": {},
     "output_type": "execute_result"
    }
   ],
   "source": [
    "new_row = add_row.T\n",
    "new_row"
   ]
  },
  {
   "cell_type": "code",
   "execution_count": 72,
   "id": "569c43e3",
   "metadata": {},
   "outputs": [
    {
     "name": "stdout",
     "output_type": "stream",
     "text": [
      "[[1. 1. 1.]\n",
      " [0. 0. 0.]\n",
      " [2. 2. 2.]]\n"
     ]
    }
   ],
   "source": [
    "test = new_row + start\n",
    "print(test)"
   ]
  },
  {
   "cell_type": "markdown",
   "id": "a46d0d94",
   "metadata": {},
   "source": [
    "**similarly you can apply other functions to matrix**"
   ]
  },
  {
   "cell_type": "code",
   "execution_count": null,
   "id": "f8e71744",
   "metadata": {},
   "outputs": [],
   "source": []
  },
  {
   "cell_type": "code",
   "execution_count": null,
   "id": "cfba664e",
   "metadata": {},
   "outputs": [],
   "source": []
  },
  {
   "cell_type": "code",
   "execution_count": null,
   "id": "9501363f",
   "metadata": {},
   "outputs": [],
   "source": []
  },
  {
   "cell_type": "code",
   "execution_count": null,
   "id": "2b5cc7e1",
   "metadata": {},
   "outputs": [],
   "source": []
  },
  {
   "cell_type": "code",
   "execution_count": null,
   "id": "8539d224",
   "metadata": {},
   "outputs": [],
   "source": []
  },
  {
   "cell_type": "code",
   "execution_count": null,
   "id": "095d0d1c",
   "metadata": {},
   "outputs": [],
   "source": []
  },
  {
   "cell_type": "code",
   "execution_count": null,
   "id": "62650476",
   "metadata": {},
   "outputs": [],
   "source": []
  }
 ],
 "metadata": {
  "kernelspec": {
   "display_name": "Python 3 (ipykernel)",
   "language": "python",
   "name": "python3"
  },
  "language_info": {
   "codemirror_mode": {
    "name": "ipython",
    "version": 3
   },
   "file_extension": ".py",
   "mimetype": "text/x-python",
   "name": "python",
   "nbconvert_exporter": "python",
   "pygments_lexer": "ipython3",
   "version": "3.9.12"
  }
 },
 "nbformat": 4,
 "nbformat_minor": 5
}
