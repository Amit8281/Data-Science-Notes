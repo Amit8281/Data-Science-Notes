{
 "cells": [
  {
   "cell_type": "markdown",
   "id": "eefe39f3",
   "metadata": {},
   "source": [
    "# Object Oriented Programming"
   ]
  },
  {
   "cell_type": "markdown",
   "id": "9c2d6493",
   "metadata": {},
   "source": [
    "**object oriented programming(oop)** is a programming paradigm that allows abstraction through the concept of intracting entities. this programming works contradictory to conventional modal and is procedural, in which programme are organised as a sequence of command or statements to perform."
   ]
  },
  {
   "cell_type": "markdown",
   "id": "76b3dbb7",
   "metadata": {},
   "source": [
    "we can think an object as an entity that resides in memory, has a state ans its able to perform some actions."
   ]
  },
  {
   "cell_type": "markdown",
   "id": "52a416cd",
   "metadata": {},
   "source": [
    "more formally objects are entities that represents instances of a general abstract concept called **class** in **python** \"attributes\" are the variable defining an object state and the possible action are called \"methods\""
   ]
  },
  {
   "cell_type": "markdown",
   "id": "cfc16c99",
   "metadata": {},
   "source": [
    "in python everything is an object also classes and functions."
   ]
  },
  {
   "cell_type": "markdown",
   "id": "7ca9c0ae",
   "metadata": {},
   "source": [
    "**class is used to keep related things together**"
   ]
  },
  {
   "cell_type": "markdown",
   "id": "f0cba09a",
   "metadata": {},
   "source": [
    "**Real time Example**"
   ]
  },
  {
   "cell_type": "markdown",
   "id": "7d77fbf8",
   "metadata": {},
   "source": [
    "imagine you are opening a bank account and you fill most of the personal information like username, name , last name, age , city, phone number, e mail, etc.."
   ]
  },
  {
   "cell_type": "markdown",
   "id": "b684f1a8",
   "metadata": {},
   "source": [
    "once you fill all your information it will be registered with bank"
   ]
  },
  {
   "cell_type": "markdown",
   "id": "a4738259",
   "metadata": {},
   "source": [
    "whenever you want to check your personal information you click on personal  tab . your name, last name, account number, city etc will be displayed. "
   ]
  },
  {
   "cell_type": "markdown",
   "id": "b004fe58",
   "metadata": {},
   "source": [
    "whenever you want to deposite or withdraw maoney you click other tabs."
   ]
  },
  {
   "cell_type": "markdown",
   "id": "9f2c4734",
   "metadata": {},
   "source": [
    "So here"
   ]
  },
  {
   "cell_type": "raw",
   "id": "36129a6f",
   "metadata": {},
   "source": [
    "1. Bank account is your class.\n",
    "2. __init__(self,...) will register your details with bank\n",
    "3. self will help you to get your respective details back when you click various tabs.\n",
    "4. login, personal information and password chang, withdrawl are method"
   ]
  },
  {
   "cell_type": "markdown",
   "id": "cbedb9c5",
   "metadata": {},
   "source": [
    "# 1. How to define Class"
   ]
  },
  {
   "cell_type": "markdown",
   "id": "4bdf1bba",
   "metadata": {},
   "source": [
    "**1.1 Creating a class**"
   ]
  },
  {
   "cell_type": "markdown",
   "id": "81ddb28b",
   "metadata": {},
   "source": [
    "suppose you want to creat a class , named person, as a prototype , a shoer of tamplet for any number of 'person' objects."
   ]
  },
  {
   "cell_type": "raw",
   "id": "aa441151",
   "metadata": {},
   "source": [
    "class className(base_classes):\n",
    "    statements"
   ]
  },
  {
   "cell_type": "markdown",
   "id": "1274e6e3",
   "metadata": {},
   "source": [
    "class names should always be uppercase(it's naming convention)"
   ]
  },
  {
   "cell_type": "code",
   "execution_count": 1,
   "id": "043b011a",
   "metadata": {},
   "outputs": [],
   "source": [
    "class account:\n",
    "    pass"
   ]
  },
  {
   "cell_type": "raw",
   "id": "bfd94d3c",
   "metadata": {},
   "source": [
    "__init__(self.)\n",
    "__init__(self,...) will register/initialize your details with google\n",
    "self will help you to get your respective details back when you click diffrent tabs."
   ]
  },
  {
   "cell_type": "code",
   "execution_count": null,
   "id": "a0c0fab8",
   "metadata": {},
   "outputs": [],
   "source": [
    "class Account:\n",
    "    def __init__(self , name, last name, city, user_id, password, phone)#attributes/arguments\n",
    "#data initialization (registering the information)\n",
    "    self.name       =name\n",
    "    self.last_name  =last_name\n",
    "    self.city       =city\n",
    "    self.user_id    =user_id\n",
    "    self.password   =password\n",
    "    self.phone      =phone\n",
    "    \n",
    "    "
   ]
  },
  {
   "cell_type": "markdown",
   "id": "2f2cbc5c",
   "metadata": {},
   "source": [
    "**1.2 Methods**"
   ]
  },
  {
   "cell_type": "markdown",
   "id": "ea8fa2cf",
   "metadata": {},
   "source": [
    "in the below example arguments are being passed to the init method to initialize the object. The keyword self represents the instance of a class and binds the attributes with the given arguments. In the same way you can creat and pass on multiple names as an arguments . You can creat multiple methods for diffrent reasons."
   ]
  },
  {
   "cell_type": "markdown",
   "id": "322df482",
   "metadata": {},
   "source": [
    "**Lets see with real time practical example**"
   ]
  },
  {
   "cell_type": "code",
   "execution_count": 2,
   "id": "65e126e3",
   "metadata": {},
   "outputs": [
    {
     "name": "stdout",
     "output_type": "stream",
     "text": [
      "enter your name = amit bhardwaj\n",
      "enter your last name = bhardwaj\n",
      "enter city name = kotdwara\n",
      "enter preffered user id = ak15072419@gmail.com\n",
      "chose your password = amit@8281\n",
      "enter phone number = 8279639443\n"
     ]
    }
   ],
   "source": [
    "class account: #this class\n",
    "    def __init__(self, name         = input('enter your name = '),\n",
    "                      last_name    =input('enter your last name = '),\n",
    "                      city         = input('enter city name = '),\n",
    "                      user_id      = input('enter preffered user id = '),\n",
    "                      password     = input('chose your password = '),\n",
    "                      phone        = input('enter phone number = ')): #attributes/arguments.\n",
    "#data initialization\n",
    "        self.name       = name\n",
    "        self.last_name  = last_name\n",
    "        self.city       = city\n",
    "        self.user_id    = user_id\n",
    "        self.password   = password\n",
    "        self.phone      = phone\n",
    "        \n",
    "    def login(self):  #method\n",
    "        while True:\n",
    "            signin = input('email - ')\n",
    "            password = input('password - ')\n",
    "            if signin == self.user_id and password == self.password:\n",
    "                print('succesfully logged in')\n",
    "                break\n",
    "            else:\n",
    "                print('user id or password is invalid')\n",
    "                continue"
   ]
  },
  {
   "cell_type": "code",
   "execution_count": 4,
   "id": "83c617c9",
   "metadata": {},
   "outputs": [],
   "source": [
    "## instantiating a class and creat a object for the class. Here bank is an object for class account\n",
    "bank = account()"
   ]
  },
  {
   "cell_type": "code",
   "execution_count": 5,
   "id": "8bc70797",
   "metadata": {},
   "outputs": [
    {
     "name": "stdout",
     "output_type": "stream",
     "text": [
      "email - ak15072419@gmail.com\n",
      "password - Amit@123\n",
      "user id or password is invalid\n",
      "email - ak15072419@gmail.com\n",
      "password - Amit@8281\n",
      "user id or password is invalid\n",
      "email - ak15072419@gmail.com\n",
      "password - amit@8281\n",
      "succesfully logged in\n"
     ]
    }
   ],
   "source": [
    "##calling method\n",
    "bank.login()"
   ]
  },
  {
   "cell_type": "markdown",
   "id": "0d30ad5c",
   "metadata": {},
   "source": [
    "# 2. inheritance"
   ]
  },
  {
   "cell_type": "markdown",
   "id": "bcb34dfe",
   "metadata": {},
   "source": [
    "once a class is defined it models concept. it is useful to extend a class beheaviour to model a less general concept. Say we need to copy properties of old account and addd new property to attribute and creat new version of account."
   ]
  },
  {
   "cell_type": "code",
   "execution_count": 14,
   "id": "d0e21844",
   "metadata": {},
   "outputs": [],
   "source": [
    "class user_account(account):\n",
    "    \n",
    "    def __init__(self, acc_number, balance, *args):\n",
    "        super(user_account, self). __init__(*args)\n",
    "        self.acc_number = acc_number\n",
    "        self.balance    = balance\n",
    "        \n",
    "    def user_details(self):\n",
    "        while True:\n",
    "            account = int(input('Enter your account number = '))\n",
    "            if account == self.acc_number:\n",
    "                print('name = ', self.name)\n",
    "                print('acc num = ', self.acc_number)\n",
    "                print ('your balance = ',self.balance)\n",
    "                \n",
    "                break\n",
    "            else:\n",
    "                print('account number is not valid')\n",
    "                continue\n",
    "    def deposit(self):\n",
    "        print('your previous balance = ', self.balance)\n",
    "        add_cash = int(input('deposit cash = '))\n",
    "        self.balance += add_cash\n",
    "        print('\\n HDFC Bank: Rs ', add_cash,'deposit to your account ',self.acc_number, 'and your current balance is ',self.balance)\n",
    "        \n",
    "    def transfer (self):\n",
    "        print('your privious balance =',self.balance)\n",
    "        \n",
    "        withdraw = int(input('how much you want to transfer = '))\n",
    "        if withdraw <= self.balance:\n",
    "            self.balance -= withdraw\n",
    "            print('\\n HDFC Bank: Rs ', withdraw,'withdraw form your account ',self.acc_number, 'and your current balance is ',self.balance)\n",
    "        else:\n",
    "            print(\"\\n hellowwww Boss you dont have sufficiant fund\")"
   ]
  },
  {
   "cell_type": "code",
   "execution_count": 17,
   "id": "67d926a4",
   "metadata": {},
   "outputs": [],
   "source": [
    "bank_details = user_account(55555,0)"
   ]
  },
  {
   "cell_type": "code",
   "execution_count": 18,
   "id": "174d3b16",
   "metadata": {},
   "outputs": [
    {
     "name": "stdout",
     "output_type": "stream",
     "text": [
      "email - ak15072419@gmail.com\n",
      "password - amit@8281\n",
      "succesfully logged in\n"
     ]
    }
   ],
   "source": [
    "#you can connect to new object for login\n",
    "bank_details.login()"
   ]
  },
  {
   "cell_type": "code",
   "execution_count": 19,
   "id": "f7305ae7",
   "metadata": {},
   "outputs": [
    {
     "name": "stdout",
     "output_type": "stream",
     "text": [
      "Enter your account number = 55555\n",
      "name =  amit bhardwaj\n",
      "acc num =  55555\n",
      "your balance =  0\n"
     ]
    }
   ],
   "source": [
    "#check your personal details\n",
    "bank_details.user_details()"
   ]
  },
  {
   "cell_type": "code",
   "execution_count": 21,
   "id": "6302d793",
   "metadata": {},
   "outputs": [
    {
     "name": "stdout",
     "output_type": "stream",
     "text": [
      "your previous balance =  15000\n",
      "deposit cash = 17000\n",
      "\n",
      " HDFC Bank: Rs  17000 deposit to your account  55555 and your current balance is  32000\n"
     ]
    }
   ],
   "source": [
    "#cash deposit\n",
    "bank_details.deposit()"
   ]
  },
  {
   "cell_type": "code",
   "execution_count": 23,
   "id": "44794d32",
   "metadata": {},
   "outputs": [
    {
     "name": "stdout",
     "output_type": "stream",
     "text": [
      "your privious balance = 32000\n",
      "how much you want to transfer = 12000\n",
      "\n",
      " HDFC Bank: Rs  12000 withdraw form your account  55555 and your current balance is  20000\n"
     ]
    }
   ],
   "source": [
    "#cash withdrawl/transfer\n",
    "bank_details.transfer()"
   ]
  },
  {
   "cell_type": "markdown",
   "id": "3e3a2342",
   "metadata": {},
   "source": [
    "A account is one of the base classes of User_account and User_account is one of the sub classes of Account . Be aware that a subclass known about its superclasses but the converse is not true."
   ]
  },
  {
   "cell_type": "markdown",
   "id": "7c551752",
   "metadata": {},
   "source": [
    "a sub class doesn't onlu inharits from its base classes, but from its base classes too, forming an inheritance tree that starts from a objecxt( every class base class)"
   ]
  },
  {
   "cell_type": "markdown",
   "id": "5c66ee02",
   "metadata": {},
   "source": [
    "super(class, instance)"
   ]
  },
  {
   "cell_type": "markdown",
   "id": "29b94dd2",
   "metadata": {},
   "source": [
    "# Encapsulation"
   ]
  },
  {
   "cell_type": "markdown",
   "id": "6b25bf3f",
   "metadata": {},
   "source": [
    "encaptulation is an another powerful way to extand a class which consists on wrapping an objest with a second one."
   ]
  },
  {
   "cell_type": "markdown",
   "id": "773e33a4",
   "metadata": {},
   "source": [
    "jsut like gmail gdrive google photo are wrapped into one"
   ]
  },
  {
   "cell_type": "markdown",
   "id": "4d819d25",
   "metadata": {},
   "source": [
    "the abstraction process realise on creating a simplyfied modal that remove useless details from a concept. in order to be simplified , a model should be described in terms of other simpler concepts. For example we can say that a car is composed by;"
   ]
  },
  {
   "cell_type": "raw",
   "id": "ce5e49f0",
   "metadata": {},
   "source": [
    ". Tyres\n",
    ". Engine\n",
    ". Body"
   ]
  },
  {
   "cell_type": "markdown",
   "id": "6ca6462f",
   "metadata": {},
   "source": [
    "and break down each one of these elements in simpler parts until we reach primitive data."
   ]
  },
  {
   "cell_type": "code",
   "execution_count": 11,
   "id": "424b0603",
   "metadata": {},
   "outputs": [
    {
     "name": "stdout",
     "output_type": "stream",
     "text": [
      "Tyres: \n",
      " \tBranch: MRF\n",
      " \tBelted-bias: True\n",
      " \t Optimal pressure: 34\n",
      "Engine: \n",
      " \tFuel type: Petrol\n",
      " \tNoise level:2.3\n",
      "Body: \n",
      " \tSize: SUV\n"
     ]
    }
   ],
   "source": [
    "class Tyres:\n",
    "    def __init__ (self, branch, belted_bias, opt_pressure):\n",
    "        self.branch = branch\n",
    "        self.belted_bias = belted_bias\n",
    "        self.opt_pressure = opt_pressure\n",
    "        \n",
    "    def __str__ (self): #__str__ can be used if you dont want to define a method name but you want\n",
    "        return(\"Tyres: \\n \\tBranch: \" + self.branch +\n",
    "              \"\\n \\tBelted-bias: \"+ str(self.belted_bias) + \n",
    "              \"\\n \\t Optimal pressure: \" + str(self.opt_pressure))\n",
    "    \n",
    "class Engine:\n",
    "    def __init__ (self, fuel_type, noise_level):\n",
    "        self.fuel_type = fuel_type\n",
    "        self.noise_level = noise_level\n",
    "        \n",
    "    def __str__ (self):\n",
    "        return (\"Engine: \\n \\tFuel type: \" + self.fuel_type +\n",
    "               \"\\n \\tNoise level:\" + str(self.noise_level))\n",
    "    \n",
    "class Body:\n",
    "    def __init__ (self, size):\n",
    "        self.size = size\n",
    "        \n",
    "    def __str__(self):\n",
    "        return (\"Body: \\n \\tSize: \" + self.size)\n",
    "    \n",
    "class Car:\n",
    "    def __init__(self, tyres, engine, body):\n",
    "        self.tyres = tyres\n",
    "        self.engine = engine\n",
    "        self.body = body\n",
    "        \n",
    "    def __str__ (self):\n",
    "        return (str(self.tyres) + '\\n' + str(self.engine) + '\\n' + str(self.body))\n",
    "    \n",
    "t = Tyres('MRF', True, 34)\n",
    "e = Engine ('Petrol', 2.3)\n",
    "b = Body('SUV')\n",
    "\n",
    "c = Car(t, e, b)\n",
    "print(c)"
   ]
  },
  {
   "cell_type": "code",
   "execution_count": null,
   "id": "60603f02",
   "metadata": {},
   "outputs": [],
   "source": []
  },
  {
   "cell_type": "code",
   "execution_count": null,
   "id": "0616963b",
   "metadata": {},
   "outputs": [],
   "source": []
  },
  {
   "cell_type": "code",
   "execution_count": null,
   "id": "7f934d17",
   "metadata": {},
   "outputs": [],
   "source": []
  },
  {
   "cell_type": "code",
   "execution_count": null,
   "id": "e0ac4d2e",
   "metadata": {},
   "outputs": [],
   "source": []
  },
  {
   "cell_type": "code",
   "execution_count": null,
   "id": "d697b1a7",
   "metadata": {},
   "outputs": [],
   "source": []
  }
 ],
 "metadata": {
  "kernelspec": {
   "display_name": "Python 3 (ipykernel)",
   "language": "python",
   "name": "python3"
  },
  "language_info": {
   "codemirror_mode": {
    "name": "ipython",
    "version": 3
   },
   "file_extension": ".py",
   "mimetype": "text/x-python",
   "name": "python",
   "nbconvert_exporter": "python",
   "pygments_lexer": "ipython3",
   "version": "3.9.12"
  }
 },
 "nbformat": 4,
 "nbformat_minor": 5
}
