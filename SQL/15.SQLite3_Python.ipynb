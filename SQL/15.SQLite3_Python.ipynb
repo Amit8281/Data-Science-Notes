{
 "cells": [
  {
   "cell_type": "markdown",
   "id": "74db2bfd",
   "metadata": {},
   "source": [
    "# SQLite3_Python"
   ]
  },
  {
   "cell_type": "code",
   "execution_count": 1,
   "id": "97b05b2b",
   "metadata": {},
   "outputs": [],
   "source": [
    "#!/usr/bin/python\n",
    "\n",
    "import sqlite3\n",
    "\n",
    "#connecting with the database (if there is no database exist , it will creat one)\n",
    "db = sqlite3.connect(\"student_database.db\")"
   ]
  },
  {
   "cell_type": "code",
   "execution_count": 2,
   "id": "e692b60c",
   "metadata": {},
   "outputs": [],
   "source": [
    "#Declare Cursor\n",
    "cursor = db.cursor()"
   ]
  },
  {
   "cell_type": "code",
   "execution_count": 6,
   "id": "9d9c88e4",
   "metadata": {},
   "outputs": [
    {
     "data": {
      "text/plain": [
       "<sqlite3.Cursor at 0x1d81838ec70>"
      ]
     },
     "execution_count": 6,
     "metadata": {},
     "output_type": "execute_result"
    }
   ],
   "source": [
    "#creat table\n",
    "cursor.execute(\"CREATE TABLE student_data(phone_number INT PRIMARY KEY, email_id TEXT, course_name TEXT,fee_paid INT)\")"
   ]
  },
  {
   "cell_type": "code",
   "execution_count": 7,
   "id": "a0443158",
   "metadata": {},
   "outputs": [
    {
     "name": "stdout",
     "output_type": "stream",
     "text": [
      "1 Record(s) inserted\n"
     ]
    }
   ],
   "source": [
    "#Insert records into the table.(single record inserting)\n",
    "cursor.execute(\"INSERT INTO student_data(phone_number, email_id, course_name, fee_paid) VALUES (600000000, 'ak16072419@gmail.com', 'Data Science', 30000)\")\n",
    "\n",
    "#save the records permenentaly. (if you dont commit, next time you will not see the records)\n",
    "db.commit()\n",
    "\n",
    "#count of record inserted\n",
    "print(cursor.rowcount,\"Record(s) inserted\")"
   ]
  },
  {
   "cell_type": "markdown",
   "id": "8ebaa13f",
   "metadata": {},
   "source": [
    "**SELECT query - how to fetch records from the table**"
   ]
  },
  {
   "cell_type": "code",
   "execution_count": 8,
   "id": "9877f310",
   "metadata": {},
   "outputs": [
    {
     "name": "stdout",
     "output_type": "stream",
     "text": [
      "(600000000, 'ak16072419@gmail.com', 'Data Science', 30000)\n"
     ]
    }
   ],
   "source": [
    "results = cursor.execute(\"SELECT * FROM student_data\")\n",
    "for row in results:\n",
    "    print(row)"
   ]
  },
  {
   "cell_type": "markdown",
   "id": "0bfe392c",
   "metadata": {},
   "source": [
    "**multiple records insertion**"
   ]
  },
  {
   "cell_type": "code",
   "execution_count": 9,
   "id": "50c090f9",
   "metadata": {},
   "outputs": [
    {
     "name": "stdout",
     "output_type": "stream",
     "text": [
      "2 Record(s) inserted\n"
     ]
    }
   ],
   "source": [
    "cursor.execute(\"INSERT INTO student_data VALUES(7000000000,'student2@gmail.com','Data Science',70000),(9000000000,'student3@gmail.com','Data Science',80000)\")\n",
    "db.commit()\n",
    "#count of record insertion\n",
    "print(cursor.rowcount,\"Record(s) inserted\")"
   ]
  },
  {
   "cell_type": "code",
   "execution_count": 10,
   "id": "345dd606",
   "metadata": {},
   "outputs": [
    {
     "name": "stdout",
     "output_type": "stream",
     "text": [
      "(600000000, 'ak16072419@gmail.com', 'Data Science', 30000)\n",
      "(7000000000, 'student2@gmail.com', 'Data Science', 70000)\n",
      "(9000000000, 'student3@gmail.com', 'Data Science', 80000)\n"
     ]
    }
   ],
   "source": [
    "results = cursor.execute(\"SELECT * FROM student_data\")\n",
    "for row in results:\n",
    "    print(row)"
   ]
  },
  {
   "cell_type": "markdown",
   "id": "2261c80e",
   "metadata": {},
   "source": [
    "**how to lode data from file into table.**"
   ]
  },
  {
   "cell_type": "markdown",
   "id": "85db8a3d",
   "metadata": {},
   "source": [
    "**note: keep CSV file in the same folder where your jupyter notebook i9s present or provide folder link. You cannnot open file directaly from github.**"
   ]
  },
  {
   "cell_type": "code",
   "execution_count": null,
   "id": "6aa961d5",
   "metadata": {},
   "outputs": [],
   "source": [
    "with open ('DT_Students.csv','r') as file:\n",
    "    no_records = 0\n",
    "    for row in file:\n",
    "        cursor.execute(\"INSERT INTO student_data VALUES ( ?,?,?,? )\", row.split(\",\"))\n",
    "        db.commit()\n",
    "        no_records += 1\n",
    "        \n",
    "print(no_records, 'records Inserted')"
   ]
  },
  {
   "cell_type": "code",
   "execution_count": null,
   "id": "fc0ba3f6",
   "metadata": {},
   "outputs": [],
   "source": [
    "result = cursor.execute(\"SELECT * FROM student_data\")\n",
    "for row in result:\n",
    "    print(row)"
   ]
  },
  {
   "cell_type": "markdown",
   "id": "20dc358d",
   "metadata": {},
   "source": [
    "**WHERE clause - select records based on condition**"
   ]
  },
  {
   "cell_type": "code",
   "execution_count": null,
   "id": "1becb3eb",
   "metadata": {},
   "outputs": [],
   "source": [
    "sql = \"SELECT * FROM student_data WHERE fee_paid > 70000\"\n",
    "#sql = \"SELECT * FROM student_data WHERE course_name ='Data Science'\"\n",
    "result = cursor.execute(sql)\n",
    "for row in result:\n",
    "    print(row)"
   ]
  },
  {
   "cell_type": "code",
   "execution_count": null,
   "id": "dcc0963d",
   "metadata": {},
   "outputs": [],
   "source": [
    "result = cursor.execute(\"SELECT phone_number, fee_paid FROM student_data\")\n",
    "for row in result:\n",
    "    print(row)"
   ]
  },
  {
   "cell_type": "markdown",
   "id": "8fcf8c2b",
   "metadata": {},
   "source": [
    "# ORDER BY"
   ]
  },
  {
   "cell_type": "code",
   "execution_count": null,
   "id": "1716528f",
   "metadata": {},
   "outputs": [],
   "source": [
    "#how to chwngw the order of records (increasing or decreasing)\n",
    "result = cursor.execute(\"SELECT * FROM student_data ORDER BY fee_paid DESC\")\n",
    "for row in result:\n",
    "    print(row)"
   ]
  },
  {
   "cell_type": "code",
   "execution_count": null,
   "id": "70687441",
   "metadata": {},
   "outputs": [],
   "source": []
  },
  {
   "cell_type": "code",
   "execution_count": null,
   "id": "7d365b8d",
   "metadata": {},
   "outputs": [],
   "source": [
    "#single record update\n",
    "sql= \"update student_data set course_name = 'Data Science' where phone_number = 9988776612 \"\n",
    "cursor.execute(sql)"
   ]
  },
  {
   "cell_type": "code",
   "execution_count": null,
   "id": "1ff5160b",
   "metadata": {},
   "outputs": [],
   "source": [
    "#check if course name update for the perticular number\n",
    "sql = \"SELECT * FROM student_data WHERE phone_number =9988776612\"\n",
    "result = cursor.execute(sql)\n",
    "for row in result:\n",
    "    print(row)"
   ]
  },
  {
   "cell_type": "code",
   "execution_count": null,
   "id": "b2a70482",
   "metadata": {},
   "outputs": [],
   "source": [
    "#multiple conditions\n",
    "sql= \"SELECT phone_number, course_name,fee_paid FROM student_data WHERE course_name = 'Data Science' AND fee_paid<=50000\"\n",
    "result = cursor.execute(sql)\n",
    "for row in result:\n",
    "    print(row)"
   ]
  },
  {
   "cell_type": "code",
   "execution_count": null,
   "id": "1df04ddd",
   "metadata": {},
   "outputs": [],
   "source": [
    "#multiple records update using in\n",
    "sql = \"UPDATE student_data SET fee_paid = 140000 WHERE phone_number IN (9988776611,9988776623,9988776615)\"\n",
    "cursor.execute(sql)"
   ]
  },
  {
   "cell_type": "code",
   "execution_count": null,
   "id": "f28a1b64",
   "metadata": {},
   "outputs": [],
   "source": [
    "#varify if its updated\n",
    "result = cursor.execute(\"SELECT phone_number,fee_paid FROM student_data WHERE phone_number IN (9988776611,9988776623,9988776615)\")\n",
    "for row in result:\n",
    "    print(row)"
   ]
  },
  {
   "cell_type": "code",
   "execution_count": null,
   "id": "aae99995",
   "metadata": {},
   "outputs": [],
   "source": [
    "#update records  using BETWEEN(THIS WILL UPDATE ALL THE RECORDS BETWEEN THE RANGE GIVEN)\n",
    "sql = \"UPDATE student_data SET course_name= 'Tableau' WHERE phone_number BETWEEN 9988776612 AND 9988776616\"\n",
    "cursor.execute(sql)\n",
    "\n",
    "#varify if its update\n",
    "result =cursor.execute(\"SELECT phone_number,course_name FROM student_data WHERE course_name = 'Tableau'\")\n",
    "for row in result:\n",
    "    print(row)"
   ]
  },
  {
   "cell_type": "markdown",
   "id": "45294c87",
   "metadata": {},
   "source": [
    "# Min and Max function"
   ]
  },
  {
   "cell_type": "code",
   "execution_count": null,
   "id": "60117816",
   "metadata": {},
   "outputs": [],
   "source": [
    "#MIN\n",
    "result = cursor.execute(\"SELECT MIN(fee_paid) FROM student_data\")\n",
    "print('Minimum fees = ' , result.fetchone())\n",
    "\n",
    "#MAX\n",
    "result = cursor.execute(\"SELECT MAX(fee_paid) FROM student_data\")\n",
    "print('Miximum fees = ' , result.fetchone())"
   ]
  },
  {
   "cell_type": "markdown",
   "id": "3521eb25",
   "metadata": {},
   "source": [
    "**DELETE records - how to delete unwanted records.**"
   ]
  },
  {
   "cell_type": "markdown",
   "id": "f9364bf2",
   "metadata": {},
   "source": [
    "usually developers/Data scientist are not authorized to delete any records from the table . Database admin does this kind of task.."
   ]
  },
  {
   "cell_type": "code",
   "execution_count": null,
   "id": "6ba9223c",
   "metadata": {},
   "outputs": [],
   "source": [
    "sql = \"DELETE FROM student_data WHERE phone_number = 9988776623\"\n",
    "cursor.execute (sql)\n",
    "db.commit()"
   ]
  },
  {
   "cell_type": "markdown",
   "id": "b5c75a50",
   "metadata": {},
   "source": [
    "# Subquery"
   ]
  },
  {
   "cell_type": "markdown",
   "id": "6df1b784",
   "metadata": {},
   "source": [
    "in SQL a Subquerry is a querry within another querry . in other words we can say that a subquery is a query that is embedded in WHERE clause of another SQL query . Important rules of Subquery.."
   ]
  },
  {
   "cell_type": "markdown",
   "id": "280734c6",
   "metadata": {},
   "source": [
    "you can place the Subquery in a number of SQL clauses: WHERE clause, FROM claus. Subquery can be used with SELECT,UPDATE, INSERT DELETE statement along with expression operator . it could be equality operator of comparision operator such as =,>,=,<= and like operator."
   ]
  },
  {
   "cell_type": "code",
   "execution_count": null,
   "id": "d9eb58d6",
   "metadata": {},
   "outputs": [],
   "source": [
    "#db = sqlite3.connect(\"student_course_database.db\")"
   ]
  },
  {
   "cell_type": "code",
   "execution_count": null,
   "id": "a6496d14",
   "metadata": {},
   "outputs": [],
   "source": [
    "#cur=db.cursor()"
   ]
  },
  {
   "cell_type": "code",
   "execution_count": null,
   "id": "f4125801",
   "metadata": {},
   "outputs": [],
   "source": [
    "cursor.execute(\"CREATE TABLE course1(courseid int primary key,coursename text,duration int)\")"
   ]
  },
  {
   "cell_type": "code",
   "execution_count": null,
   "id": "51749411",
   "metadata": {},
   "outputs": [],
   "source": [
    "cursor.execute(\"CREATE TABLE student1 (roll_no int primary key, studentname text, age int, courseid int,foreign key(courseid) references course1(courseid))\")"
   ]
  },
  {
   "cell_type": "code",
   "execution_count": null,
   "id": "b260430a",
   "metadata": {},
   "outputs": [],
   "source": [
    "cursor.execute(\"INSERT INTO course1 VALUES(78,'Data Science',12),(56,'Python course',4),(101,'Database',7)\")\n",
    "print(cursor.rowcount,\"record(s) inserted \")\n",
    "\n",
    "db.commit;"
   ]
  },
  {
   "cell_type": "code",
   "execution_count": null,
   "id": "9287a56b",
   "metadata": {},
   "outputs": [],
   "source": [
    "cursor.execute(\"INSERT INTO student1 VALUES(1, 'jack',22,78),(2,'john',21,56),(3,'Rudolf',18,78),(4,'jim',21,56)\")\n",
    "print(cursor.execute,\"record(s) inserted \")\n",
    "db.commit;"
   ]
  },
  {
   "cell_type": "code",
   "execution_count": null,
   "id": "f1ace74f",
   "metadata": {},
   "outputs": [],
   "source": [
    "result= cursor.execute('SELECT * FROM course1')\n",
    "for row in result:\n",
    "    print(row)\n",
    "    #result.fetchall"
   ]
  },
  {
   "cell_type": "code",
   "execution_count": null,
   "id": "c3a3f1b6",
   "metadata": {},
   "outputs": [],
   "source": [
    "result= cursor.execute('SELECT * FROM student1')\n",
    "for row in result:\n",
    "    print(row)\n",
    "    #result.fetchall"
   ]
  },
  {
   "cell_type": "code",
   "execution_count": null,
   "id": "e51b45de",
   "metadata": {},
   "outputs": [],
   "source": [
    "result= cursor.execute('SELECT courseid FROM course1 WHERE coursename=\"Python course\"')\n",
    "for i in result:\n",
    "    print(i)"
   ]
  },
  {
   "cell_type": "code",
   "execution_count": null,
   "id": "6e9b670b",
   "metadata": {},
   "outputs": [],
   "source": [
    "result= cursor.execute('SELECT* FROM student1 WHERE courseid=(select courseid from course1 where coursename=\"Data Science\")')\n",
    "result.fetchall()"
   ]
  },
  {
   "cell_type": "code",
   "execution_count": null,
   "id": "d726bf92",
   "metadata": {},
   "outputs": [],
   "source": [
    "result= cursor.execute('SELECT* FROM student1 WHERE courseid=(select courseid from course1 where coursename=\"Python course\")')\n",
    "result.fetchall()"
   ]
  },
  {
   "cell_type": "markdown",
   "id": "c9bcb4dc",
   "metadata": {},
   "source": [
    "**Fetch records using wildcard(%)**"
   ]
  },
  {
   "cell_type": "code",
   "execution_count": null,
   "id": "caf9417a",
   "metadata": {},
   "outputs": [],
   "source": [
    "# => %x = can start with any letter but should end with x(% is wildcard it can be any letter)\n",
    "# => x% = must start with letter x and can end with any letter\n",
    "# => %x% = word must contain x anuwhere inside the word . even it is first letter it will still fetch\n",
    "result= cursor.execute(\"SELECT * FROM student1 WHERE studentname LIKE '%o%'\")\n",
    "for i in result:\n",
    "    print (i)"
   ]
  },
  {
   "cell_type": "markdown",
   "id": "2522b6e8",
   "metadata": {},
   "source": [
    "# join"
   ]
  },
  {
   "cell_type": "markdown",
   "id": "08115407",
   "metadata": {},
   "source": [
    "**Diffrent type of SQL JOINs**"
   ]
  },
  {
   "cell_type": "markdown",
   "id": "04891a12",
   "metadata": {},
   "source": [
    ". **(INNER) JOIN**: returns record that have matching values in both tables"
   ]
  },
  {
   "cell_type": "markdown",
   "id": "0723571b",
   "metadata": {},
   "source": [
    "**.LEFT(OUTER) JOIN**: returns all record from the left table , and tyhe matched records from the right table"
   ]
  },
  {
   "cell_type": "markdown",
   "id": "e1157b48",
   "metadata": {},
   "source": [
    "**.RIGHT(OUTER) JOIN**:  returns all record from the right table , and tyhe matched records from the left table"
   ]
  },
  {
   "cell_type": "markdown",
   "id": "58123568",
   "metadata": {},
   "source": [
    "**.FULL(OUTER)JOIN**: RETURN ALL RECORD WHEN THERE IS A MATCH IN EITHER LEFT OR RIGHT TABLE"
   ]
  },
  {
   "cell_type": "code",
   "execution_count": null,
   "id": "f1dec324",
   "metadata": {},
   "outputs": [],
   "source": [
    "#CREAT ONE MORE TBALE\n",
    "cursor.execute(\"CREATE TABLE stud_det(phone_number INT PRIMARY KEY , student_name TEXT , enrolled_date TEXT , marks INT) \")\n",
    "\n",
    "with open ('students_details.csv','r') as file:\n",
    "    no_records = 0\n",
    "    for row in file:\n",
    "        cursor.execute(\"INSERT INTO stud_det VALUES (?,?,?,?)\",row.split(\",\"))\n",
    "        db.commit()\n",
    "        no_records +=1\n",
    "        print(no_records, 'Records Inserted')"
   ]
  },
  {
   "cell_type": "code",
   "execution_count": null,
   "id": "fb57054b",
   "metadata": {},
   "outputs": [],
   "source": [
    "#varify if record inserted\n",
    "result = cursor.execute(\"SELECT *FROM stud_det\")\n",
    "for row in result:\n",
    "    print(row)"
   ]
  },
  {
   "cell_type": "markdown",
   "id": "70a31e81",
   "metadata": {},
   "source": [
    "# INNER JOIN"
   ]
  },
  {
   "cell_type": "code",
   "execution_count": null,
   "id": "40747669",
   "metadata": {},
   "outputs": [],
   "source": [
    "SQL = \"SELECT student_data.phone_number, stud_det.enrolled_date, stud_det.marks, stud_det.student_name FROM stud_det INNER JOIN student_data ON student_data.phone_number = stud_det.phone_number\"\n",
    "result = cursor.execute(sql)\n",
    "for row in result:\n",
    "    print(row)"
   ]
  },
  {
   "cell_type": "code",
   "execution_count": null,
   "id": "e1519ed5",
   "metadata": {},
   "outputs": [],
   "source": []
  },
  {
   "cell_type": "markdown",
   "id": "c31e5965",
   "metadata": {},
   "source": [
    "# LEFT JOIN"
   ]
  },
  {
   "cell_type": "code",
   "execution_count": null,
   "id": "25df32da",
   "metadata": {},
   "outputs": [],
   "source": [
    "SQL = \"SELECT student_data.phone_number, stud_det.enrolled_date, stud_det.marks, stud_det.student_name FROM stud_det LEFT JOIN student_data ON student_data.phone_number = stud_det.phone_number\"\n",
    "result = cursor.execute(sql)\n",
    "for row in result:\n",
    "    print(row)"
   ]
  },
  {
   "cell_type": "markdown",
   "id": "1ddfef58",
   "metadata": {},
   "source": [
    "**RIGHT JOIN and FULL OUTER JOIN not supported in Sqlite3.**"
   ]
  },
  {
   "cell_type": "markdown",
   "id": "1765801c",
   "metadata": {},
   "source": [
    "**Python and SQL (how to deal with Python code)**"
   ]
  },
  {
   "cell_type": "code",
   "execution_count": null,
   "id": "1232e9d7",
   "metadata": {},
   "outputs": [
    {
     "name": "stdout",
     "output_type": "stream",
     "text": [
      "phone number should be numeric\n"
     ]
    }
   ],
   "source": [
    "while True:\n",
    "    try:\n",
    "        ph_num = int(input('Your mobile number '))\n",
    "        if len(str(ph_num)) != 10:\n",
    "            print('Enter 10 digit phone number')\n",
    "            continue\n",
    "        else:\n",
    "            result = cursor.execute(\"SELECT * FROM stud_det\")\n",
    "            for detail in result:\n",
    "                if detail[0] == ph_num:\n",
    "                    print('Name : ',detail[1])\n",
    "                    print('DOJ : ',detail[2])\n",
    "                    print('Mark : ',detail[3])\n",
    "                    break\n",
    "                    \n",
    "            else:\n",
    "                print('phone number not found in database')\n",
    "                continue\n",
    "            break\n",
    "    except:\n",
    "        print('phone number should be numeric')\n",
    "        continue"
   ]
  },
  {
   "cell_type": "code",
   "execution_count": null,
   "id": "3d464f23",
   "metadata": {},
   "outputs": [],
   "source": []
  },
  {
   "cell_type": "code",
   "execution_count": null,
   "id": "c37946da",
   "metadata": {},
   "outputs": [],
   "source": []
  },
  {
   "cell_type": "code",
   "execution_count": 5,
   "id": "60346561",
   "metadata": {},
   "outputs": [
    {
     "data": {
      "text/plain": [
       "<sqlite3.Cursor at 0x1d81838ec70>"
      ]
     },
     "execution_count": 5,
     "metadata": {},
     "output_type": "execute_result"
    }
   ],
   "source": [
    "sql = \"DROP TABLE student_data\"\n",
    "cursor.execute(sql)"
   ]
  },
  {
   "cell_type": "code",
   "execution_count": null,
   "id": "4a9a9b7b",
   "metadata": {},
   "outputs": [],
   "source": []
  },
  {
   "cell_type": "code",
   "execution_count": null,
   "id": "0f544253",
   "metadata": {},
   "outputs": [],
   "source": []
  },
  {
   "cell_type": "code",
   "execution_count": null,
   "id": "41dbd960",
   "metadata": {},
   "outputs": [],
   "source": []
  },
  {
   "cell_type": "code",
   "execution_count": null,
   "id": "abcdf041",
   "metadata": {},
   "outputs": [],
   "source": []
  },
  {
   "cell_type": "code",
   "execution_count": null,
   "id": "04c0b7f4",
   "metadata": {},
   "outputs": [],
   "source": []
  },
  {
   "cell_type": "code",
   "execution_count": null,
   "id": "f66fae93",
   "metadata": {},
   "outputs": [],
   "source": []
  },
  {
   "cell_type": "code",
   "execution_count": null,
   "id": "688ed013",
   "metadata": {},
   "outputs": [],
   "source": []
  },
  {
   "cell_type": "code",
   "execution_count": null,
   "id": "ca92aa38",
   "metadata": {},
   "outputs": [],
   "source": []
  },
  {
   "cell_type": "code",
   "execution_count": null,
   "id": "815a5625",
   "metadata": {},
   "outputs": [],
   "source": []
  },
  {
   "cell_type": "code",
   "execution_count": null,
   "id": "3eecac4f",
   "metadata": {},
   "outputs": [],
   "source": []
  }
 ],
 "metadata": {
  "kernelspec": {
   "display_name": "Python 3 (ipykernel)",
   "language": "python",
   "name": "python3"
  },
  "language_info": {
   "codemirror_mode": {
    "name": "ipython",
    "version": 3
   },
   "file_extension": ".py",
   "mimetype": "text/x-python",
   "name": "python",
   "nbconvert_exporter": "python",
   "pygments_lexer": "ipython3",
   "version": "3.9.12"
  }
 },
 "nbformat": 4,
 "nbformat_minor": 5
}
